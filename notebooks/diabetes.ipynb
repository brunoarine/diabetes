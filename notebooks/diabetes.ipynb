{
 "cells": [
  {
   "cell_type": "code",
   "execution_count": 1,
   "id": "chicken-speech",
   "metadata": {},
   "outputs": [],
   "source": [
    "import pandas as pd\n",
    "import numpy as np\n",
    "import matplotlib.pyplot as plt\n",
    "import seaborn as sns\n",
    "from sklearn.feature_selection import VarianceThreshold\n",
    "from sklearn.ensemble import RandomForestClassifier\n",
    "from sklearn.model_selection import train_test_split\n",
    "from sklearn.model_selection import StratifiedKFold\n",
    "from sklearn.model_selection import cross_val_score\n",
    "from sklearn.model_selection import GridSearchCV\n",
    "from sklearn.linear_model import LogisticRegression\n",
    "from sklearn.metrics import roc_auc_score\n",
    "import xgboost as xgb"
   ]
  },
  {
   "cell_type": "markdown",
   "id": "passive-victorian",
   "metadata": {},
   "source": [
    "# Diabetes study\n",
    "\n",
    "**Index**\n",
    "\n",
    "1. [Problem understanding](#Problem-understanding)\n",
    "2. [Data understanding](#Data-understanding)\n",
    "3. [Data preparation](#data-preparation)"
   ]
  },
  {
   "cell_type": "markdown",
   "id": "public-disease",
   "metadata": {},
   "source": [
    "<a id=\"problem-understanding\"></a>\n",
    "## Problem understanding\n",
    "\n",
    "- Diabetes is a major contributor to risk for hospital readmission, representing nearly one-fifth of all 30-day unplanned hospital readmissions. (Soh et al. 2020)\n",
    "- <u>Patient characteristics may affect the outcomes</u> (such as gender, age, race, and comorbidities) (Soh et al. 2020)\n",
    "- Early hospital readmissions have been recognized as a common and costly occurrence, particularly among elderly and high risk patients. One in five Medicare beneficiaries is readmitted within 30 days, for example, at a cost of over $26 billion per year.1 To encourage improvement in the quality of care and a reduction in unnecessary health expense; policymakers, reimbursement strategists, and the United States government have made reducing 30-day hospital readmissions a national priority.2–4 Achieving this goal, however, requires more complete understanding of the underlying causes of readmission. https://www.ncbi.nlm.nih.gov/pmc/articles/PMC4249925/\n",
    "- Why would a patient be readmitted? Hypotheses:\n",
    "    - Patient isn't properly diagnosed as diabetic in the first admission\n",
    "    - Hospital doesn't give proper care\n",
    "        - not enough exams\n",
    "        - insufficient medical intervention (medication change or procedures)\n",
    "        - \n",
    "    - Poor health\n",
    "\n",
    "<u>**Objective**</u>\n",
    "\n",
    "In this work I will try to:\n",
    "\n",
    "- Create a predictive model for early readmission (i.e. unplanned readmissions that happen within 30 days of discharge from the initial admission). Such a model could help plan interventions for high-risk patients and reduce costs for both patients and hospitals.\n",
    "- Point out patterns and insights about readmissions, and answer the following questions:\n",
    "  - Which variables are the strongest readmission predictors?\n",
    "  - Given that HbA1c values are key for planning the diabetic patient's medication (according to the literature), how often HbA1c exams are asked by physicians in the inpatient setting?\n"
   ]
  },
  {
   "cell_type": "markdown",
   "id": "declared-provision",
   "metadata": {},
   "source": [
    "<a id=\"data-understanding\"></a>\n",
    "## Data understanding"
   ]
  },
  {
   "cell_type": "markdown",
   "id": "satellite-spectacular",
   "metadata": {},
   "source": [
    "The data set comprises two files, `diabetic_data.csv` and `IDs_mapping.csv`. The former contains anonymized medical data collected during 100k encounters accross several hospitals in the United States over a decade. The latter contains a legend for some of the numerical categories (like admission type and discharge disposition)."
   ]
  },
  {
   "cell_type": "code",
   "execution_count": 2,
   "id": "fatal-college",
   "metadata": {},
   "outputs": [
    {
     "data": {
      "text/html": [
       "<div>\n",
       "<style scoped>\n",
       "    .dataframe tbody tr th:only-of-type {\n",
       "        vertical-align: middle;\n",
       "    }\n",
       "\n",
       "    .dataframe tbody tr th {\n",
       "        vertical-align: top;\n",
       "    }\n",
       "\n",
       "    .dataframe thead th {\n",
       "        text-align: right;\n",
       "    }\n",
       "</style>\n",
       "<table border=\"1\" class=\"dataframe\">\n",
       "  <thead>\n",
       "    <tr style=\"text-align: right;\">\n",
       "      <th></th>\n",
       "      <th>encounter_id</th>\n",
       "      <th>patient_nbr</th>\n",
       "      <th>race</th>\n",
       "      <th>gender</th>\n",
       "      <th>age</th>\n",
       "      <th>weight</th>\n",
       "      <th>admission_type_id</th>\n",
       "      <th>discharge_disposition_id</th>\n",
       "      <th>admission_source_id</th>\n",
       "      <th>time_in_hospital</th>\n",
       "      <th>...</th>\n",
       "      <th>citoglipton</th>\n",
       "      <th>insulin</th>\n",
       "      <th>glyburide-metformin</th>\n",
       "      <th>glipizide-metformin</th>\n",
       "      <th>glimepiride-pioglitazone</th>\n",
       "      <th>metformin-rosiglitazone</th>\n",
       "      <th>metformin-pioglitazone</th>\n",
       "      <th>change</th>\n",
       "      <th>diabetesMed</th>\n",
       "      <th>readmitted</th>\n",
       "    </tr>\n",
       "  </thead>\n",
       "  <tbody>\n",
       "    <tr>\n",
       "      <th>0</th>\n",
       "      <td>2278392</td>\n",
       "      <td>8222157</td>\n",
       "      <td>Caucasian</td>\n",
       "      <td>Female</td>\n",
       "      <td>[0-10)</td>\n",
       "      <td>?</td>\n",
       "      <td>6</td>\n",
       "      <td>25</td>\n",
       "      <td>1</td>\n",
       "      <td>1</td>\n",
       "      <td>...</td>\n",
       "      <td>No</td>\n",
       "      <td>No</td>\n",
       "      <td>No</td>\n",
       "      <td>No</td>\n",
       "      <td>No</td>\n",
       "      <td>No</td>\n",
       "      <td>No</td>\n",
       "      <td>No</td>\n",
       "      <td>No</td>\n",
       "      <td>NO</td>\n",
       "    </tr>\n",
       "    <tr>\n",
       "      <th>1</th>\n",
       "      <td>149190</td>\n",
       "      <td>55629189</td>\n",
       "      <td>Caucasian</td>\n",
       "      <td>Female</td>\n",
       "      <td>[10-20)</td>\n",
       "      <td>?</td>\n",
       "      <td>1</td>\n",
       "      <td>1</td>\n",
       "      <td>7</td>\n",
       "      <td>3</td>\n",
       "      <td>...</td>\n",
       "      <td>No</td>\n",
       "      <td>Up</td>\n",
       "      <td>No</td>\n",
       "      <td>No</td>\n",
       "      <td>No</td>\n",
       "      <td>No</td>\n",
       "      <td>No</td>\n",
       "      <td>Ch</td>\n",
       "      <td>Yes</td>\n",
       "      <td>&gt;30</td>\n",
       "    </tr>\n",
       "    <tr>\n",
       "      <th>2</th>\n",
       "      <td>64410</td>\n",
       "      <td>86047875</td>\n",
       "      <td>AfricanAmerican</td>\n",
       "      <td>Female</td>\n",
       "      <td>[20-30)</td>\n",
       "      <td>?</td>\n",
       "      <td>1</td>\n",
       "      <td>1</td>\n",
       "      <td>7</td>\n",
       "      <td>2</td>\n",
       "      <td>...</td>\n",
       "      <td>No</td>\n",
       "      <td>No</td>\n",
       "      <td>No</td>\n",
       "      <td>No</td>\n",
       "      <td>No</td>\n",
       "      <td>No</td>\n",
       "      <td>No</td>\n",
       "      <td>No</td>\n",
       "      <td>Yes</td>\n",
       "      <td>NO</td>\n",
       "    </tr>\n",
       "    <tr>\n",
       "      <th>3</th>\n",
       "      <td>500364</td>\n",
       "      <td>82442376</td>\n",
       "      <td>Caucasian</td>\n",
       "      <td>Male</td>\n",
       "      <td>[30-40)</td>\n",
       "      <td>?</td>\n",
       "      <td>1</td>\n",
       "      <td>1</td>\n",
       "      <td>7</td>\n",
       "      <td>2</td>\n",
       "      <td>...</td>\n",
       "      <td>No</td>\n",
       "      <td>Up</td>\n",
       "      <td>No</td>\n",
       "      <td>No</td>\n",
       "      <td>No</td>\n",
       "      <td>No</td>\n",
       "      <td>No</td>\n",
       "      <td>Ch</td>\n",
       "      <td>Yes</td>\n",
       "      <td>NO</td>\n",
       "    </tr>\n",
       "    <tr>\n",
       "      <th>4</th>\n",
       "      <td>16680</td>\n",
       "      <td>42519267</td>\n",
       "      <td>Caucasian</td>\n",
       "      <td>Male</td>\n",
       "      <td>[40-50)</td>\n",
       "      <td>?</td>\n",
       "      <td>1</td>\n",
       "      <td>1</td>\n",
       "      <td>7</td>\n",
       "      <td>1</td>\n",
       "      <td>...</td>\n",
       "      <td>No</td>\n",
       "      <td>Steady</td>\n",
       "      <td>No</td>\n",
       "      <td>No</td>\n",
       "      <td>No</td>\n",
       "      <td>No</td>\n",
       "      <td>No</td>\n",
       "      <td>Ch</td>\n",
       "      <td>Yes</td>\n",
       "      <td>NO</td>\n",
       "    </tr>\n",
       "  </tbody>\n",
       "</table>\n",
       "<p>5 rows × 50 columns</p>\n",
       "</div>"
      ],
      "text/plain": [
       "   encounter_id  patient_nbr             race  gender      age weight  \\\n",
       "0       2278392      8222157        Caucasian  Female   [0-10)      ?   \n",
       "1        149190     55629189        Caucasian  Female  [10-20)      ?   \n",
       "2         64410     86047875  AfricanAmerican  Female  [20-30)      ?   \n",
       "3        500364     82442376        Caucasian    Male  [30-40)      ?   \n",
       "4         16680     42519267        Caucasian    Male  [40-50)      ?   \n",
       "\n",
       "   admission_type_id  discharge_disposition_id  admission_source_id  \\\n",
       "0                  6                        25                    1   \n",
       "1                  1                         1                    7   \n",
       "2                  1                         1                    7   \n",
       "3                  1                         1                    7   \n",
       "4                  1                         1                    7   \n",
       "\n",
       "   time_in_hospital  ... citoglipton insulin  glyburide-metformin  \\\n",
       "0                 1  ...          No      No                   No   \n",
       "1                 3  ...          No      Up                   No   \n",
       "2                 2  ...          No      No                   No   \n",
       "3                 2  ...          No      Up                   No   \n",
       "4                 1  ...          No  Steady                   No   \n",
       "\n",
       "   glipizide-metformin  glimepiride-pioglitazone  metformin-rosiglitazone  \\\n",
       "0                   No                        No                       No   \n",
       "1                   No                        No                       No   \n",
       "2                   No                        No                       No   \n",
       "3                   No                        No                       No   \n",
       "4                   No                        No                       No   \n",
       "\n",
       "   metformin-pioglitazone  change diabetesMed readmitted  \n",
       "0                      No      No          No         NO  \n",
       "1                      No      Ch         Yes        >30  \n",
       "2                      No      No         Yes         NO  \n",
       "3                      No      Ch         Yes         NO  \n",
       "4                      No      Ch         Yes         NO  \n",
       "\n",
       "[5 rows x 50 columns]"
      ]
     },
     "execution_count": 2,
     "metadata": {},
     "output_type": "execute_result"
    }
   ],
   "source": [
    "df = pd.read_csv(\"../data/diabetic_data.zip\")\n",
    "df.head()"
   ]
  },
  {
   "cell_type": "markdown",
   "id": "former-beads",
   "metadata": {},
   "source": [
    "Missing values are represented by question marks in this data set. They must be replaced with np.nan if we want to use Pandas' default methods to view and handle missing data."
   ]
  },
  {
   "cell_type": "code",
   "execution_count": 3,
   "id": "breeding-guitar",
   "metadata": {},
   "outputs": [],
   "source": [
    "df.replace(\"?\", np.nan, inplace=True)"
   ]
  },
  {
   "cell_type": "markdown",
   "id": "swedish-partition",
   "metadata": {},
   "source": [
    "Overral view of the dataframe, including missing values and dtypes:"
   ]
  },
  {
   "cell_type": "code",
   "execution_count": 4,
   "id": "accurate-masters",
   "metadata": {},
   "outputs": [
    {
     "name": "stdout",
     "output_type": "stream",
     "text": [
      "<class 'pandas.core.frame.DataFrame'>\n",
      "RangeIndex: 101766 entries, 0 to 101765\n",
      "Data columns (total 50 columns):\n",
      " #   Column                    Non-Null Count   Dtype \n",
      "---  ------                    --------------   ----- \n",
      " 0   encounter_id              101766 non-null  int64 \n",
      " 1   patient_nbr               101766 non-null  int64 \n",
      " 2   race                      99493 non-null   object\n",
      " 3   gender                    101766 non-null  object\n",
      " 4   age                       101766 non-null  object\n",
      " 5   weight                    3197 non-null    object\n",
      " 6   admission_type_id         101766 non-null  int64 \n",
      " 7   discharge_disposition_id  101766 non-null  int64 \n",
      " 8   admission_source_id       101766 non-null  int64 \n",
      " 9   time_in_hospital          101766 non-null  int64 \n",
      " 10  payer_code                61510 non-null   object\n",
      " 11  medical_specialty         51817 non-null   object\n",
      " 12  num_lab_procedures        101766 non-null  int64 \n",
      " 13  num_procedures            101766 non-null  int64 \n",
      " 14  num_medications           101766 non-null  int64 \n",
      " 15  number_outpatient         101766 non-null  int64 \n",
      " 16  number_emergency          101766 non-null  int64 \n",
      " 17  number_inpatient          101766 non-null  int64 \n",
      " 18  diag_1                    101745 non-null  object\n",
      " 19  diag_2                    101408 non-null  object\n",
      " 20  diag_3                    100343 non-null  object\n",
      " 21  number_diagnoses          101766 non-null  int64 \n",
      " 22  max_glu_serum             101766 non-null  object\n",
      " 23  A1Cresult                 101766 non-null  object\n",
      " 24  metformin                 101766 non-null  object\n",
      " 25  repaglinide               101766 non-null  object\n",
      " 26  nateglinide               101766 non-null  object\n",
      " 27  chlorpropamide            101766 non-null  object\n",
      " 28  glimepiride               101766 non-null  object\n",
      " 29  acetohexamide             101766 non-null  object\n",
      " 30  glipizide                 101766 non-null  object\n",
      " 31  glyburide                 101766 non-null  object\n",
      " 32  tolbutamide               101766 non-null  object\n",
      " 33  pioglitazone              101766 non-null  object\n",
      " 34  rosiglitazone             101766 non-null  object\n",
      " 35  acarbose                  101766 non-null  object\n",
      " 36  miglitol                  101766 non-null  object\n",
      " 37  troglitazone              101766 non-null  object\n",
      " 38  tolazamide                101766 non-null  object\n",
      " 39  examide                   101766 non-null  object\n",
      " 40  citoglipton               101766 non-null  object\n",
      " 41  insulin                   101766 non-null  object\n",
      " 42  glyburide-metformin       101766 non-null  object\n",
      " 43  glipizide-metformin       101766 non-null  object\n",
      " 44  glimepiride-pioglitazone  101766 non-null  object\n",
      " 45  metformin-rosiglitazone   101766 non-null  object\n",
      " 46  metformin-pioglitazone    101766 non-null  object\n",
      " 47  change                    101766 non-null  object\n",
      " 48  diabetesMed               101766 non-null  object\n",
      " 49  readmitted                101766 non-null  object\n",
      "dtypes: int64(13), object(37)\n",
      "memory usage: 38.8+ MB\n"
     ]
    }
   ],
   "source": [
    "df.info()"
   ]
  },
  {
   "cell_type": "markdown",
   "id": "available-analyst",
   "metadata": {},
   "source": [
    "I need more details about possible values. Knowing the variable's dtypes only won't be enough, so let's see some examples of what to expect."
   ]
  },
  {
   "cell_type": "code",
   "execution_count": 5,
   "id": "pacific-portal",
   "metadata": {},
   "outputs": [
    {
     "name": "stdout",
     "output_type": "stream",
     "text": [
      "Variable              Unique     % Missing  Examples\n",
      "====================================================================================================\n",
      "encounter_id              101766     0.0    [77856768, 173015040, 84934662, 273678342, 17563668]\n",
      "patient_nbr               71518      0.0    [33947649, 92667906, 82706436, 83623941, 128319494]\n",
      "race                      6          2.2    [nan, 'Hispanic', 'Other', 'Asian', 'AfricanAmerican']\n",
      "gender                    3          0.0    ['Unknown/Invalid', 'Female', 'Male']\n",
      "age                       10         0.0    ['[30-40)', '[20-30)', '[40-50)', '[50-60)', '[70-80)']\n",
      "weight                    10         96.9   [nan, '[0-25)', '[25-50)', '[125-150)', '[175-200)']\n",
      "admission_type_id         8          0.0    [1, 2, 3, 4, 5]     \n",
      "discharge_disposition_id  26         0.0    [1, 2, 3, 4, 5]     \n",
      "admission_source_id       17         0.0    [1, 2, 3, 4, 5]     \n",
      "time_in_hospital          14         0.0    [1, 2, 3, 4, 5]     \n",
      "payer_code                18         39.6   [nan, 'HM', 'SP', 'CP', 'WC']\n",
      "medical_specialty         73         49.1   [nan, 'Surgery-Colon&Rectal', 'Emergency/Trauma', 'Urology', 'Psychiatry-Child/Adolescent']\n",
      "num_lab_procedures        118        0.0    [1, 2, 3, 4, 5]     \n",
      "num_procedures            7          0.0    [0, 1, 2, 3, 4]     \n",
      "num_medications           75         0.0    [1, 2, 3, 4, 5]     \n",
      "number_outpatient         39         0.0    [0, 1, 2, 3, 4]     \n",
      "number_emergency          33         0.0    [0, 1, 2, 3, 4]     \n",
      "number_inpatient          21         0.0    [0, 1, 2, 3, 4]     \n",
      "diag_1                    717        0.0    [nan, '838', '183', '622', '308']\n",
      "diag_2                    749        0.4    [nan, '183', '308', '622', '641']\n",
      "diag_3                    790        1.4    [nan, '838', '183', '308', '622']\n",
      "number_diagnoses          16         0.0    [1, 2, 3, 4, 5]     \n",
      "max_glu_serum             4          0.0    ['Norm', 'None', '>300', '>200']\n",
      "A1Cresult                 4          0.0    ['Norm', 'None', '>7', '>8']\n",
      "metformin                 4          0.0    ['Up', 'Down', 'Steady', 'No']\n",
      "repaglinide               4          0.0    ['Up', 'Down', 'Steady', 'No']\n",
      "nateglinide               4          0.0    ['Up', 'Down', 'Steady', 'No']\n",
      "chlorpropamide            4          0.0    ['Up', 'Down', 'Steady', 'No']\n",
      "glimepiride               4          0.0    ['Up', 'Down', 'Steady', 'No']\n",
      "acetohexamide             2          0.0    ['Steady', 'No']    \n",
      "glipizide                 4          0.0    ['Up', 'Down', 'Steady', 'No']\n",
      "glyburide                 4          0.0    ['Up', 'Down', 'Steady', 'No']\n",
      "tolbutamide               2          0.0    ['Steady', 'No']    \n",
      "pioglitazone              4          0.0    ['Up', 'Down', 'Steady', 'No']\n",
      "rosiglitazone             4          0.0    ['Up', 'Down', 'Steady', 'No']\n",
      "acarbose                  4          0.0    ['Up', 'Down', 'Steady', 'No']\n",
      "miglitol                  4          0.0    ['Up', 'Down', 'Steady', 'No']\n",
      "troglitazone              2          0.0    ['Steady', 'No']    \n",
      "tolazamide                3          0.0    ['Up', 'Steady', 'No']\n",
      "examide                   1          0.0    ['No']              \n",
      "citoglipton               1          0.0    ['No']              \n",
      "insulin                   4          0.0    ['Up', 'Down', 'Steady', 'No']\n",
      "glyburide-metformin       4          0.0    ['Up', 'Down', 'Steady', 'No']\n",
      "glipizide-metformin       2          0.0    ['Steady', 'No']    \n",
      "glimepiride-pioglitazone  2          0.0    ['Steady', 'No']    \n",
      "metformin-rosiglitazone   2          0.0    ['Steady', 'No']    \n",
      "metformin-pioglitazone    2          0.0    ['Steady', 'No']    \n",
      "change                    2          0.0    ['Ch', 'No']        \n",
      "diabetesMed               2          0.0    ['Yes', 'No']       \n",
      "readmitted                3          0.0    ['<30', 'NO', '>30']\n"
     ]
    }
   ],
   "source": [
    "print(\"Variable              Unique     % Missing  Examples\")\n",
    "print(\"=\"*100)\n",
    "for column in df:\n",
    "    uniques = set(df[column])\n",
    "    n_uniques = len(uniques)\n",
    "    missing = df[column].isnull().mean()*100\n",
    "    examples = list(uniques)[:5]\n",
    "    output = \"{:<25} {:<10} {:<6.1f} {:<20}\".format(column, n_uniques, missing, str(examples))\n",
    "    print(output)\n",
    "    "
   ]
  },
  {
   "cell_type": "markdown",
   "id": "prospective-statement",
   "metadata": {},
   "source": [
    "Evaluating the target variable balance:"
   ]
  },
  {
   "cell_type": "code",
   "execution_count": 6,
   "id": "incorrect-antibody",
   "metadata": {},
   "outputs": [
    {
     "data": {
      "text/plain": [
       "NO     54864\n",
       ">30    35545\n",
       "<30    11357\n",
       "Name: readmitted, dtype: int64"
      ]
     },
     "execution_count": 6,
     "metadata": {},
     "output_type": "execute_result"
    }
   ],
   "source": [
    "df.readmitted.value_counts()"
   ]
  },
  {
   "cell_type": "markdown",
   "id": "radio-advertising",
   "metadata": {},
   "source": [
    "Evaluating the number of patients to whom diabetes medication was prescribred during the inpatient settings:"
   ]
  },
  {
   "cell_type": "code",
   "execution_count": 7,
   "id": "divided-fifteen",
   "metadata": {},
   "outputs": [
    {
     "data": {
      "text/html": [
       "<div>\n",
       "<style scoped>\n",
       "    .dataframe tbody tr th:only-of-type {\n",
       "        vertical-align: middle;\n",
       "    }\n",
       "\n",
       "    .dataframe tbody tr th {\n",
       "        vertical-align: top;\n",
       "    }\n",
       "\n",
       "    .dataframe thead th {\n",
       "        text-align: right;\n",
       "    }\n",
       "</style>\n",
       "<table border=\"1\" class=\"dataframe\">\n",
       "  <thead>\n",
       "    <tr style=\"text-align: right;\">\n",
       "      <th></th>\n",
       "      <th>Down</th>\n",
       "      <th>No</th>\n",
       "      <th>Steady</th>\n",
       "      <th>Up</th>\n",
       "    </tr>\n",
       "  </thead>\n",
       "  <tbody>\n",
       "    <tr>\n",
       "      <th>metformin</th>\n",
       "      <td>575.0</td>\n",
       "      <td>81778.0</td>\n",
       "      <td>18346.0</td>\n",
       "      <td>1067.0</td>\n",
       "    </tr>\n",
       "    <tr>\n",
       "      <th>repaglinide</th>\n",
       "      <td>45.0</td>\n",
       "      <td>100227.0</td>\n",
       "      <td>1384.0</td>\n",
       "      <td>110.0</td>\n",
       "    </tr>\n",
       "    <tr>\n",
       "      <th>nateglinide</th>\n",
       "      <td>11.0</td>\n",
       "      <td>101063.0</td>\n",
       "      <td>668.0</td>\n",
       "      <td>24.0</td>\n",
       "    </tr>\n",
       "    <tr>\n",
       "      <th>chlorpropamide</th>\n",
       "      <td>1.0</td>\n",
       "      <td>101680.0</td>\n",
       "      <td>79.0</td>\n",
       "      <td>6.0</td>\n",
       "    </tr>\n",
       "    <tr>\n",
       "      <th>glimepiride</th>\n",
       "      <td>194.0</td>\n",
       "      <td>96575.0</td>\n",
       "      <td>4670.0</td>\n",
       "      <td>327.0</td>\n",
       "    </tr>\n",
       "    <tr>\n",
       "      <th>acetohexamide</th>\n",
       "      <td>NaN</td>\n",
       "      <td>101765.0</td>\n",
       "      <td>1.0</td>\n",
       "      <td>NaN</td>\n",
       "    </tr>\n",
       "    <tr>\n",
       "      <th>glipizide</th>\n",
       "      <td>560.0</td>\n",
       "      <td>89080.0</td>\n",
       "      <td>11356.0</td>\n",
       "      <td>770.0</td>\n",
       "    </tr>\n",
       "    <tr>\n",
       "      <th>glyburide</th>\n",
       "      <td>564.0</td>\n",
       "      <td>91116.0</td>\n",
       "      <td>9274.0</td>\n",
       "      <td>812.0</td>\n",
       "    </tr>\n",
       "    <tr>\n",
       "      <th>tolbutamide</th>\n",
       "      <td>NaN</td>\n",
       "      <td>101743.0</td>\n",
       "      <td>23.0</td>\n",
       "      <td>NaN</td>\n",
       "    </tr>\n",
       "    <tr>\n",
       "      <th>pioglitazone</th>\n",
       "      <td>118.0</td>\n",
       "      <td>94438.0</td>\n",
       "      <td>6976.0</td>\n",
       "      <td>234.0</td>\n",
       "    </tr>\n",
       "    <tr>\n",
       "      <th>rosiglitazone</th>\n",
       "      <td>87.0</td>\n",
       "      <td>95401.0</td>\n",
       "      <td>6100.0</td>\n",
       "      <td>178.0</td>\n",
       "    </tr>\n",
       "    <tr>\n",
       "      <th>acarbose</th>\n",
       "      <td>3.0</td>\n",
       "      <td>101458.0</td>\n",
       "      <td>295.0</td>\n",
       "      <td>10.0</td>\n",
       "    </tr>\n",
       "    <tr>\n",
       "      <th>miglitol</th>\n",
       "      <td>5.0</td>\n",
       "      <td>101728.0</td>\n",
       "      <td>31.0</td>\n",
       "      <td>2.0</td>\n",
       "    </tr>\n",
       "    <tr>\n",
       "      <th>troglitazone</th>\n",
       "      <td>NaN</td>\n",
       "      <td>101763.0</td>\n",
       "      <td>3.0</td>\n",
       "      <td>NaN</td>\n",
       "    </tr>\n",
       "    <tr>\n",
       "      <th>tolazamide</th>\n",
       "      <td>NaN</td>\n",
       "      <td>101727.0</td>\n",
       "      <td>38.0</td>\n",
       "      <td>1.0</td>\n",
       "    </tr>\n",
       "    <tr>\n",
       "      <th>examide</th>\n",
       "      <td>NaN</td>\n",
       "      <td>101766.0</td>\n",
       "      <td>NaN</td>\n",
       "      <td>NaN</td>\n",
       "    </tr>\n",
       "    <tr>\n",
       "      <th>citoglipton</th>\n",
       "      <td>NaN</td>\n",
       "      <td>101766.0</td>\n",
       "      <td>NaN</td>\n",
       "      <td>NaN</td>\n",
       "    </tr>\n",
       "    <tr>\n",
       "      <th>insulin</th>\n",
       "      <td>12218.0</td>\n",
       "      <td>47383.0</td>\n",
       "      <td>30849.0</td>\n",
       "      <td>11316.0</td>\n",
       "    </tr>\n",
       "    <tr>\n",
       "      <th>glyburide-metformin</th>\n",
       "      <td>6.0</td>\n",
       "      <td>101060.0</td>\n",
       "      <td>692.0</td>\n",
       "      <td>8.0</td>\n",
       "    </tr>\n",
       "    <tr>\n",
       "      <th>glipizide-metformin</th>\n",
       "      <td>NaN</td>\n",
       "      <td>101753.0</td>\n",
       "      <td>13.0</td>\n",
       "      <td>NaN</td>\n",
       "    </tr>\n",
       "    <tr>\n",
       "      <th>glimepiride-pioglitazone</th>\n",
       "      <td>NaN</td>\n",
       "      <td>101765.0</td>\n",
       "      <td>1.0</td>\n",
       "      <td>NaN</td>\n",
       "    </tr>\n",
       "    <tr>\n",
       "      <th>metformin-rosiglitazone</th>\n",
       "      <td>NaN</td>\n",
       "      <td>101764.0</td>\n",
       "      <td>2.0</td>\n",
       "      <td>NaN</td>\n",
       "    </tr>\n",
       "    <tr>\n",
       "      <th>metformin-pioglitazone</th>\n",
       "      <td>NaN</td>\n",
       "      <td>101765.0</td>\n",
       "      <td>1.0</td>\n",
       "      <td>NaN</td>\n",
       "    </tr>\n",
       "  </tbody>\n",
       "</table>\n",
       "</div>"
      ],
      "text/plain": [
       "                             Down        No   Steady       Up\n",
       "metformin                   575.0   81778.0  18346.0   1067.0\n",
       "repaglinide                  45.0  100227.0   1384.0    110.0\n",
       "nateglinide                  11.0  101063.0    668.0     24.0\n",
       "chlorpropamide                1.0  101680.0     79.0      6.0\n",
       "glimepiride                 194.0   96575.0   4670.0    327.0\n",
       "acetohexamide                 NaN  101765.0      1.0      NaN\n",
       "glipizide                   560.0   89080.0  11356.0    770.0\n",
       "glyburide                   564.0   91116.0   9274.0    812.0\n",
       "tolbutamide                   NaN  101743.0     23.0      NaN\n",
       "pioglitazone                118.0   94438.0   6976.0    234.0\n",
       "rosiglitazone                87.0   95401.0   6100.0    178.0\n",
       "acarbose                      3.0  101458.0    295.0     10.0\n",
       "miglitol                      5.0  101728.0     31.0      2.0\n",
       "troglitazone                  NaN  101763.0      3.0      NaN\n",
       "tolazamide                    NaN  101727.0     38.0      1.0\n",
       "examide                       NaN  101766.0      NaN      NaN\n",
       "citoglipton                   NaN  101766.0      NaN      NaN\n",
       "insulin                   12218.0   47383.0  30849.0  11316.0\n",
       "glyburide-metformin           6.0  101060.0    692.0      8.0\n",
       "glipizide-metformin           NaN  101753.0     13.0      NaN\n",
       "glimepiride-pioglitazone      NaN  101765.0      1.0      NaN\n",
       "metformin-rosiglitazone       NaN  101764.0      2.0      NaN\n",
       "metformin-pioglitazone        NaN  101765.0      1.0      NaN"
      ]
     },
     "execution_count": 7,
     "metadata": {},
     "output_type": "execute_result"
    }
   ],
   "source": [
    "drugs = ['metformin', 'repaglinide', 'nateglinide', 'chlorpropamide',\n",
    "       'glimepiride', 'acetohexamide', 'glipizide', 'glyburide', 'tolbutamide',\n",
    "       'pioglitazone', 'rosiglitazone', 'acarbose', 'miglitol', 'troglitazone',\n",
    "       'tolazamide', 'examide', 'citoglipton', 'insulin',\n",
    "       'glyburide-metformin', 'glipizide-metformin',\n",
    "       'glimepiride-pioglitazone', 'metformin-rosiglitazone',\n",
    "       'metformin-pioglitazone']\n",
    "drugs_values = [\"No\", \"Up\", \"Steady\", \"Down\"]\n",
    "df[drugs].apply(pd.value_counts).T"
   ]
  },
  {
   "cell_type": "markdown",
   "id": "encouraging-romantic",
   "metadata": {},
   "source": [
    "###  The most common diagnosis among readmitted and non-readmitted patients"
   ]
  },
  {
   "cell_type": "code",
   "execution_count": 8,
   "id": "therapeutic-brazil",
   "metadata": {},
   "outputs": [
    {
     "name": "stderr",
     "output_type": "stream",
     "text": [
      "/usr/lib/python3.9/site-packages/pandas/plotting/_matplotlib/tools.py:400: MatplotlibDeprecationWarning: \n",
      "The is_first_col function was deprecated in Matplotlib 3.4 and will be removed two minor releases later. Use ax.get_subplotspec().is_first_col() instead.\n",
      "  if ax.is_first_col():\n"
     ]
    },
    {
     "data": {
      "text/plain": [
       "<AxesSubplot:title={'center':'Outcome = readmission'}>"
      ]
     },
     "execution_count": 8,
     "metadata": {},
     "output_type": "execute_result"
    },
    {
     "data": {
      "image/png": "[encoded data removed]",
      "text/plain": [
       "<Figure size 1080x504 with 2 Axes>"
      ]
     },
     "metadata": {
      "needs_background": "light"
     },
     "output_type": "display_data"
    }
   ],
   "source": [
    "plt.figure(figsize=(15,7))\n",
    "plt.subplot(1,2,1)\n",
    "\n",
    "df[df[\"readmitted\"] != \"<30\"][\"diag_1\"] \\\n",
    "    .value_counts(ascending=True, normalize=True) \\\n",
    "    .tail(20) \\\n",
    "    .plot(kind=\"barh\", title=\"Outcome = no readmission\")\n",
    "\n",
    "plt.subplot(1,2,2)\n",
    "df[df[\"readmitted\"] == \"<30\"][\"diag_1\"] \\\n",
    "    .value_counts(ascending=True, normalize=True) \\\n",
    "    .tail(20) \\\n",
    "    .plot(kind=\"barh\", title=\"Outcome = readmission\")"
   ]
  },
  {
   "cell_type": "markdown",
   "id": "flexible-burlington",
   "metadata": {},
   "source": [
    "10 Most common _primary_ diagnosis among the **non-readmitted**\n",
    "- 414 Other forms of chronic ischemic heart disease\n",
    "- 428 Heart failure\n",
    "- 786 Symptoms involving respiratory system and other chest symptoms\n",
    "- 410 Acute myocardial infarction\n",
    "- 486 Pneumonia, organism unspecified\n",
    "- 427 Cardiac dysrhythmias\n",
    "- 491 Chronic bronchitis\n",
    "- 715 Osteoarthrosis and allied disorders\n",
    "- 682 Other cellulitis and abscess\n",
    "- 780 General symptoms\n",
    "\n",
    "10 Most common _primary_ diagnosis among the **early readmitted**\n",
    "- 428 Heart failure\n",
    "- 414 Other forms of chronic ischemic heart disease\n",
    "- 410 Acute myocardial infarction\n",
    "- 434 Occlusion of cerebral arteries\n",
    "- 486 Pneumonia, organism unspecified\n",
    "- 786 Symptoms involving respiratory system and other chest symptoms\n",
    "- 491 Chronic bronchitis\n",
    "- 996 Complications peculiar to certain specified procedures\n",
    "- 276 Disorders of fluid, electrolyte, and acid-base balance\n",
    "- 427 Cardiac dysrhythmias\n",
    "\n",
    "Interesting insights:\n",
    "- Occlusion of cerebral arteries (434) are slightly more common among readmitted patients (2% vs 3%)."
   ]
  },
  {
   "cell_type": "markdown",
   "id": "accepted-niger",
   "metadata": {},
   "source": [
    "### IDs Mapping\n",
    "\n",
    "Now taking a look at `IDs_mapping.csv`, the file isn't in standard CSV format. It's actually a text file mapping numerical categories to strings. Using this file, I'll replace each number with the appropriate name in the original dataframe."
   ]
  },
  {
   "cell_type": "code",
   "execution_count": 9,
   "id": "distinguished-characterization",
   "metadata": {},
   "outputs": [],
   "source": [
    "# Map for admission_type_id\n",
    "admtype_map = pd.read_csv(\"../data/IDs_mapping.zip\", skiprows=0, nrows=8)\n",
    "\n",
    "# Map for discharge_disposition_id\n",
    "discharge_map = pd.read_csv(\"../data/IDs_mapping.zip\", skiprows=10, nrows=30)\n",
    "\n",
    "# Map for admission_source_id\n",
    "admsrc_map = pd.read_csv(\"../data/IDs_mapping.zip\", skiprows=42, nrows=25)"
   ]
  },
  {
   "cell_type": "code",
   "execution_count": 10,
   "id": "terminal-windows",
   "metadata": {},
   "outputs": [
    {
     "data": {
      "text/html": [
       "<div>\n",
       "<style scoped>\n",
       "    .dataframe tbody tr th:only-of-type {\n",
       "        vertical-align: middle;\n",
       "    }\n",
       "\n",
       "    .dataframe tbody tr th {\n",
       "        vertical-align: top;\n",
       "    }\n",
       "\n",
       "    .dataframe thead th {\n",
       "        text-align: right;\n",
       "    }\n",
       "</style>\n",
       "<table border=\"1\" class=\"dataframe\">\n",
       "  <thead>\n",
       "    <tr style=\"text-align: right;\">\n",
       "      <th></th>\n",
       "      <th>admission_source_id</th>\n",
       "      <th>description</th>\n",
       "    </tr>\n",
       "  </thead>\n",
       "  <tbody>\n",
       "    <tr>\n",
       "      <th>0</th>\n",
       "      <td>1</td>\n",
       "      <td>Physician Referral</td>\n",
       "    </tr>\n",
       "    <tr>\n",
       "      <th>1</th>\n",
       "      <td>2</td>\n",
       "      <td>Clinic Referral</td>\n",
       "    </tr>\n",
       "    <tr>\n",
       "      <th>2</th>\n",
       "      <td>3</td>\n",
       "      <td>HMO Referral</td>\n",
       "    </tr>\n",
       "    <tr>\n",
       "      <th>3</th>\n",
       "      <td>4</td>\n",
       "      <td>Transfer from a hospital</td>\n",
       "    </tr>\n",
       "    <tr>\n",
       "      <th>4</th>\n",
       "      <td>5</td>\n",
       "      <td>Transfer from a Skilled Nursing Facility (SNF)</td>\n",
       "    </tr>\n",
       "  </tbody>\n",
       "</table>\n",
       "</div>"
      ],
      "text/plain": [
       "   admission_source_id                                      description\n",
       "0                    1                               Physician Referral\n",
       "1                    2                                  Clinic Referral\n",
       "2                    3                                     HMO Referral\n",
       "3                    4                         Transfer from a hospital\n",
       "4                    5   Transfer from a Skilled Nursing Facility (SNF)"
      ]
     },
     "execution_count": 10,
     "metadata": {},
     "output_type": "execute_result"
    }
   ],
   "source": [
    "admsrc_map.head()"
   ]
  },
  {
   "cell_type": "markdown",
   "id": "indoor-portal",
   "metadata": {},
   "source": [
    "Digging a little further, I've found out that there's a research article by Strack et al. (2014), which is the group behind making the data set publicly available. In this article, they make a rundown of each category and what they mean:"
   ]
  },
  {
   "cell_type": "markdown",
   "id": "activated-singing",
   "metadata": {},
   "source": [
    "- **Encounter ID** - Unique identifier of an encounter\n",
    "- **Patient number** - Unique identifier of a patient\n",
    "- **Race Values** - Values: Caucasian, Asian, African American, Hispanic, and other\n",
    "- **Gender Values** - Values: male, female, and unknown/invalid\n",
    "- **Age Grouped in 10-year intervals** - 0, 10), 10, 20), …, 90, 100)\n",
    "- **Weight** - Weight in pounds\n",
    "- **Admission type** - Integer identifier corresponding to 9 distinct values, for example, emergency, urgent, elective, newborn, and not available\n",
    "- **Discharge disposition** - Integer identifier corresponding to 29 distinct values, for example, discharged to home, expired, and not available\n",
    "- **Admission source** - Integer identifier corresponding to 21 distinct values, for example, physician referral, emergency room, and transfer from a hospital\n",
    "- **Time in hospital** - Integer number of days between admission and discharge\n",
    "- **Payer code** - Integer identifier corresponding to 23 distinct values, for example, Blue Cross/Blue Shield, Medicare, and self-pay Medical\n",
    "- **Medical specialty** - Integer identifier of a specialty of the admitting physician, corresponding to 84 distinct values, for example, cardiology, internal medicine, family/general practice, and surgeon\n",
    "- **Number of lab procedures** - Number of lab tests performed during the encounter\n",
    "- **Number of procedures** - Numeric Number of procedures (other than lab tests) performed during the encounter\n",
    "- **Number of medications** - Number of distinct generic names administered during the encounter\n",
    "- **Number of outpatient visits** - Number of outpatient visits of the patient in the year preceding the encounter\n",
    "- **Number of emergency visits** - Number of emergency visits of the patient in the year preceding the encounter\n",
    "- **Number of inpatient visits** - Number of inpatient visits of the patient in the year preceding the encounter\n",
    "- **Diagnosis 1** - The primary diagnosis (coded as first three digits of ICD9); 848 distinct values\n",
    "- **Diagnosis 2** - Secondary diagnosis (coded as first three digits of ICD9); 923 distinct values\n",
    "- **Diagnosis 3** - Additional secondary diagnosis (coded as first three digits of ICD9); 954 distinct values\n",
    "- **Number of diagnoses** - Number of diagnoses entered to the system 0%\n",
    "- **Glucose serum test result** - Indicates the range of the result or if the test was not taken. Values - “>200,” “>300,” “normal,” and “none” if not measured\n",
    "- **A1c test result** - Indicates the range of the result or if the test was not taken. Values: “>8” if the result was greater than 8%, “>7” if the result was greater than 7% but less than 8%, “normal” if the result was less than 7%, and “none” if not measured.\n",
    "- **Change of medications** - Indicates if there was a change in diabetic medications (either dosage or generic name). Values: “change” and “no change”\n",
    "- **Diabetes medications** - Indicates if there was any diabetic medication prescribed. Values: “yes” and “no”\n",
    "- **24 features for medications** - columns named after diabetes-related medication indicating whether the drug was prescribed or there was a change in dosage. Values: “up” if the dosage was increased during the encounter, “down” if the dosage was decreased, “steady” if the dosage did not change, and “no” if the drug was not prescribed\n",
    "- **Readmitted** - Days to inpatient readmission. Values: “<30” if the patient was readmitted in less than 30 days, “>30” if the patient was readmitted in more than 30 days, and “No” for no record of readmission"
   ]
  },
  {
   "cell_type": "markdown",
   "id": "limiting-increase",
   "metadata": {},
   "source": [
    "### More data set characteristics\n",
    "\n",
    "- Covers a 10-year span (1999-2008).\n",
    "- Hospital admissions in the data set are supposed to be diabetic-related **only**.\n",
    "- Lab tests were performed during admission.\n",
    "- Medications were administered during admission.\n",
    "- Data set contains <u>multiple readmissions of the same people</u>.\n",
    "- Lots of low-variance variables in this data set (e.g. `examide` and `citoglipton` have only 1 unique value), which won't add to the model's predictive power.\n",
    "- `diag_1` to `diag_3` columns have too many ICD-9-CM codes and will have to be shortened\n",
    "- Missing values:\n",
    "  - `weight` variable is nearly useless, with about 97% of missing values.\n",
    "  - `payercode` could be an useful variable, but has a concerning number of missing values (around 40%)\n",
    "  - `medical_specialty` has half of its values missing.\n",
    "\n",
    "**Target variable:** 30-day remission, i.e. unplanned or unexpected readmission to the same hospital within 30 days of being discharged."
   ]
  },
  {
   "cell_type": "markdown",
   "id": "3a09e132",
   "metadata": {},
   "source": [
    "<a id=\"data-preparation\"></a>\n",
    "## Data preparation\n"
   ]
  },
  {
   "cell_type": "markdown",
   "id": "e9c3bbc1",
   "metadata": {},
   "source": [
    "### Remove duplicates\n",
    "\n",
    "There are a few rows in the data set that refer to the same patient number. Most machine learning models require the observations to be independent from each other. More specifically, the assumption is that observations shouldn't come from repeated measurements, so these will be deleted."
   ]
  },
  {
   "cell_type": "code",
   "execution_count": 11,
   "id": "4fdc2951",
   "metadata": {},
   "outputs": [
    {
     "name": "stdout",
     "output_type": "stream",
     "text": [
      "df size before: 101766\n",
      "df size after: 71518\n"
     ]
    }
   ],
   "source": [
    "print(\"df size before:\", df.shape[0])\n",
    "df2 = df.drop_duplicates(subset=\"patient_nbr\", keep=\"first\")\n",
    "print(\"df size after:\", df2.shape[0])"
   ]
  },
  {
   "cell_type": "markdown",
   "id": "e11d76f7",
   "metadata": {},
   "source": [
    "### Drop unneeded features"
   ]
  },
  {
   "cell_type": "markdown",
   "id": "2c690178",
   "metadata": {},
   "source": [
    "- `encounter_id`, `patient_nbr`, and `payer_code`: irrelevant to patient outcome\n",
    "- `weight`, `medical_specialty`: too many missing values.\n",
    "- `num_lab_procedures`, `num_procedures`, and `num_medications`: highly correlated with days in hospital\n",
    "- `admission_source_id`: redundant variable (`admission_type_id` already contains information about admission)\n",
    "- all medications (except for metformin, glimepiride, glipizide, glyburide, pioglitazone, rosiglitazone, and insulin) too few people using them\n",
    "- `diag_2` and `diag_ 3`: in the inpatient setting, the primary diagnosis is the most serious and/or resource-intensive during the hospitalization or the inpatient encounter. https://www.hcpro.com/HIM-324035-5707/QA-Primary-principal-and-secondary-diagnoses.html"
   ]
  },
  {
   "cell_type": "code",
   "execution_count": 12,
   "id": "7ce068bf",
   "metadata": {},
   "outputs": [],
   "source": [
    "df3 = df2.drop([\"encounter_id\",\n",
    "                \"patient_nbr\",\n",
    "                \"payer_code\",\n",
    "                \"weight\",\n",
    "                #'num_lab_procedures',  # high correlation with days in hospital\n",
    "                #'num_procedures',  # high correlation with days in hospital\n",
    "                #'num_medications',  # high correlation with days in hospital\n",
    "                \"medical_specialty\",\n",
    "                \"admission_source_id\",\n",
    "                \"repaglinide\",\n",
    "                \"nateglinide\",\n",
    "                \"chlorpropamide\",\n",
    "                \"acetohexamide\",\n",
    "                \"tolbutamide\",\n",
    "                \"acarbose\",\n",
    "                \"miglitol\",\n",
    "                \"troglitazone\",\n",
    "                \"tolazamide\",\n",
    "                \"examide\",\n",
    "                \"citoglipton\",\n",
    "                \"glyburide-metformin\",\n",
    "                \"glipizide-metformin\",\n",
    "                \"glimepiride-pioglitazone\",\n",
    "                \"metformin-rosiglitazone\",\n",
    "                \"metformin-pioglitazone\", \n",
    "                ], axis=1)"
   ]
  },
  {
   "cell_type": "markdown",
   "id": "bizarre-saver",
   "metadata": {},
   "source": [
    "After dropping the unnecessary features, this is our new set of columns:"
   ]
  },
  {
   "cell_type": "code",
   "execution_count": 13,
   "id": "young-narrow",
   "metadata": {},
   "outputs": [
    {
     "data": {
      "text/plain": [
       "Index(['race', 'gender', 'age', 'admission_type_id',\n",
       "       'discharge_disposition_id', 'time_in_hospital', 'num_lab_procedures',\n",
       "       'num_procedures', 'num_medications', 'number_outpatient',\n",
       "       'number_emergency', 'number_inpatient', 'diag_1', 'diag_2', 'diag_3',\n",
       "       'number_diagnoses', 'max_glu_serum', 'A1Cresult', 'metformin',\n",
       "       'glimepiride', 'glipizide', 'glyburide', 'pioglitazone',\n",
       "       'rosiglitazone', 'insulin', 'change', 'diabetesMed', 'readmitted'],\n",
       "      dtype='object')"
      ]
     },
     "execution_count": 13,
     "metadata": {},
     "output_type": "execute_result"
    }
   ],
   "source": [
    "df3.columns"
   ]
  },
  {
   "cell_type": "markdown",
   "id": "blocked-girlfriend",
   "metadata": {},
   "source": [
    "#### Age\n",
    "\n",
    "The age group feature in this data set can be turned into an ordinal variable, thus avoid creating too many new features after the one-hot encoding process."
   ]
  },
  {
   "cell_type": "code",
   "execution_count": 14,
   "id": "imported-victoria",
   "metadata": {},
   "outputs": [],
   "source": [
    "age_map = {'[0-10)': 0,\n",
    "           '[10-20)': 1,\n",
    "           '[20-30)': 2,\n",
    "           '[30-40)': 3,\n",
    "           '[40-50)': 4,\n",
    "           '[50-60)': 5,\n",
    "           '[60-70)': 6,\n",
    "           '[70-80)': 7,\n",
    "           '[80-90)': 8,\n",
    "           '[90-100)': 9}\n",
    "\n",
    "df3[\"age\"].replace(age_map, inplace=True)"
   ]
  },
  {
   "cell_type": "markdown",
   "id": "guilty-relay",
   "metadata": {},
   "source": [
    "#### Gender\n",
    "\n",
    "Gender will be converted to either 0 if male and 1 if female."
   ]
  },
  {
   "cell_type": "code",
   "execution_count": 15,
   "id": "interesting-raise",
   "metadata": {},
   "outputs": [],
   "source": [
    "df3[\"gender\"] = df3[\"gender\"].apply(lambda x: 1 if x == \"Female\" else 0)"
   ]
  },
  {
   "cell_type": "markdown",
   "id": "chicken-circumstances",
   "metadata": {},
   "source": [
    "#### Admission type ID\n",
    "\n",
    "There are 9 distinct values in this column:"
   ]
  },
  {
   "cell_type": "code",
   "execution_count": 16,
   "id": "floral-adventure",
   "metadata": {},
   "outputs": [
    {
     "data": {
      "text/html": [
       "<div>\n",
       "<style scoped>\n",
       "    .dataframe tbody tr th:only-of-type {\n",
       "        vertical-align: middle;\n",
       "    }\n",
       "\n",
       "    .dataframe tbody tr th {\n",
       "        vertical-align: top;\n",
       "    }\n",
       "\n",
       "    .dataframe thead th {\n",
       "        text-align: right;\n",
       "    }\n",
       "</style>\n",
       "<table border=\"1\" class=\"dataframe\">\n",
       "  <thead>\n",
       "    <tr style=\"text-align: right;\">\n",
       "      <th></th>\n",
       "      <th>admission_type_id</th>\n",
       "      <th>description</th>\n",
       "    </tr>\n",
       "  </thead>\n",
       "  <tbody>\n",
       "    <tr>\n",
       "      <th>0</th>\n",
       "      <td>1</td>\n",
       "      <td>Emergency</td>\n",
       "    </tr>\n",
       "    <tr>\n",
       "      <th>1</th>\n",
       "      <td>2</td>\n",
       "      <td>Urgent</td>\n",
       "    </tr>\n",
       "    <tr>\n",
       "      <th>2</th>\n",
       "      <td>3</td>\n",
       "      <td>Elective</td>\n",
       "    </tr>\n",
       "    <tr>\n",
       "      <th>3</th>\n",
       "      <td>4</td>\n",
       "      <td>Newborn</td>\n",
       "    </tr>\n",
       "    <tr>\n",
       "      <th>4</th>\n",
       "      <td>5</td>\n",
       "      <td>Not Available</td>\n",
       "    </tr>\n",
       "    <tr>\n",
       "      <th>5</th>\n",
       "      <td>6</td>\n",
       "      <td>NaN</td>\n",
       "    </tr>\n",
       "    <tr>\n",
       "      <th>6</th>\n",
       "      <td>7</td>\n",
       "      <td>Trauma Center</td>\n",
       "    </tr>\n",
       "    <tr>\n",
       "      <th>7</th>\n",
       "      <td>8</td>\n",
       "      <td>Not Mapped</td>\n",
       "    </tr>\n",
       "  </tbody>\n",
       "</table>\n",
       "</div>"
      ],
      "text/plain": [
       "   admission_type_id    description\n",
       "0                  1      Emergency\n",
       "1                  2         Urgent\n",
       "2                  3       Elective\n",
       "3                  4        Newborn\n",
       "4                  5  Not Available\n",
       "5                  6            NaN\n",
       "6                  7  Trauma Center\n",
       "7                  8     Not Mapped"
      ]
     },
     "execution_count": 16,
     "metadata": {},
     "output_type": "execute_result"
    }
   ],
   "source": [
    "admtype_map"
   ]
  },
  {
   "cell_type": "markdown",
   "id": "directed-smith",
   "metadata": {},
   "source": [
    "I'll split up this feature between \"Emergency\" (which will include \"Urgent\") and \"other\"."
   ]
  },
  {
   "cell_type": "code",
   "execution_count": 17,
   "id": "female-springfield",
   "metadata": {},
   "outputs": [],
   "source": [
    "df3[\"emergency\"] = df3[\"admission_type_id\"].apply(lambda x: 1 if x in [1, 2] else 0)\n",
    "df3.drop(\"admission_type_id\", axis=1, inplace=True)"
   ]
  },
  {
   "cell_type": "markdown",
   "id": "excellent-ending",
   "metadata": {},
   "source": [
    "#### Discharge disposition ID\n",
    "\n",
    "This feature has 29 distinct features, which would negatively impact the model's performance if we create dummy values from them. Therefore, I'm going to restrict these values to either \"discharged to home\" or other."
   ]
  },
  {
   "cell_type": "code",
   "execution_count": 18,
   "id": "perfect-appendix",
   "metadata": {},
   "outputs": [
    {
     "data": {
      "text/html": [
       "<div>\n",
       "<style scoped>\n",
       "    .dataframe tbody tr th:only-of-type {\n",
       "        vertical-align: middle;\n",
       "    }\n",
       "\n",
       "    .dataframe tbody tr th {\n",
       "        vertical-align: top;\n",
       "    }\n",
       "\n",
       "    .dataframe thead th {\n",
       "        text-align: right;\n",
       "    }\n",
       "</style>\n",
       "<table border=\"1\" class=\"dataframe\">\n",
       "  <thead>\n",
       "    <tr style=\"text-align: right;\">\n",
       "      <th></th>\n",
       "      <th>discharge_disposition_id</th>\n",
       "      <th>description</th>\n",
       "    </tr>\n",
       "  </thead>\n",
       "  <tbody>\n",
       "    <tr>\n",
       "      <th>0</th>\n",
       "      <td>1</td>\n",
       "      <td>Discharged to home</td>\n",
       "    </tr>\n",
       "    <tr>\n",
       "      <th>1</th>\n",
       "      <td>2</td>\n",
       "      <td>Discharged/transferred to another short term h...</td>\n",
       "    </tr>\n",
       "    <tr>\n",
       "      <th>2</th>\n",
       "      <td>3</td>\n",
       "      <td>Discharged/transferred to SNF</td>\n",
       "    </tr>\n",
       "    <tr>\n",
       "      <th>3</th>\n",
       "      <td>4</td>\n",
       "      <td>Discharged/transferred to ICF</td>\n",
       "    </tr>\n",
       "    <tr>\n",
       "      <th>4</th>\n",
       "      <td>5</td>\n",
       "      <td>Discharged/transferred to another type of inpa...</td>\n",
       "    </tr>\n",
       "  </tbody>\n",
       "</table>\n",
       "</div>"
      ],
      "text/plain": [
       "   discharge_disposition_id                                        description\n",
       "0                         1                                 Discharged to home\n",
       "1                         2  Discharged/transferred to another short term h...\n",
       "2                         3                      Discharged/transferred to SNF\n",
       "3                         4                      Discharged/transferred to ICF\n",
       "4                         5  Discharged/transferred to another type of inpa..."
      ]
     },
     "execution_count": 18,
     "metadata": {},
     "output_type": "execute_result"
    }
   ],
   "source": [
    "discharge_map.head()"
   ]
  },
  {
   "cell_type": "code",
   "execution_count": 19,
   "id": "indoor-tract",
   "metadata": {},
   "outputs": [],
   "source": [
    "df3[\"discharge_to_home\"] = df3[\"discharge_disposition_id\"].apply(lambda x: 1 if x in [1, 6, 8] else 0)\n",
    "df3.drop(\"discharge_disposition_id\", axis=1, inplace=True)"
   ]
  },
  {
   "cell_type": "markdown",
   "id": "f77df411",
   "metadata": {},
   "source": [
    "#### Diagnosis\n",
    "\n",
    "The diagnosis features are represented by ICD-9 codes. The idea here is to condensate the hundreds of codes into just a few major groups. \n",
    "\n",
    "There are hundreds of different diseases being entered as the `diag`s features, so to avoid ending up with too many features after one-hot encoding them, I'll group them into a few major categories according to the list of ICD-9 codes on Wikipedia: "
   ]
  },
  {
   "cell_type": "markdown",
   "id": "addressed-exception",
   "metadata": {},
   "source": [
    "    List of ICD-9 codes 001–139: infectious and parasitic diseases\n",
    "    List of ICD-9 codes 140–239: neoplasms\n",
    "    List of ICD-9 codes 240–279: endocrine, nutritional and metabolic diseases, and immunity disorders\n",
    "    List of ICD-9 codes 250.xx : diabetes mielitus\n",
    "    List of ICD-9 codes 280–289: diseases of the blood and blood-forming organs\n",
    "    List of ICD-9 codes 290–319: mental disorders\n",
    "    List of ICD-9 codes 320–389: diseases of the nervous system and sense organs\n",
    "    List of ICD-9 codes 390–459: diseases of the circulatory system\n",
    "    List of ICD-9 codes 460–519: diseases of the respiratory system\n",
    "    List of ICD-9 codes 520–579: diseases of the digestive system\n",
    "    List of ICD-9 codes 580–629: diseases of the genitourinary system\n",
    "    List of ICD-9 codes 630–679: complications of pregnancy, childbirth, and the puerperium\n",
    "    List of ICD-9 codes 680–709: diseases of the skin and subcutaneous tissue\n",
    "    List of ICD-9 codes 710–739: diseases of the musculoskeletal system and connective tissue\n",
    "    List of ICD-9 codes 740–759: congenital anomalies\n",
    "    List of ICD-9 codes 760–779: certain conditions originating in the perinatal period\n",
    "    List of ICD-9 codes 780–799: symptoms, signs, and ill-defined conditions\n",
    "    List of ICD-9 codes 800–999: injury and poisoning\n",
    "    List of ICD-9 codes E and V codes: external causes of injury and supplemental classification"
   ]
  },
  {
   "cell_type": "code",
   "execution_count": 20,
   "id": "3eb24d82",
   "metadata": {},
   "outputs": [],
   "source": [
    "def icd(code):\n",
    "    \"\"\"Converts ICD-9 code in string format into a descriptive major category.\n",
    "    ---\n",
    "    code : int\n",
    "    The ICD-9 encoded diagonisis\n",
    "    \n",
    "    return : str\n",
    "    A major diagnostic category.\n",
    "    \"\"\"   \n",
    "    try:\n",
    "        code = int(code)\n",
    "    except ValueError:\n",
    "        return \"Other\"\n",
    "    if (code >= 1) and (code < 140):\n",
    "        return \"Infections\"\n",
    "    elif (code >= 140) and (code < 250):\n",
    "        return \"Endocrine\"\n",
    "    elif (code >= 250) and (code < 251):\n",
    "        return \"Diabetes\"\n",
    "    elif (code >= 251) and (code <280):\n",
    "        return \"Endocrine\"\n",
    "    elif (code >= 280) and (code < 290):\n",
    "        return \"Blood\"\n",
    "    elif (code >= 290) and (code < 320):\n",
    "        return \"Mental\"\n",
    "    elif (code >= 320) and (code < 390):\n",
    "        return \"Nervous system\"\n",
    "    elif (code >= 390) and (code < 460) and (code != 434):\n",
    "        return \"Circulatory\"\n",
    "    elif (code == 434):\n",
    "        return \"Occlusion of cerebral arteries\"\n",
    "    elif (code >= 460) and (code < 520):\n",
    "        return \"Respiratory\"\n",
    "    elif (code >= 520) and (code < 580):\n",
    "        return \"Digestive\"\n",
    "    elif (code >= 580) and (code < 630):\n",
    "        return \"Genitourinary\" \n",
    "    elif (code >= 630) and (code < 680):\n",
    "        return \"Pregnancy complications\"\n",
    "    elif (code >= 680) and (code < 710):\n",
    "        return \"Skin\"\n",
    "    elif (code >= 710) and (code < 740):\n",
    "        return \"Musculoskeletal\"\n",
    "    elif code == 785:\n",
    "        return \"Circulatory\"\n",
    "    elif code == 786:\n",
    "        return \"Respiratory\"\n",
    "    elif code == 787:\n",
    "        return \"Digestive\"    \n",
    "    else: \n",
    "        return \"Other\"\n",
    "    \n",
    "    "
   ]
  },
  {
   "cell_type": "code",
   "execution_count": 21,
   "id": "7189be2f",
   "metadata": {},
   "outputs": [],
   "source": [
    "df3[\"diag_1\"] = df3[\"diag_1\"].apply(icd)\n",
    "df3[\"diag_2\"] = df3[\"diag_2\"].apply(icd)\n",
    "df3[\"diag_3\"] = df3[\"diag_3\"].apply(icd)"
   ]
  },
  {
   "cell_type": "markdown",
   "id": "animated-mechanism",
   "metadata": {},
   "source": [
    "### Glucose serum test result (max_glu_serum) and A1c test\n",
    "\n",
    "This variable indicates the range of the result if the test was not taken. It can be converted into an ordinal variable and spare the creation of unnecessary one-hot features. According to the [Mayo Clinic](https://www.mayoclinic.org/diseases-conditions/diabetes/diagnosis-treatment/drc-20371451), a blood sugar level less than 140 mg/dL is normal. A reading between 140 and 199 mg/dL indicates prediabetes. A reading of more than 200 mg/dL after two hours indicates diabetes.\n",
    "\n",
    "However, the data set isn't clear whether the glucose serum test was made during fasting or at random, so the \"official\" ranges from the Mayo Clinic may be not be used as a basis for comparison."
   ]
  },
  {
   "cell_type": "markdown",
   "id": "decimal-negotiation",
   "metadata": {},
   "source": [
    "According to the literature, adjusting the patient's medication according to HbA1C levels can diminish early readmission rates. Therefore, this new variable is going to be incorporated into the model, and will be 0 if `A1Cresult` is \"none\" or 1 otherwise. So I want a new variable to check whether a glucose was ordered."
   ]
  },
  {
   "cell_type": "code",
   "execution_count": 22,
   "id": "bigger-loading",
   "metadata": {},
   "outputs": [],
   "source": [
    "df3[\"A1C_tested\"] = df[\"A1Cresult\"].apply(lambda x: 0 if x == \"None\" else 1)\n",
    "df3[\"max_glu_serum_tested\"] = df[\"max_glu_serum\"].apply(lambda x: 0 if x == \"None\" else 1)\n",
    "\n",
    "df3.drop([\"A1Cresult\", \"max_glu_serum\"], axis=1, inplace=True)"
   ]
  },
  {
   "cell_type": "markdown",
   "id": "charitable-brief",
   "metadata": {},
   "source": [
    "#### Change of medication\n",
    "\n",
    "Converting object type to numerical:"
   ]
  },
  {
   "cell_type": "code",
   "execution_count": 23,
   "id": "conceptual-temperature",
   "metadata": {},
   "outputs": [],
   "source": [
    "df3[\"change\"] = df3[\"change\"].apply(lambda x: 1 if x == \"Ch\" else 0)"
   ]
  },
  {
   "cell_type": "markdown",
   "id": "smoking-facing",
   "metadata": {},
   "source": [
    "#### Diabetes medications\n",
    "Converting object type to numerical:"
   ]
  },
  {
   "cell_type": "code",
   "execution_count": 24,
   "id": "danish-toner",
   "metadata": {},
   "outputs": [],
   "source": [
    "df3[\"diabetesMed\"] = df3[\"diabetesMed\"].apply(lambda x: 1 if x == \"Yes\" else 0)"
   ]
  },
  {
   "cell_type": "markdown",
   "id": "assumed-horizontal",
   "metadata": {},
   "source": [
    "The drugs used during the inpatient setting have each four different values, representing whether the drug was upregulated, downregulated, stayed the same, or wasn't used at all. The amount of unique information is going to flood the model with multicollinearity, since a medication change (either of type or dosage) is already being reported by the variable `change`. But I still want to see whether the type of medication plays a role in predicting early readmission. Therefore, I'm going to set each medication variable to 1 if it was used and 0 otherwise."
   ]
  },
  {
   "cell_type": "code",
   "execution_count": 25,
   "id": "fitting-juvenile",
   "metadata": {},
   "outputs": [],
   "source": [
    "drug_cols = ['metformin', 'glimepiride', 'glipizide', 'glyburide', 'pioglitazone',\n",
    "       'rosiglitazone', 'insulin']\n",
    "\n",
    "for col in drug_cols:\n",
    "    df3[col] = df3[col].apply(lambda x: 0 if x == \"No\" else 1)\n",
    "\n",
    "df3.drop(drug_cols, axis=1, inplace=True)"
   ]
  },
  {
   "cell_type": "markdown",
   "id": "illegal-citation",
   "metadata": {},
   "source": [
    "#### Readmitted (target variable)"
   ]
  },
  {
   "cell_type": "code",
   "execution_count": 26,
   "id": "controlling-austria",
   "metadata": {},
   "outputs": [],
   "source": [
    "df3['readmitted'] = df3['readmitted'].apply(lambda x: 1 if x == \"<30\" else 0)"
   ]
  },
  {
   "cell_type": "markdown",
   "id": "coordinated-scout",
   "metadata": {},
   "source": [
    "#### Dummy variables creation\n",
    "\n",
    "All categorical variables are going to be converted into dummy variables (one-hot encoding)."
   ]
  },
  {
   "cell_type": "code",
   "execution_count": 27,
   "id": "confused-court",
   "metadata": {},
   "outputs": [],
   "source": [
    "df4 = pd.get_dummies(df3, dummy_na=False, drop_first=False)"
   ]
  },
  {
   "cell_type": "markdown",
   "id": "neural-thermal",
   "metadata": {},
   "source": [
    "#### Merging diag_n variables"
   ]
  },
  {
   "cell_type": "code",
   "execution_count": 28,
   "id": "colonial-responsibility",
   "metadata": {},
   "outputs": [],
   "source": [
    "diseases = [\"Blood\",\n",
    "            \"Circulatory\",\n",
    "            \"Diabetes\",\n",
    "            \"Digestive\",      \n",
    "            \"Endocrine\",            \n",
    "            \"Genitourinary\",\n",
    "            \"Infections\",        \n",
    "            \"Mental\",           \n",
    "            \"Musculoskeletal\",\n",
    "            \"Nervous system\",\n",
    "            \"Occlusion of cerebral arteries\",\n",
    "            \"Other\",       \n",
    "            \"Pregnancy complications\",\n",
    "            \"Respiratory\",\n",
    "            \"Skin\"]     \n",
    "\n",
    "for disease in diseases:\n",
    "    df4[f\"diag_{disease}\"] = df4[f\"diag_1_{disease}\"]*3 + df4[f\"diag_2_{disease}\"]*2 + df4[f\"diag_3_{disease}\"]*1 \n",
    "    df4.drop([f\"diag_{n}_{disease}\" for n in range(1,4)], axis=1, inplace=True)"
   ]
  },
  {
   "cell_type": "markdown",
   "id": "honey-cursor",
   "metadata": {},
   "source": [
    "#### Summary of transformed data set"
   ]
  },
  {
   "cell_type": "code",
   "execution_count": 29,
   "id": "recreational-survival",
   "metadata": {},
   "outputs": [
    {
     "name": "stdout",
     "output_type": "stream",
     "text": [
      "<class 'pandas.core.frame.DataFrame'>\n",
      "Int64Index: 71518 entries, 0 to 101765\n",
      "Data columns (total 37 columns):\n",
      " #   Column                               Non-Null Count  Dtype\n",
      "---  ------                               --------------  -----\n",
      " 0   gender                               71518 non-null  int64\n",
      " 1   age                                  71518 non-null  int64\n",
      " 2   time_in_hospital                     71518 non-null  int64\n",
      " 3   num_lab_procedures                   71518 non-null  int64\n",
      " 4   num_procedures                       71518 non-null  int64\n",
      " 5   num_medications                      71518 non-null  int64\n",
      " 6   number_outpatient                    71518 non-null  int64\n",
      " 7   number_emergency                     71518 non-null  int64\n",
      " 8   number_inpatient                     71518 non-null  int64\n",
      " 9   number_diagnoses                     71518 non-null  int64\n",
      " 10  change                               71518 non-null  int64\n",
      " 11  diabetesMed                          71518 non-null  int64\n",
      " 12  readmitted                           71518 non-null  int64\n",
      " 13  emergency                            71518 non-null  int64\n",
      " 14  discharge_to_home                    71518 non-null  int64\n",
      " 15  A1C_tested                           71518 non-null  int64\n",
      " 16  max_glu_serum_tested                 71518 non-null  int64\n",
      " 17  race_AfricanAmerican                 71518 non-null  uint8\n",
      " 18  race_Asian                           71518 non-null  uint8\n",
      " 19  race_Caucasian                       71518 non-null  uint8\n",
      " 20  race_Hispanic                        71518 non-null  uint8\n",
      " 21  race_Other                           71518 non-null  uint8\n",
      " 22  diag_Blood                           71518 non-null  uint8\n",
      " 23  diag_Circulatory                     71518 non-null  uint8\n",
      " 24  diag_Diabetes                        71518 non-null  uint8\n",
      " 25  diag_Digestive                       71518 non-null  uint8\n",
      " 26  diag_Endocrine                       71518 non-null  uint8\n",
      " 27  diag_Genitourinary                   71518 non-null  uint8\n",
      " 28  diag_Infections                      71518 non-null  uint8\n",
      " 29  diag_Mental                          71518 non-null  uint8\n",
      " 30  diag_Musculoskeletal                 71518 non-null  uint8\n",
      " 31  diag_Nervous system                  71518 non-null  uint8\n",
      " 32  diag_Occlusion of cerebral arteries  71518 non-null  uint8\n",
      " 33  diag_Other                           71518 non-null  uint8\n",
      " 34  diag_Pregnancy complications         71518 non-null  uint8\n",
      " 35  diag_Respiratory                     71518 non-null  uint8\n",
      " 36  diag_Skin                            71518 non-null  uint8\n",
      "dtypes: int64(17), uint8(20)\n",
      "memory usage: 11.2 MB\n"
     ]
    }
   ],
   "source": [
    "df4.info()"
   ]
  },
  {
   "cell_type": "code",
   "execution_count": 30,
   "id": "premium-solution",
   "metadata": {},
   "outputs": [
    {
     "data": {
      "image/png": "[encoded data removed]",
      "text/plain": [
       "<Figure size 1080x864 with 2 Axes>"
      ]
     },
     "metadata": {
      "needs_background": "light"
     },
     "output_type": "display_data"
    }
   ],
   "source": [
    "# plt.figure(figsize=(15,12))\n",
    "# sns.heatmap(df4.corr(method='pearson'))\n",
    "\n",
    "\n",
    "mask = np.triu(np.ones_like(df4.corr(method='pearson')))\n",
    "plt.figure(figsize=(15,12))\n",
    "sns.heatmap(df4.corr(method='pearson'),\n",
    "            #annot=True,\n",
    "            fmt=\".2f\",\n",
    "            vmin=-1,\n",
    "            vmax=1,\n",
    "            mask=mask,\n",
    "            cmap=sns.diverging_palette(20, 220, n=200, sep=50)\n",
    "           )\n",
    "plt.show()"
   ]
  },
  {
   "cell_type": "markdown",
   "id": "incorporate-anthropology",
   "metadata": {},
   "source": [
    "#### Removing correlated variables"
   ]
  },
  {
   "cell_type": "code",
   "execution_count": 31,
   "id": "radio-content",
   "metadata": {},
   "outputs": [],
   "source": [
    "df4.drop([\"race_Caucasian\"], axis=1, inplace=True)"
   ]
  },
  {
   "cell_type": "code",
   "execution_count": 32,
   "id": "affecting-subject",
   "metadata": {},
   "outputs": [],
   "source": [
    "y = df4['readmitted']\n",
    "X = df4.drop(\"readmitted\", axis=1)"
   ]
  },
  {
   "cell_type": "code",
   "execution_count": 33,
   "id": "distinguished-aircraft",
   "metadata": {},
   "outputs": [],
   "source": [
    "X_train, X_test, y_train, y_test = train_test_split(X,y,random_state=33634)\n",
    "\n",
    "from imblearn.over_sampling import RandomOverSampler\n",
    "oversampler = RandomOverSampler()\n",
    "X_train, y_train = oversampler.fit_resample(X_train, y_train)"
   ]
  },
  {
   "cell_type": "markdown",
   "id": "confident-stephen",
   "metadata": {},
   "source": [
    "## Modeling"
   ]
  },
  {
   "cell_type": "code",
   "execution_count": 43,
   "id": "undefined-conjunction",
   "metadata": {},
   "outputs": [],
   "source": [
    "#cross_val_score(lr, X, y, scoring=\"roc_auc\", cv=cv)\n",
    "\n",
    "clf = RandomForestClassifier(700, max_depth=10, criterion=\"entropy\", random_state=33634)\n",
    "#clf = xgb.XGBClassifier(learning_rate=0.25, n_estimators=4, random_state=33634 )\n",
    "clf.fit(X_train, y_train)\n",
    "coefs = clf.feature_importances_\n",
    "\n",
    "#clf = LogisticRegression(max_iter=1000)\n",
    "#clf.fit(X_train, y_train)\n",
    "#coefs = clf.coef_[0]\n",
    "\n"
   ]
  },
  {
   "cell_type": "code",
   "execution_count": 44,
   "id": "basic-consent",
   "metadata": {},
   "outputs": [],
   "source": [
    "# params = {\n",
    "#     \"max_depth\": [4,6,8,10],\n",
    "#     \"class_weight\": [None, \"balanced\"],\n",
    "#     \"criterion\": [\"gini\", \"entropy\"]\n",
    "# }\n",
    "\n",
    "# grid = GridSearchCV(\n",
    "#     rf,\n",
    "#     params,\n",
    "#     cv=10,\n",
    "#     scoring=\"roc_auc\",\n",
    "#     verbose=10,\n",
    "#     n_jobs=5\n",
    "# )\n",
    "\n"
   ]
  },
  {
   "cell_type": "code",
   "execution_count": 45,
   "id": "opened-rochester",
   "metadata": {},
   "outputs": [],
   "source": [
    "# grid.fit(X_train, y_train)\n",
    "# {'class_weight': None, 'criterion': 'entropy', 'max_depth': 10}"
   ]
  },
  {
   "cell_type": "code",
   "execution_count": 46,
   "id": "subject-doctrine",
   "metadata": {},
   "outputs": [],
   "source": [
    "# print(\"Best parameters set found on development set:\")\n",
    "# print()\n",
    "# print(grid.best_params_)\n",
    "# print()\n",
    "# print(\"Grid scores on development set:\")\n",
    "# print()\n",
    "# means = grid.cv_results_['mean_test_score']\n",
    "# stds = grid.cv_results_['std_test_score']\n",
    "# for mean, std, params in zip(means, stds, grid.cv_results_['params']):\n",
    "#     print(\"%0.3f (+/-%0.03f) for %r\" % (mean, std * 2, params))"
   ]
  },
  {
   "cell_type": "code",
   "execution_count": 47,
   "id": "prostate-pencil",
   "metadata": {},
   "outputs": [],
   "source": [
    "# best_params = {'class_weight': None, 'criterion': 'entropy', 'max_depth': 10}\n",
    "# rf = RandomForestClassifier(1000, random_state=33639, **best_params)\n",
    "# rf.fit(X_train, y_train)\n",
    "# coefs = rf.feature_importances_\n",
    "# clf = rf"
   ]
  },
  {
   "cell_type": "markdown",
   "id": "neither-memorabilia",
   "metadata": {},
   "source": [
    "## Evaluation"
   ]
  },
  {
   "cell_type": "code",
   "execution_count": 48,
   "id": "perfect-performance",
   "metadata": {},
   "outputs": [
    {
     "data": {
      "image/png": "[encoded data removed]",
      "text/plain": [
       "<Figure size 1080x1080 with 1 Axes>"
      ]
     },
     "metadata": {
      "needs_background": "light"
     },
     "output_type": "display_data"
    }
   ],
   "source": [
    "palette = sns.color_palette(\"colorblind\").as_hex()\n",
    "colors = [palette[3] if x < 0 else palette[2] for x in coefs[coefs.argsort()]]\n",
    "pos = range(len(coefs))\n",
    "plt.figure(figsize=(15, 15))\n",
    "plt.barh(pos, coefs[coefs.argsort()], color=colors)\n",
    "plt.yticks(pos, X.columns[coefs.argsort()])\n",
    "plt.axvline(x=0, color='.2')\n",
    "sns.despine()\n",
    "plt.tight_layout()\n",
    "plt.savefig(\"../reports/coef.png\")\n",
    "plt.show()"
   ]
  },
  {
   "cell_type": "code",
   "execution_count": 49,
   "id": "unavailable-rider",
   "metadata": {},
   "outputs": [
    {
     "name": "stdout",
     "output_type": "stream",
     "text": [
      "ROC: 0.647\n"
     ]
    }
   ],
   "source": [
    "print(\"ROC: {:.3f}\".format(roc_auc_score(y_test, clf.predict_proba(X_test)[:,1])))"
   ]
  },
  {
   "cell_type": "code",
   "execution_count": 50,
   "id": "inappropriate-wheat",
   "metadata": {},
   "outputs": [
    {
     "data": {
      "text/plain": [
       "<AxesSubplot:>"
      ]
     },
     "execution_count": 50,
     "metadata": {},
     "output_type": "execute_result"
    },
    {
     "data": {
      "image/png": "[encoded data removed]",
      "text/plain": [
       "<Figure size 432x288 with 1 Axes>"
      ]
     },
     "metadata": {
      "needs_background": "light"
     },
     "output_type": "display_data"
    }
   ],
   "source": [
    "df4.groupby(\"readmitted\")[[\"diag_Diabetes\", \"diag_Circulatory\", \"diag_Respiratory\", \"diag_Other\"]].mean().T.plot.bar()"
   ]
  },
  {
   "cell_type": "code",
   "execution_count": 51,
   "id": "greater-punch",
   "metadata": {},
   "outputs": [
    {
     "data": {
      "text/plain": [
       "<AxesSubplot:>"
      ]
     },
     "execution_count": 51,
     "metadata": {},
     "output_type": "execute_result"
    },
    {
     "data": {
      "image/png": "[encoded data removed]",
      "text/plain": [
       "<Figure size 432x288 with 1 Axes>"
      ]
     },
     "metadata": {
      "needs_background": "light"
     },
     "output_type": "display_data"
    }
   ],
   "source": [
    "df4.groupby(\"readmitted\")[[\"diabetesMed\", \"change\"]].mean().T.plot.bar()\n"
   ]
  },
  {
   "cell_type": "code",
   "execution_count": null,
   "id": "prostate-directory",
   "metadata": {},
   "outputs": [],
   "source": []
  },
  {
   "cell_type": "markdown",
   "id": "statistical-compatibility",
   "metadata": {},
   "source": [
    "## References\n",
    "\n",
    "- https://raw.githubusercontent.com/drobbins/ICD9/master/output/output.txt"
   ]
  },
  {
   "cell_type": "code",
   "execution_count": null,
   "id": "authorized-friday",
   "metadata": {},
   "outputs": [],
   "source": []
  }
 ],
 "metadata": {
  "kernelspec": {
   "display_name": "Python 3",
   "language": "python",
   "name": "python3"
  },
  "language_info": {
   "codemirror_mode": {
    "name": "ipython",
    "version": 3
   },
   "file_extension": ".py",
   "mimetype": "text/x-python",
   "name": "python",
   "nbconvert_exporter": "python",
   "pygments_lexer": "ipython3",
   "version": "3.9.4"
  }
 },
 "nbformat": 4,
 "nbformat_minor": 5
}
