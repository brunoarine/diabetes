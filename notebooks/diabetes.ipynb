{
 "cells": [
  {
   "cell_type": "code",
   "execution_count": 1,
   "id": "chicken-speech",
   "metadata": {},
   "outputs": [],
   "source": [
    "from math import floor\n",
    "import numpy as np\n",
    "import pandas as pd\n",
    "import matplotlib.pyplot as plt\n",
    "import seaborn as sns\n",
    "from zipfile import ZipFile\n",
    "from sklearn.feature_selection import VarianceThreshold\n",
    "from sklearn.model_selection import train_test_split\n",
    "from sklearn.feature_selection import f_classif\n",
    "from sklearn.model_selection import GridSearchCV\n",
    "from sklearn.model_selection import RandomizedSearchCV\n",
    "from sklearn.linear_model import LogisticRegression\n",
    "from sklearn.ensemble import RandomForestClassifier\n",
    "from sklearn.metrics import roc_auc_score\n",
    "from sklearn.metrics import precision_score\n",
    "from sklearn.metrics import recall_score\n",
    "from sklearn.metrics import f1_score\n",
    "from sklearn.metrics import plot_roc_curve\n",
    "from sklearn.feature_selection import SelectKBest\n",
    "from sklearn.pipeline import Pipeline\n",
    "from sklearn.preprocessing import StandardScaler\n",
    "\n",
    "# turn off warning messages from deprecated functions being used inside matplotlib\n",
    "import warnings\n",
    "warnings.filterwarnings('ignore')\n",
    "\n",
    "# set matplotlib's default font \n",
    "font = {'family' : 'sans',    \n",
    "        'weight' : \"normal\",\n",
    "        'size'   : 13}\n",
    "plt.rc('font', **font)\n",
    "\n",
    "# Set to true if you wish to re-run hyperparameters optimization (may take hours)\n",
    "OPTIMIZE = False"
   ]
  },
  {
   "cell_type": "markdown",
   "id": "passive-victorian",
   "metadata": {},
   "source": [
    "# Study: Hospital readmission of patients with diabetes\n",
    "\n",
    "**Index**\n",
    "\n",
    "1. [Problem understanding](#Problem-understanding)\n",
    "2. [Data understanding](#Data-understanding)\n",
    "3. [Data preparation](#data-preparation)\n",
    "4. [Modeling](#modeling)\n",
    "5. [Evaluation](#evaluation)\n",
    "6. [References](#references)"
   ]
  },
  {
   "cell_type": "markdown",
   "id": "public-disease",
   "metadata": {},
   "source": [
    "<a id=\"problem-understanding\"></a>\n",
    "\n",
    "## 1. Problem understanding\n",
    "\n",
    "Hospitals and clinics see readmission (particularly within 30 days of discharge) as a worldwide, high-priority health care quality measure and target for cost reduction. (Rubin, 2015) The choice of a 30-day readmission window as a measure of readmission is because such length of time is likely attributable to the quality of care during the index hospitalization, thus representing a preventable outcome. (Graham et al., 2018) \n",
    "\n",
    "One in five Medicare beneficiaries is readmitted within 30 days, at the cost of over $26 billion per year, with diabetes being a significant contributor to risk for hospital readmission. (Soh et al., 2020) Nevertheless, in 2012, The Patient Protection and Affordable Care Act in the United States established that Centers for Medicare and Medicaid Services (CMS) would impose financial penalties on hospitals for excessive readmissions within 30 days of hospital discharge. \n",
    "\n",
    "Thus, to encourage improvement in the quality of care and reduce unnecessary health expenses, policymakers, reimbursement strategists, and the United States government have made reducing 30-day hospital readmissions a national priority. However, a complete understanding of the underlying causes of readmission is needed to reduce its rate (Lepin et al., 2014), so any insights would positively impact health policies.\n",
    "\n",
    "### Assumptions\n",
    "\n",
    "Why would a patient be early readmitted in the first place? Here are a few hypotheses:\n",
    "\n",
    "- Patient is not adequately diagnosed as diabetic on the first admission;\n",
    "- Ineffectiveness of treatment during past hospitalizations, namely\n",
    "    - insufficient number of exams;\n",
    "    - insufficient medical intervention (medication change or procedures);\n",
    "- Poor patient health.\n",
    "\n",
    "One study showed that patients often felt that their readmissions were preventable and linked them to issues with \"discharge timing, follow-up, home health, and skilled services\" (Smeraglio et al., 2019)\n",
    " \n",
    "Patient characteristics such as gender, age, race, and comorbidities, may affect the outcomes (Soh et al. 2020), so they could be used to model early patient readmission. Furthermore, a well-known index adopted by health practitioners called *LACE* takes into account four other variables:\n",
    "\n",
    "- the length of stay;\n",
    "- whether the patient was admitted through the emergency department or came voluntarily;\n",
    "- whether or not the patient has more than one disease or disorder;\n",
    "- and the number of emergency department visits in the previous six months before admission.\n",
    "\n",
    "All these are a good baseline to start with. Nevertheless, other variables could also be assessed, such as:\n",
    "\n",
    "- type of prescribed medication;\n",
    "- whether hospitals successfully discharged patients to their home;\n",
    "- most frequent comorbidities among diabetic and non-diabetic patients;\n",
    "- number of medical interventions during the inpatient setting.\n",
    "\n",
    "<u>**Objective**</u>\n",
    "\n",
    "In this work, I will try to answer the following questions:\n",
    "\n",
    "- Are readmitted diabetic patients correctly diagnosed in their first admission?\n",
    "- Given that HbA1c values are vital for planning the diabetic patient's medication (according to the literature), how often doctors ask for HbA1c tests in the inpatient setting?\n",
    "- Are readmitted diabetic patients receiving an appropriate medical intervention, like change in their medication or medical procedures if need be?\n",
    "- Which variables are the strongest readmission predictors?\n",
    "- And finally, would it be possible to create a predictive model for early readmission? Such a model could help plan interventions for high-risk patients and reduce emotional and financial costs for both patients and hospitals, respectively. Again, the target variable will be unplanned readmissions that happen within 30 days of discharge from the initial admission since this is the field standard.\n",
    "\n",
    "The proposed predictive model should be **interpretable**, which is to say that health practitioners can understand why the model comes to a particular prediction, and whether the variables had a positive or negative effect on the outcome, and to which extent. That being said, the most appropriate model for the job would be either the <u>logistic regression</u>, which returns calibrated probability as its results and gives a detailed view on how each feature affects prediction, or a <u>random forest classifier</u>. Although the latter is a more robust model and returns to which extent each variable affected the model's prediction, it is considerably slower to converge.\n",
    "\n",
    "Early hospital readmission seems to incur higher costs to a hospital when compared to a patient's longer length of stay or enhanced preventive measures. Therefore, we should aim to minimize false negatives, and the most appropriate metric, in this case, would be *recall*. But a high recall metric is not telling enough. Theoretically, we could strive toward a near-perfect recall value at the expense of poor precision (more false positives). Unfortunately, field knowledge is required to assess a tolerable false positives rate, which can vary from hospital to hospital. Since we lack this information, this work will use the **area under the ROC curve** as the primary metric. Optimizing for ROC will guarantee that both true positives rate and false positives rate will be maximized, and then the decision of an appropriate cut-off value will be up to the health practitioner.\n",
    "\n",
    "The data set used for this task is the [Diabetes 130-US hospitals for years 1999-2008 Data Set](https://archive.ics.uci.edu/ml/datasets/diabetes+130-us+hospitals+for+years+1999-2008), containing anonymized medical data collected during 100k encounters across several hospitals in the United States, made available by Strack et al. (2014).\n"
   ]
  },
  {
   "cell_type": "markdown",
   "id": "declared-provision",
   "metadata": {},
   "source": [
    "<a id=\"data-understanding\"></a>\n",
    "## 2. Data understanding"
   ]
  },
  {
   "cell_type": "markdown",
   "id": "satellite-spectacular",
   "metadata": {},
   "source": [
    "The data set comprises two files, `diabetic_data.csv` and `IDs_mapping.csv`. The former contains the medical data itself, and the latter contains a legend for some of the numerical categories (like admission type and discharge disposition)."
   ]
  },
  {
   "cell_type": "code",
   "execution_count": 2,
   "id": "fatal-college",
   "metadata": {},
   "outputs": [
    {
     "data": {
      "text/html": [
       "<div>\n",
       "<style scoped>\n",
       "    .dataframe tbody tr th:only-of-type {\n",
       "        vertical-align: middle;\n",
       "    }\n",
       "\n",
       "    .dataframe tbody tr th {\n",
       "        vertical-align: top;\n",
       "    }\n",
       "\n",
       "    .dataframe thead th {\n",
       "        text-align: right;\n",
       "    }\n",
       "</style>\n",
       "<table border=\"1\" class=\"dataframe\">\n",
       "  <thead>\n",
       "    <tr style=\"text-align: right;\">\n",
       "      <th></th>\n",
       "      <th>encounter_id</th>\n",
       "      <th>patient_nbr</th>\n",
       "      <th>race</th>\n",
       "      <th>gender</th>\n",
       "      <th>age</th>\n",
       "      <th>weight</th>\n",
       "      <th>admission_type_id</th>\n",
       "      <th>discharge_disposition_id</th>\n",
       "      <th>admission_source_id</th>\n",
       "      <th>time_in_hospital</th>\n",
       "      <th>...</th>\n",
       "      <th>citoglipton</th>\n",
       "      <th>insulin</th>\n",
       "      <th>glyburide-metformin</th>\n",
       "      <th>glipizide-metformin</th>\n",
       "      <th>glimepiride-pioglitazone</th>\n",
       "      <th>metformin-rosiglitazone</th>\n",
       "      <th>metformin-pioglitazone</th>\n",
       "      <th>change</th>\n",
       "      <th>diabetesMed</th>\n",
       "      <th>readmitted</th>\n",
       "    </tr>\n",
       "  </thead>\n",
       "  <tbody>\n",
       "    <tr>\n",
       "      <th>0</th>\n",
       "      <td>2278392</td>\n",
       "      <td>8222157</td>\n",
       "      <td>Caucasian</td>\n",
       "      <td>Female</td>\n",
       "      <td>[0-10)</td>\n",
       "      <td>?</td>\n",
       "      <td>6</td>\n",
       "      <td>25</td>\n",
       "      <td>1</td>\n",
       "      <td>1</td>\n",
       "      <td>...</td>\n",
       "      <td>No</td>\n",
       "      <td>No</td>\n",
       "      <td>No</td>\n",
       "      <td>No</td>\n",
       "      <td>No</td>\n",
       "      <td>No</td>\n",
       "      <td>No</td>\n",
       "      <td>No</td>\n",
       "      <td>No</td>\n",
       "      <td>NO</td>\n",
       "    </tr>\n",
       "    <tr>\n",
       "      <th>1</th>\n",
       "      <td>149190</td>\n",
       "      <td>55629189</td>\n",
       "      <td>Caucasian</td>\n",
       "      <td>Female</td>\n",
       "      <td>[10-20)</td>\n",
       "      <td>?</td>\n",
       "      <td>1</td>\n",
       "      <td>1</td>\n",
       "      <td>7</td>\n",
       "      <td>3</td>\n",
       "      <td>...</td>\n",
       "      <td>No</td>\n",
       "      <td>Up</td>\n",
       "      <td>No</td>\n",
       "      <td>No</td>\n",
       "      <td>No</td>\n",
       "      <td>No</td>\n",
       "      <td>No</td>\n",
       "      <td>Ch</td>\n",
       "      <td>Yes</td>\n",
       "      <td>&gt;30</td>\n",
       "    </tr>\n",
       "    <tr>\n",
       "      <th>2</th>\n",
       "      <td>64410</td>\n",
       "      <td>86047875</td>\n",
       "      <td>AfricanAmerican</td>\n",
       "      <td>Female</td>\n",
       "      <td>[20-30)</td>\n",
       "      <td>?</td>\n",
       "      <td>1</td>\n",
       "      <td>1</td>\n",
       "      <td>7</td>\n",
       "      <td>2</td>\n",
       "      <td>...</td>\n",
       "      <td>No</td>\n",
       "      <td>No</td>\n",
       "      <td>No</td>\n",
       "      <td>No</td>\n",
       "      <td>No</td>\n",
       "      <td>No</td>\n",
       "      <td>No</td>\n",
       "      <td>No</td>\n",
       "      <td>Yes</td>\n",
       "      <td>NO</td>\n",
       "    </tr>\n",
       "    <tr>\n",
       "      <th>3</th>\n",
       "      <td>500364</td>\n",
       "      <td>82442376</td>\n",
       "      <td>Caucasian</td>\n",
       "      <td>Male</td>\n",
       "      <td>[30-40)</td>\n",
       "      <td>?</td>\n",
       "      <td>1</td>\n",
       "      <td>1</td>\n",
       "      <td>7</td>\n",
       "      <td>2</td>\n",
       "      <td>...</td>\n",
       "      <td>No</td>\n",
       "      <td>Up</td>\n",
       "      <td>No</td>\n",
       "      <td>No</td>\n",
       "      <td>No</td>\n",
       "      <td>No</td>\n",
       "      <td>No</td>\n",
       "      <td>Ch</td>\n",
       "      <td>Yes</td>\n",
       "      <td>NO</td>\n",
       "    </tr>\n",
       "    <tr>\n",
       "      <th>4</th>\n",
       "      <td>16680</td>\n",
       "      <td>42519267</td>\n",
       "      <td>Caucasian</td>\n",
       "      <td>Male</td>\n",
       "      <td>[40-50)</td>\n",
       "      <td>?</td>\n",
       "      <td>1</td>\n",
       "      <td>1</td>\n",
       "      <td>7</td>\n",
       "      <td>1</td>\n",
       "      <td>...</td>\n",
       "      <td>No</td>\n",
       "      <td>Steady</td>\n",
       "      <td>No</td>\n",
       "      <td>No</td>\n",
       "      <td>No</td>\n",
       "      <td>No</td>\n",
       "      <td>No</td>\n",
       "      <td>Ch</td>\n",
       "      <td>Yes</td>\n",
       "      <td>NO</td>\n",
       "    </tr>\n",
       "  </tbody>\n",
       "</table>\n",
       "<p>5 rows × 50 columns</p>\n",
       "</div>"
      ],
      "text/plain": [
       "   encounter_id  patient_nbr             race  gender      age weight  \\\n",
       "0       2278392      8222157        Caucasian  Female   [0-10)      ?   \n",
       "1        149190     55629189        Caucasian  Female  [10-20)      ?   \n",
       "2         64410     86047875  AfricanAmerican  Female  [20-30)      ?   \n",
       "3        500364     82442376        Caucasian    Male  [30-40)      ?   \n",
       "4         16680     42519267        Caucasian    Male  [40-50)      ?   \n",
       "\n",
       "   admission_type_id  discharge_disposition_id  admission_source_id  \\\n",
       "0                  6                        25                    1   \n",
       "1                  1                         1                    7   \n",
       "2                  1                         1                    7   \n",
       "3                  1                         1                    7   \n",
       "4                  1                         1                    7   \n",
       "\n",
       "   time_in_hospital  ... citoglipton insulin  glyburide-metformin  \\\n",
       "0                 1  ...          No      No                   No   \n",
       "1                 3  ...          No      Up                   No   \n",
       "2                 2  ...          No      No                   No   \n",
       "3                 2  ...          No      Up                   No   \n",
       "4                 1  ...          No  Steady                   No   \n",
       "\n",
       "   glipizide-metformin  glimepiride-pioglitazone  metformin-rosiglitazone  \\\n",
       "0                   No                        No                       No   \n",
       "1                   No                        No                       No   \n",
       "2                   No                        No                       No   \n",
       "3                   No                        No                       No   \n",
       "4                   No                        No                       No   \n",
       "\n",
       "   metformin-pioglitazone  change diabetesMed readmitted  \n",
       "0                      No      No          No         NO  \n",
       "1                      No      Ch         Yes        >30  \n",
       "2                      No      No         Yes         NO  \n",
       "3                      No      Ch         Yes         NO  \n",
       "4                      No      Ch         Yes         NO  \n",
       "\n",
       "[5 rows x 50 columns]"
      ]
     },
     "execution_count": 2,
     "metadata": {},
     "output_type": "execute_result"
    }
   ],
   "source": [
    "zip_file = ZipFile('../data/dataset_diabetes.zip')\n",
    "df = pd.read_csv(zip_file.open('dataset_diabetes/diabetic_data.csv'))\n",
    "df.head()"
   ]
  },
  {
   "cell_type": "markdown",
   "id": "another-cleaner",
   "metadata": {},
   "source": [
    "With a bit of research, I have found out that Strack et al. (2014) make a detailed rundown of each feature in this data set:"
   ]
  },
  {
   "cell_type": "markdown",
   "id": "creative-greensboro",
   "metadata": {},
   "source": [
    "- **Encounter ID** - Unique identifier of an encounter\n",
    "- **Patient number** - Unique identifier of a patient\n",
    "- **Race Values** - Values: Caucasian, Asian, African American, Hispanic, and other\n",
    "- **Gender Values** - Values: male, female, and unknown/invalid\n",
    "- **Age Grouped in 10-year intervals** - 0, 10), 10, 20), …, 90, 100)\n",
    "- **Weight** - Weight in pounds\n",
    "- **Admission type** - Integer identifier corresponding to 9 distinct values, for example, emergency, urgent, elective, newborn, and not available\n",
    "- **Discharge disposition** - Integer identifier corresponding to 29 distinct values, for example, discharged to home, expired, and not available\n",
    "- **Admission source** - Integer identifier corresponding to 21 distinct values, for example, physician referral, emergency room, and transfer from a hospital\n",
    "- **Time in hospital** - Integer number of days between admission and discharge\n",
    "- **Payer code** - Integer identifier corresponding to 23 distinct values, for example, Blue Cross/Blue Shield, Medicare, and self-pay Medical\n",
    "- **Medical specialty** - Integer identifier of a specialty of the admitting physician, corresponding to 84 distinct values, for example, cardiology, internal medicine, family/general practice, and surgeon\n",
    "- **Number of lab procedures** - Number of lab tests performed during the encounter\n",
    "- **Number of procedures** - Numeric Number of procedures (other than lab tests) performed during the encounter\n",
    "- **Number of medications** - Number of distinct generic names administered during the encounter\n",
    "- **Number of outpatient visits** - Number of outpatient visits of the patient in the year preceding the encounter\n",
    "- **Number of emergency visits** - Number of emergency visits of the patient in the year preceding the encounter\n",
    "- **Number of inpatient visits** - Number of inpatient visits of the patient in the year preceding the encounter\n",
    "- **Diagnosis 1** - The primary diagnosis (coded as first three digits of ICD9); 848 distinct values\n",
    "- **Diagnosis 2** - Secondary diagnosis (coded as first three digits of ICD9); 923 distinct values\n",
    "- **Diagnosis 3** - Additional secondary diagnosis (coded as first three digits of ICD9); 954 distinct values\n",
    "- **Number of diagnoses** - Number of diagnoses entered to the system 0%\n",
    "- **Glucose serum test result** - Indicates the range of the result or if the test was not taken. Values - “>200,” “>300,” “normal,” and “none” if not measured\n",
    "- **A1c test result** - Indicates the range of the result or if the test was not taken. Values: “>8” if the result was greater than 8%, “>7” if the result was greater than 7% but less than 8%, “normal” if the result was less than 7%, and “none” if not measured.\n",
    "- **Change of medications** - Indicates if there was a change in diabetic medications (either dosage or generic name). Values: “change” and “no change”\n",
    "- **Diabetes medications** - Indicates if there was any diabetic medication prescribed. Values: “yes” and “no”\n",
    "- **24 features for medications** - columns named after diabetes-related medication indicating whether the drug was prescribed or there was a change in dosage. Values: “up” if the dosage was increased during the encounter, “down” if the dosage was decreased, “steady” if the dosage did not change, and “no” if the drug was not prescribed\n",
    "- **Readmitted** - Days to inpatient readmission. Values: “<30” if the patient was readmitted in less than 30 days, “>30” if the patient was readmitted in more than 30 days, and “No” for no record of readmission"
   ]
  },
  {
   "cell_type": "markdown",
   "id": "former-beads",
   "metadata": {},
   "source": [
    "Missing values are represented by question marks in this data set. They must be replaced with np.nan if we want to use Pandas' default methods to view and handle missing data."
   ]
  },
  {
   "cell_type": "code",
   "execution_count": 3,
   "id": "breeding-guitar",
   "metadata": {},
   "outputs": [],
   "source": [
    "df.replace(\"?\", np.nan, inplace=True)"
   ]
  },
  {
   "cell_type": "markdown",
   "id": "swedish-partition",
   "metadata": {},
   "source": [
    "Overral view of the dataframe, including missing values and dtypes:"
   ]
  },
  {
   "cell_type": "code",
   "execution_count": 4,
   "id": "accurate-masters",
   "metadata": {},
   "outputs": [
    {
     "name": "stdout",
     "output_type": "stream",
     "text": [
      "<class 'pandas.core.frame.DataFrame'>\n",
      "RangeIndex: 101766 entries, 0 to 101765\n",
      "Data columns (total 50 columns):\n",
      " #   Column                    Non-Null Count   Dtype \n",
      "---  ------                    --------------   ----- \n",
      " 0   encounter_id              101766 non-null  int64 \n",
      " 1   patient_nbr               101766 non-null  int64 \n",
      " 2   race                      99493 non-null   object\n",
      " 3   gender                    101766 non-null  object\n",
      " 4   age                       101766 non-null  object\n",
      " 5   weight                    3197 non-null    object\n",
      " 6   admission_type_id         101766 non-null  int64 \n",
      " 7   discharge_disposition_id  101766 non-null  int64 \n",
      " 8   admission_source_id       101766 non-null  int64 \n",
      " 9   time_in_hospital          101766 non-null  int64 \n",
      " 10  payer_code                61510 non-null   object\n",
      " 11  medical_specialty         51817 non-null   object\n",
      " 12  num_lab_procedures        101766 non-null  int64 \n",
      " 13  num_procedures            101766 non-null  int64 \n",
      " 14  num_medications           101766 non-null  int64 \n",
      " 15  number_outpatient         101766 non-null  int64 \n",
      " 16  number_emergency          101766 non-null  int64 \n",
      " 17  number_inpatient          101766 non-null  int64 \n",
      " 18  diag_1                    101745 non-null  object\n",
      " 19  diag_2                    101408 non-null  object\n",
      " 20  diag_3                    100343 non-null  object\n",
      " 21  number_diagnoses          101766 non-null  int64 \n",
      " 22  max_glu_serum             101766 non-null  object\n",
      " 23  A1Cresult                 101766 non-null  object\n",
      " 24  metformin                 101766 non-null  object\n",
      " 25  repaglinide               101766 non-null  object\n",
      " 26  nateglinide               101766 non-null  object\n",
      " 27  chlorpropamide            101766 non-null  object\n",
      " 28  glimepiride               101766 non-null  object\n",
      " 29  acetohexamide             101766 non-null  object\n",
      " 30  glipizide                 101766 non-null  object\n",
      " 31  glyburide                 101766 non-null  object\n",
      " 32  tolbutamide               101766 non-null  object\n",
      " 33  pioglitazone              101766 non-null  object\n",
      " 34  rosiglitazone             101766 non-null  object\n",
      " 35  acarbose                  101766 non-null  object\n",
      " 36  miglitol                  101766 non-null  object\n",
      " 37  troglitazone              101766 non-null  object\n",
      " 38  tolazamide                101766 non-null  object\n",
      " 39  examide                   101766 non-null  object\n",
      " 40  citoglipton               101766 non-null  object\n",
      " 41  insulin                   101766 non-null  object\n",
      " 42  glyburide-metformin       101766 non-null  object\n",
      " 43  glipizide-metformin       101766 non-null  object\n",
      " 44  glimepiride-pioglitazone  101766 non-null  object\n",
      " 45  metformin-rosiglitazone   101766 non-null  object\n",
      " 46  metformin-pioglitazone    101766 non-null  object\n",
      " 47  change                    101766 non-null  object\n",
      " 48  diabetesMed               101766 non-null  object\n",
      " 49  readmitted                101766 non-null  object\n",
      "dtypes: int64(13), object(37)\n",
      "memory usage: 38.8+ MB\n"
     ]
    }
   ],
   "source": [
    "df.info()"
   ]
  },
  {
   "cell_type": "markdown",
   "id": "available-analyst",
   "metadata": {},
   "source": [
    "I need more details about possible values. Knowing the variable's dtypes only won't be enough, so let's see some examples of what to expect."
   ]
  },
  {
   "cell_type": "code",
   "execution_count": 5,
   "id": "pacific-portal",
   "metadata": {},
   "outputs": [
    {
     "name": "stdout",
     "output_type": "stream",
     "text": [
      "Variable              Unique     % Missing  Examples\n",
      "====================================================================================================\n",
      "encounter_id              101766     0.0    [77856768, 173015040, 84934662, 273678342, 17563668]\n",
      "patient_nbr               71518      0.0    [33947649, 92667906, 82706436, 83623941, 128319494]\n",
      "race                      6          2.2    [nan, 'Asian', 'Caucasian', 'Other', 'Hispanic']\n",
      "gender                    3          0.0    ['Female', 'Male', 'Unknown/Invalid']\n",
      "age                       10         0.0    ['[40-50)', '[50-60)', '[20-30)', '[30-40)', '[60-70)']\n",
      "weight                    10         96.9   [nan, '[50-75)', '[25-50)', '>200', '[75-100)']\n",
      "admission_type_id         8          0.0    [1, 2, 3, 4, 5]     \n",
      "discharge_disposition_id  26         0.0    [1, 2, 3, 4, 5]     \n",
      "admission_source_id       17         0.0    [1, 2, 3, 4, 5]     \n",
      "time_in_hospital          14         0.0    [1, 2, 3, 4, 5]     \n",
      "payer_code                18         39.6   [nan, 'SI', 'PO', 'FR', 'MD']\n",
      "medical_specialty         73         49.1   [nan, 'OutreachServices', 'ObstetricsandGynecology', 'Endocrinology-Metabolism', 'Psychiatry']\n",
      "num_lab_procedures        118        0.0    [1, 2, 3, 4, 5]     \n",
      "num_procedures            7          0.0    [0, 1, 2, 3, 4]     \n",
      "num_medications           75         0.0    [1, 2, 3, 4, 5]     \n",
      "number_outpatient         39         0.0    [0, 1, 2, 3, 4]     \n",
      "number_emergency          33         0.0    [0, 1, 2, 3, 4]     \n",
      "number_inpatient          21         0.0    [0, 1, 2, 3, 4]     \n",
      "diag_1                    717        0.0    [nan, '726', '250.83', '824', '599']\n",
      "diag_2                    749        0.4    [nan, '726', '250.83', '824', '599']\n",
      "diag_3                    790        1.4    [nan, '726', '250.83', '517', '599']\n",
      "number_diagnoses          16         0.0    [1, 2, 3, 4, 5]     \n",
      "max_glu_serum             4          0.0    ['>300', '>200', 'Norm', 'None']\n",
      "A1Cresult                 4          0.0    ['>8', '>7', 'None', 'Norm']\n",
      "metformin                 4          0.0    ['Steady', 'No', 'Down', 'Up']\n",
      "repaglinide               4          0.0    ['Steady', 'No', 'Down', 'Up']\n",
      "nateglinide               4          0.0    ['Steady', 'No', 'Down', 'Up']\n",
      "chlorpropamide            4          0.0    ['Steady', 'No', 'Down', 'Up']\n",
      "glimepiride               4          0.0    ['Steady', 'No', 'Down', 'Up']\n",
      "acetohexamide             2          0.0    ['Steady', 'No']    \n",
      "glipizide                 4          0.0    ['Steady', 'No', 'Down', 'Up']\n",
      "glyburide                 4          0.0    ['Steady', 'No', 'Down', 'Up']\n",
      "tolbutamide               2          0.0    ['Steady', 'No']    \n",
      "pioglitazone              4          0.0    ['Steady', 'No', 'Down', 'Up']\n",
      "rosiglitazone             4          0.0    ['Steady', 'No', 'Down', 'Up']\n",
      "acarbose                  4          0.0    ['Steady', 'No', 'Down', 'Up']\n",
      "miglitol                  4          0.0    ['Steady', 'No', 'Down', 'Up']\n",
      "troglitazone              2          0.0    ['Steady', 'No']    \n",
      "tolazamide                3          0.0    ['Steady', 'No', 'Up']\n",
      "examide                   1          0.0    ['No']              \n",
      "citoglipton               1          0.0    ['No']              \n",
      "insulin                   4          0.0    ['Steady', 'No', 'Down', 'Up']\n",
      "glyburide-metformin       4          0.0    ['Steady', 'No', 'Down', 'Up']\n",
      "glipizide-metformin       2          0.0    ['Steady', 'No']    \n",
      "glimepiride-pioglitazone  2          0.0    ['Steady', 'No']    \n",
      "metformin-rosiglitazone   2          0.0    ['Steady', 'No']    \n",
      "metformin-pioglitazone    2          0.0    ['Steady', 'No']    \n",
      "change                    2          0.0    ['No', 'Ch']        \n",
      "diabetesMed               2          0.0    ['Yes', 'No']       \n",
      "readmitted                3          0.0    ['>30', 'NO', '<30']\n"
     ]
    }
   ],
   "source": [
    "print(\"Variable              Unique     % Missing  Examples\")\n",
    "print(\"=\"*100)\n",
    "for column in df:\n",
    "    uniques = set(df[column])\n",
    "    n_uniques = len(uniques)\n",
    "    missing = df[column].isnull().mean()*100\n",
    "    examples = list(uniques)[:5]\n",
    "    output = \"{:<25} {:<10} {:<6.1f} {:<20}\".format(column, n_uniques, missing, str(examples))\n",
    "    print(output)"
   ]
  },
  {
   "cell_type": "markdown",
   "id": "prospective-statement",
   "metadata": {},
   "source": [
    "The data set is moderately unbalanced, with the positive class (`readmitted = \"<30\"`) comprising  11% of the data set."
   ]
  },
  {
   "cell_type": "code",
   "execution_count": 6,
   "id": "incorrect-antibody",
   "metadata": {},
   "outputs": [
    {
     "data": {
      "text/plain": [
       "NO     0.539119\n",
       ">30    0.349282\n",
       "<30    0.111599\n",
       "Name: readmitted, dtype: float64"
      ]
     },
     "execution_count": 6,
     "metadata": {},
     "output_type": "execute_result"
    }
   ],
   "source": [
    "df.readmitted.value_counts(normalize=True)"
   ]
  },
  {
   "cell_type": "markdown",
   "id": "radio-advertising",
   "metadata": {},
   "source": [
    "Evaluating the number of patients to whom diabetes medication was prescribred during the inpatient settings. We can spot several low-variance features with the naked eye (like metformin-rosiglitazone and metformin-ploglitazone at the bottom of the list)."
   ]
  },
  {
   "cell_type": "code",
   "execution_count": 7,
   "id": "divided-fifteen",
   "metadata": {},
   "outputs": [
    {
     "data": {
      "text/html": [
       "<div>\n",
       "<style scoped>\n",
       "    .dataframe tbody tr th:only-of-type {\n",
       "        vertical-align: middle;\n",
       "    }\n",
       "\n",
       "    .dataframe tbody tr th {\n",
       "        vertical-align: top;\n",
       "    }\n",
       "\n",
       "    .dataframe thead th {\n",
       "        text-align: right;\n",
       "    }\n",
       "</style>\n",
       "<table border=\"1\" class=\"dataframe\">\n",
       "  <thead>\n",
       "    <tr style=\"text-align: right;\">\n",
       "      <th></th>\n",
       "      <th>Down</th>\n",
       "      <th>No</th>\n",
       "      <th>Steady</th>\n",
       "      <th>Up</th>\n",
       "    </tr>\n",
       "  </thead>\n",
       "  <tbody>\n",
       "    <tr>\n",
       "      <th>metformin</th>\n",
       "      <td>575.0</td>\n",
       "      <td>81778.0</td>\n",
       "      <td>18346.0</td>\n",
       "      <td>1067.0</td>\n",
       "    </tr>\n",
       "    <tr>\n",
       "      <th>repaglinide</th>\n",
       "      <td>45.0</td>\n",
       "      <td>100227.0</td>\n",
       "      <td>1384.0</td>\n",
       "      <td>110.0</td>\n",
       "    </tr>\n",
       "    <tr>\n",
       "      <th>nateglinide</th>\n",
       "      <td>11.0</td>\n",
       "      <td>101063.0</td>\n",
       "      <td>668.0</td>\n",
       "      <td>24.0</td>\n",
       "    </tr>\n",
       "    <tr>\n",
       "      <th>chlorpropamide</th>\n",
       "      <td>1.0</td>\n",
       "      <td>101680.0</td>\n",
       "      <td>79.0</td>\n",
       "      <td>6.0</td>\n",
       "    </tr>\n",
       "    <tr>\n",
       "      <th>glimepiride</th>\n",
       "      <td>194.0</td>\n",
       "      <td>96575.0</td>\n",
       "      <td>4670.0</td>\n",
       "      <td>327.0</td>\n",
       "    </tr>\n",
       "    <tr>\n",
       "      <th>acetohexamide</th>\n",
       "      <td>NaN</td>\n",
       "      <td>101765.0</td>\n",
       "      <td>1.0</td>\n",
       "      <td>NaN</td>\n",
       "    </tr>\n",
       "    <tr>\n",
       "      <th>glipizide</th>\n",
       "      <td>560.0</td>\n",
       "      <td>89080.0</td>\n",
       "      <td>11356.0</td>\n",
       "      <td>770.0</td>\n",
       "    </tr>\n",
       "    <tr>\n",
       "      <th>glyburide</th>\n",
       "      <td>564.0</td>\n",
       "      <td>91116.0</td>\n",
       "      <td>9274.0</td>\n",
       "      <td>812.0</td>\n",
       "    </tr>\n",
       "    <tr>\n",
       "      <th>tolbutamide</th>\n",
       "      <td>NaN</td>\n",
       "      <td>101743.0</td>\n",
       "      <td>23.0</td>\n",
       "      <td>NaN</td>\n",
       "    </tr>\n",
       "    <tr>\n",
       "      <th>pioglitazone</th>\n",
       "      <td>118.0</td>\n",
       "      <td>94438.0</td>\n",
       "      <td>6976.0</td>\n",
       "      <td>234.0</td>\n",
       "    </tr>\n",
       "    <tr>\n",
       "      <th>rosiglitazone</th>\n",
       "      <td>87.0</td>\n",
       "      <td>95401.0</td>\n",
       "      <td>6100.0</td>\n",
       "      <td>178.0</td>\n",
       "    </tr>\n",
       "    <tr>\n",
       "      <th>acarbose</th>\n",
       "      <td>3.0</td>\n",
       "      <td>101458.0</td>\n",
       "      <td>295.0</td>\n",
       "      <td>10.0</td>\n",
       "    </tr>\n",
       "    <tr>\n",
       "      <th>miglitol</th>\n",
       "      <td>5.0</td>\n",
       "      <td>101728.0</td>\n",
       "      <td>31.0</td>\n",
       "      <td>2.0</td>\n",
       "    </tr>\n",
       "    <tr>\n",
       "      <th>troglitazone</th>\n",
       "      <td>NaN</td>\n",
       "      <td>101763.0</td>\n",
       "      <td>3.0</td>\n",
       "      <td>NaN</td>\n",
       "    </tr>\n",
       "    <tr>\n",
       "      <th>tolazamide</th>\n",
       "      <td>NaN</td>\n",
       "      <td>101727.0</td>\n",
       "      <td>38.0</td>\n",
       "      <td>1.0</td>\n",
       "    </tr>\n",
       "    <tr>\n",
       "      <th>examide</th>\n",
       "      <td>NaN</td>\n",
       "      <td>101766.0</td>\n",
       "      <td>NaN</td>\n",
       "      <td>NaN</td>\n",
       "    </tr>\n",
       "    <tr>\n",
       "      <th>citoglipton</th>\n",
       "      <td>NaN</td>\n",
       "      <td>101766.0</td>\n",
       "      <td>NaN</td>\n",
       "      <td>NaN</td>\n",
       "    </tr>\n",
       "    <tr>\n",
       "      <th>insulin</th>\n",
       "      <td>12218.0</td>\n",
       "      <td>47383.0</td>\n",
       "      <td>30849.0</td>\n",
       "      <td>11316.0</td>\n",
       "    </tr>\n",
       "    <tr>\n",
       "      <th>glyburide-metformin</th>\n",
       "      <td>6.0</td>\n",
       "      <td>101060.0</td>\n",
       "      <td>692.0</td>\n",
       "      <td>8.0</td>\n",
       "    </tr>\n",
       "    <tr>\n",
       "      <th>glipizide-metformin</th>\n",
       "      <td>NaN</td>\n",
       "      <td>101753.0</td>\n",
       "      <td>13.0</td>\n",
       "      <td>NaN</td>\n",
       "    </tr>\n",
       "    <tr>\n",
       "      <th>glimepiride-pioglitazone</th>\n",
       "      <td>NaN</td>\n",
       "      <td>101765.0</td>\n",
       "      <td>1.0</td>\n",
       "      <td>NaN</td>\n",
       "    </tr>\n",
       "    <tr>\n",
       "      <th>metformin-rosiglitazone</th>\n",
       "      <td>NaN</td>\n",
       "      <td>101764.0</td>\n",
       "      <td>2.0</td>\n",
       "      <td>NaN</td>\n",
       "    </tr>\n",
       "    <tr>\n",
       "      <th>metformin-pioglitazone</th>\n",
       "      <td>NaN</td>\n",
       "      <td>101765.0</td>\n",
       "      <td>1.0</td>\n",
       "      <td>NaN</td>\n",
       "    </tr>\n",
       "  </tbody>\n",
       "</table>\n",
       "</div>"
      ],
      "text/plain": [
       "                             Down        No   Steady       Up\n",
       "metformin                   575.0   81778.0  18346.0   1067.0\n",
       "repaglinide                  45.0  100227.0   1384.0    110.0\n",
       "nateglinide                  11.0  101063.0    668.0     24.0\n",
       "chlorpropamide                1.0  101680.0     79.0      6.0\n",
       "glimepiride                 194.0   96575.0   4670.0    327.0\n",
       "acetohexamide                 NaN  101765.0      1.0      NaN\n",
       "glipizide                   560.0   89080.0  11356.0    770.0\n",
       "glyburide                   564.0   91116.0   9274.0    812.0\n",
       "tolbutamide                   NaN  101743.0     23.0      NaN\n",
       "pioglitazone                118.0   94438.0   6976.0    234.0\n",
       "rosiglitazone                87.0   95401.0   6100.0    178.0\n",
       "acarbose                      3.0  101458.0    295.0     10.0\n",
       "miglitol                      5.0  101728.0     31.0      2.0\n",
       "troglitazone                  NaN  101763.0      3.0      NaN\n",
       "tolazamide                    NaN  101727.0     38.0      1.0\n",
       "examide                       NaN  101766.0      NaN      NaN\n",
       "citoglipton                   NaN  101766.0      NaN      NaN\n",
       "insulin                   12218.0   47383.0  30849.0  11316.0\n",
       "glyburide-metformin           6.0  101060.0    692.0      8.0\n",
       "glipizide-metformin           NaN  101753.0     13.0      NaN\n",
       "glimepiride-pioglitazone      NaN  101765.0      1.0      NaN\n",
       "metformin-rosiglitazone       NaN  101764.0      2.0      NaN\n",
       "metformin-pioglitazone        NaN  101765.0      1.0      NaN"
      ]
     },
     "execution_count": 7,
     "metadata": {},
     "output_type": "execute_result"
    }
   ],
   "source": [
    "drugs = ['metformin', 'repaglinide', 'nateglinide', 'chlorpropamide',\n",
    "       'glimepiride', 'acetohexamide', 'glipizide', 'glyburide', 'tolbutamide',\n",
    "       'pioglitazone', 'rosiglitazone', 'acarbose', 'miglitol', 'troglitazone',\n",
    "       'tolazamide', 'examide', 'citoglipton', 'insulin',\n",
    "       'glyburide-metformin', 'glipizide-metformin',\n",
    "       'glimepiride-pioglitazone', 'metformin-rosiglitazone',\n",
    "       'metformin-pioglitazone']\n",
    "df[drugs].apply(pd.value_counts).T"
   ]
  },
  {
   "cell_type": "markdown",
   "id": "encouraging-romantic",
   "metadata": {},
   "source": [
    "### Diagnosis frequency among  the readmitted and non-readmitted patients"
   ]
  },
  {
   "cell_type": "code",
   "execution_count": 8,
   "id": "absolute-defensive",
   "metadata": {},
   "outputs": [
    {
     "data": {
      "text/plain": [
       "427    0.022199\n",
       "276    0.022639\n",
       "996    0.023256\n",
       "491    0.025282\n",
       "786    0.025634\n",
       "486    0.027660\n",
       "434    0.028982\n",
       "410    0.032858\n",
       "414    0.052414\n",
       "428    0.085271\n",
       "Name: diag_1, dtype: float64"
      ]
     },
     "execution_count": 8,
     "metadata": {},
     "output_type": "execute_result"
    }
   ],
   "source": [
    "readmitted_diag = df[df[\"readmitted\"] == \"<30\"][\"diag_1\"] \\\n",
    "    .value_counts(ascending=True, normalize=True) \\\n",
    "    .tail(10)\n",
    "\n",
    "readmitted_diag"
   ]
  },
  {
   "cell_type": "code",
   "execution_count": 9,
   "id": "smaller-livestock",
   "metadata": {},
   "outputs": [
    {
     "data": {
      "text/plain": [
       "780    0.020223\n",
       "682    0.020566\n",
       "715    0.021418\n",
       "491    0.021993\n",
       "427    0.027812\n",
       "486    0.035335\n",
       "410    0.035855\n",
       "786    0.041209\n",
       "428    0.065204\n",
       "414    0.066222\n",
       "Name: diag_1, dtype: float64"
      ]
     },
     "execution_count": 9,
     "metadata": {},
     "output_type": "execute_result"
    }
   ],
   "source": [
    "nonreadmitted_diag = df[df[\"readmitted\"] != \"<30\"][\"diag_1\"] \\\n",
    "    .value_counts(ascending=True, normalize=True) \\\n",
    "    .tail(10)\n",
    "\n",
    "nonreadmitted_diag"
   ]
  },
  {
   "cell_type": "markdown",
   "id": "flexible-burlington",
   "metadata": {},
   "source": [
    "10 Most common _primary_ diagnosis among the **non-readmitted**\n",
    "- 414 Other forms of chronic ischemic heart disease\n",
    "- 428 Heart failure\n",
    "- 786 Symptoms involving respiratory system and other chest symptoms\n",
    "- 410 Acute myocardial infarction\n",
    "- 486 Pneumonia, organism unspecified\n",
    "- 427 Cardiac dysrhythmias\n",
    "- 491 Chronic bronchitis\n",
    "- 715 Osteoarthrosis and allied disorders\n",
    "- 682 Other cellulitis and abscess\n",
    "- 780 General symptoms\n",
    "\n",
    "10 Most common _primary_ diagnosis among the **early readmitted**\n",
    "- 428 Heart failure\n",
    "- 414 Other forms of chronic ischemic heart disease\n",
    "- 410 Acute myocardial infarction\n",
    "- 434 Occlusion of cerebral arteries\n",
    "- 486 Pneumonia, organism unspecified\n",
    "- 786 Symptoms involving respiratory system and other chest symptoms\n",
    "- 491 Chronic bronchitis\n",
    "- 996 Complications peculiar to certain specified procedures\n",
    "- 276 Disorders of fluid, electrolyte, and acid-base balance\n",
    "- 427 Cardiac dysrhythmias\n",
    "\n",
    "Interesting insight:\n",
    "- General symptoms (780) is among the top 10 diagnoses for non-readmitted patients, but not for the readmitted ones.\n",
    "- Occlusion of cerebral arteries (434) is among the top 10 diagnoses for readmitted patients but not for the non-readmitted ones."
   ]
  },
  {
   "cell_type": "code",
   "execution_count": 10,
   "id": "therapeutic-brazil",
   "metadata": {},
   "outputs": [
    {
     "data": {
      "image/png": "[encoded data removed]",
      "text/plain": [
       "<Figure size 1080x504 with 2 Axes>"
      ]
     },
     "metadata": {
      "needs_background": "light"
     },
     "output_type": "display_data"
    }
   ],
   "source": [
    "sns.set_context('paper', font_scale=1.75)\n",
    "fig, (ax1, ax2) = plt.subplots(1,2, figsize=(15,7))\n",
    "\n",
    "nonreadmitted_diag.plot(kind=\"barh\", title=\"Top 10 diagnoses (non-readmitted)\", color=\"lightgray\", ax=ax1)\n",
    "readmitted_diag.plot(kind=\"barh\", title=\"Top 10 diagnoses (readmitted)\", color=\"lightgray\", ax=ax2)\n",
    "\n",
    "ax1.set_xlabel(\"rate\")\n",
    "ax2.set_xlabel(\"rate\")\n",
    "\n",
    "ax1.patches[0].set_color(\"steelblue\")\n",
    "ax2.patches[6].set_color(\"steelblue\")\n",
    "\n",
    "ax1.text(x=0.022,y=0-0.14,s=\"general symptoms\")\n",
    "ax2.text(x=0.032,y=6-0.14,s=\"occlusion of cerebral arteries\")\n",
    "\n",
    "sns.despine()\n",
    "\n",
    "plt.savefig(\"../reports/top10diagnoses.png\")\n",
    "plt.show()"
   ]
  },
  {
   "cell_type": "markdown",
   "id": "accepted-niger",
   "metadata": {},
   "source": [
    "### IDs Mapping\n",
    "\n",
    "Now taking a look at `IDs_mapping.csv`, the file isn't in standard CSV format. It's actually a text file mapping numerical categories to strings. Using this file, I'll replace each number with the appropriate name in the original dataframe."
   ]
  },
  {
   "cell_type": "code",
   "execution_count": 11,
   "id": "distinguished-characterization",
   "metadata": {},
   "outputs": [],
   "source": [
    "# Map for admission_type_id\n",
    "admtype_map = pd.read_csv(zip_file.open('dataset_diabetes/IDs_mapping.csv'), skiprows=0, nrows=8)\n",
    "\n",
    "# Map for discharge_disposition_id\n",
    "discharge_map = pd.read_csv(zip_file.open('dataset_diabetes/IDs_mapping.csv'), skiprows=10, nrows=30)\n",
    "\n",
    "# Map for admission_source_id\n",
    "admsrc_map = pd.read_csv(zip_file.open('dataset_diabetes/IDs_mapping.csv'), skiprows=42, nrows=25)"
   ]
  },
  {
   "cell_type": "markdown",
   "id": "quarterly-ordinary",
   "metadata": {},
   "source": [
    "Regarding the admission type, not all IDs are used in this dataset (e.g. \"emergency\"). Maybe \"urgent\" could be used instead as an indicator of whether the person came in on an emergency or electively."
   ]
  },
  {
   "cell_type": "code",
   "execution_count": 12,
   "id": "terminal-windows",
   "metadata": {},
   "outputs": [
    {
     "data": {
      "text/html": [
       "<div>\n",
       "<style scoped>\n",
       "    .dataframe tbody tr th:only-of-type {\n",
       "        vertical-align: middle;\n",
       "    }\n",
       "\n",
       "    .dataframe tbody tr th {\n",
       "        vertical-align: top;\n",
       "    }\n",
       "\n",
       "    .dataframe thead th {\n",
       "        text-align: right;\n",
       "    }\n",
       "</style>\n",
       "<table border=\"1\" class=\"dataframe\">\n",
       "  <thead>\n",
       "    <tr style=\"text-align: right;\">\n",
       "      <th></th>\n",
       "      <th>admission_type_id</th>\n",
       "      <th>description</th>\n",
       "    </tr>\n",
       "  </thead>\n",
       "  <tbody>\n",
       "    <tr>\n",
       "      <th>0</th>\n",
       "      <td>1</td>\n",
       "      <td>Emergency</td>\n",
       "    </tr>\n",
       "    <tr>\n",
       "      <th>1</th>\n",
       "      <td>2</td>\n",
       "      <td>Urgent</td>\n",
       "    </tr>\n",
       "    <tr>\n",
       "      <th>2</th>\n",
       "      <td>3</td>\n",
       "      <td>Elective</td>\n",
       "    </tr>\n",
       "    <tr>\n",
       "      <th>3</th>\n",
       "      <td>4</td>\n",
       "      <td>Newborn</td>\n",
       "    </tr>\n",
       "    <tr>\n",
       "      <th>4</th>\n",
       "      <td>5</td>\n",
       "      <td>Not Available</td>\n",
       "    </tr>\n",
       "    <tr>\n",
       "      <th>5</th>\n",
       "      <td>6</td>\n",
       "      <td>NaN</td>\n",
       "    </tr>\n",
       "    <tr>\n",
       "      <th>6</th>\n",
       "      <td>7</td>\n",
       "      <td>Trauma Center</td>\n",
       "    </tr>\n",
       "    <tr>\n",
       "      <th>7</th>\n",
       "      <td>8</td>\n",
       "      <td>Not Mapped</td>\n",
       "    </tr>\n",
       "  </tbody>\n",
       "</table>\n",
       "</div>"
      ],
      "text/plain": [
       "   admission_type_id    description\n",
       "0                  1      Emergency\n",
       "1                  2         Urgent\n",
       "2                  3       Elective\n",
       "3                  4        Newborn\n",
       "4                  5  Not Available\n",
       "5                  6            NaN\n",
       "6                  7  Trauma Center\n",
       "7                  8     Not Mapped"
      ]
     },
     "execution_count": 12,
     "metadata": {},
     "output_type": "execute_result"
    }
   ],
   "source": [
    "admtype_map.head(50)"
   ]
  },
  {
   "cell_type": "code",
   "execution_count": 13,
   "id": "stone-wright",
   "metadata": {},
   "outputs": [
    {
     "data": {
      "text/plain": [
       "Urgent           0.558550\n",
       "Newborn          0.195208\n",
       "Elective         0.191184\n",
       "Trauma Center    0.054738\n",
       "Not Mapped       0.000217\n",
       "Not Available    0.000103\n",
       "Name: admission_type_id, dtype: float64"
      ]
     },
     "execution_count": 13,
     "metadata": {},
     "output_type": "execute_result"
    }
   ],
   "source": [
    "admissions = df[\"admission_type_id\"].map(admtype_map[\"description\"].to_dict()).value_counts(normalize=True)\n",
    "admissions"
   ]
  },
  {
   "cell_type": "code",
   "execution_count": 14,
   "id": "higher-consideration",
   "metadata": {},
   "outputs": [
    {
     "data": {
      "image/png": "[encoded data removed]",
      "text/plain": [
       "<Figure size 648x360 with 1 Axes>"
      ]
     },
     "metadata": {
      "needs_background": "light"
     },
     "output_type": "display_data"
    }
   ],
   "source": [
    "fig, ax = plt.subplots(figsize=(9,5))\n",
    "(admissions*100).plot.barh(ax)\n",
    "for index,data in enumerate(admissions.values):\n",
    "    plt.text(y=index-0.13 , x =data*100+1  , s=f\"{int(data*df.shape[0])}\" )\n",
    "plt.gca().spines['top'].set_visible(False)\n",
    "plt.gca().spines['right'].set_visible(False)\n",
    "plt.xlabel(\"% of patients\")\n",
    "plt.savefig(\"../reports/admission_type.png\")\n",
    "plt.show()"
   ]
  },
  {
   "cell_type": "markdown",
   "id": "limiting-increase",
   "metadata": {},
   "source": [
    "### More data set characteristics\n",
    "\n",
    "- The data set covers a 10-year span (1999-2008).\n",
    "- Hospital admissions in the data set are supposed to be diabetic-related **only**, but some entries don't have a diabetes-specific ICD-9 code (250.xx). I suppose that, maybe, such diagnosis was made during readmission, which is the reason for it not to show up sometimes.\n",
    "- Lab tests were performed during admission.\n",
    "- Medications were administered during admission.\n",
    "- Data set contains <u>multiple readmissions of the same people</u>.\n",
    "- Lots of low-variance variables in this data set (e.g. `examide` and `citoglipton` have only 1 unique value), which won't add to the model's predictive power.\n",
    "- `diag_1` to `diag_3` columns have too many ICD-9-CM codes and will have to be grouped.\n",
    "- Missing values:\n",
    "  - `weight` variable is nearly useless, with about 97% of missing values.\n",
    "  - `payercode` could be an useful variable, but has a concerning number of missing values (around 40%)\n",
    "  - `medical_specialty` has half of its values missing.\n",
    "\n",
    "**Target variable:** 30-day remission, i.e. unplanned or unexpected readmission to the same hospital within 30 days of being discharged."
   ]
  },
  {
   "cell_type": "markdown",
   "id": "3a09e132",
   "metadata": {},
   "source": [
    "<a id=\"data-preparation\"></a>\n",
    "## 3. Data preparation\n"
   ]
  },
  {
   "cell_type": "code",
   "execution_count": 15,
   "id": "further-flooring",
   "metadata": {},
   "outputs": [],
   "source": [
    "# Keeping the original df intact in case we need it\n",
    "df2 = df.copy()"
   ]
  },
  {
   "cell_type": "markdown",
   "id": "e9c3bbc1",
   "metadata": {},
   "source": [
    "### Remove duplicates\n",
    "\n",
    "A few rows in the data set refer to the same patient number (`patient_nbr`). Most machine learning models require the observations to be independent of each other. More specifically, the assumption is that observations should not come from repeated measurements. To ensure our model's robustness, duplicated entries for the same patient will be deleted (while keeping the first appearance only)."
   ]
  },
  {
   "cell_type": "code",
   "execution_count": 16,
   "id": "4fdc2951",
   "metadata": {},
   "outputs": [
    {
     "name": "stdout",
     "output_type": "stream",
     "text": [
      "df size before: 101766\n",
      "df size after: 71518\n"
     ]
    }
   ],
   "source": [
    "print(\"df size before:\", df.shape[0])\n",
    "df2 = df2.drop_duplicates(subset=\"patient_nbr\", keep=\"first\")\n",
    "print(\"df size after:\", df2.shape[0])"
   ]
  },
  {
   "cell_type": "markdown",
   "id": "e11d76f7",
   "metadata": {},
   "source": [
    "### Drop unneeded features"
   ]
  },
  {
   "cell_type": "markdown",
   "id": "2c690178",
   "metadata": {},
   "source": [
    "- `encounter_id`, `patient_nbr`, and `payer_code`: irrelevant to patient outcome\n",
    "- `weight`, `medical_specialty`: too many missing values.\n",
    "- `admission_source_id`: redundant variable (`admission_type_id` already contains information about the admission)\n",
    "- all medications (including the most common: metformin, glimepiride, glipizide, glyburide, pioglitazone, rosiglitazone, and insulin): they either correlated strongly with `diabetesMed`, which indicates if there's any diabetic medication prescribed, or not used at all. \n",
    " "
   ]
  },
  {
   "cell_type": "code",
   "execution_count": 17,
   "id": "7ce068bf",
   "metadata": {},
   "outputs": [],
   "source": [
    "df2 = df2.drop([\"encounter_id\",\n",
    "                \"patient_nbr\",\n",
    "                \"payer_code\",\n",
    "                \"weight\",\n",
    "                \"medical_specialty\",\n",
    "                \"admission_source_id\",\n",
    "                \"metformin\",\n",
    "                \"glimepiride\",\n",
    "                \"glipizide\", \n",
    "                \"glyburide\",\n",
    "                \"pioglitazone\",\n",
    "                \"rosiglitazone\",\n",
    "                \"insulin\",   \n",
    "                \"repaglinide\",\n",
    "                \"nateglinide\",\n",
    "                \"chlorpropamide\",\n",
    "                \"acetohexamide\",\n",
    "                \"tolbutamide\",\n",
    "                \"acarbose\",\n",
    "                \"miglitol\",\n",
    "                \"troglitazone\",\n",
    "                \"tolazamide\",\n",
    "                \"examide\",\n",
    "                \"citoglipton\",\n",
    "                \"glyburide-metformin\",\n",
    "                \"glipizide-metformin\",\n",
    "                \"glimepiride-pioglitazone\",\n",
    "                \"metformin-rosiglitazone\",\n",
    "                \"metformin-pioglitazone\", \n",
    "                ], axis=1)"
   ]
  },
  {
   "cell_type": "markdown",
   "id": "bizarre-saver",
   "metadata": {},
   "source": [
    "After dropping the unnecessary features, this is our new set of columns:"
   ]
  },
  {
   "cell_type": "code",
   "execution_count": 18,
   "id": "young-narrow",
   "metadata": {},
   "outputs": [
    {
     "data": {
      "text/plain": [
       "Index(['race', 'gender', 'age', 'admission_type_id',\n",
       "       'discharge_disposition_id', 'time_in_hospital', 'num_lab_procedures',\n",
       "       'num_procedures', 'num_medications', 'number_outpatient',\n",
       "       'number_emergency', 'number_inpatient', 'diag_1', 'diag_2', 'diag_3',\n",
       "       'number_diagnoses', 'max_glu_serum', 'A1Cresult', 'change',\n",
       "       'diabetesMed', 'readmitted'],\n",
       "      dtype='object')"
      ]
     },
     "execution_count": 18,
     "metadata": {},
     "output_type": "execute_result"
    }
   ],
   "source": [
    "df2.columns"
   ]
  },
  {
   "cell_type": "markdown",
   "id": "blocked-girlfriend",
   "metadata": {},
   "source": [
    "#### Age\n",
    "\n",
    "The age group feature in this data set is categorical, but can be turned into an ordinal variable. That way we avoid creating too many new features after the one-hot encoding process."
   ]
  },
  {
   "cell_type": "code",
   "execution_count": 19,
   "id": "imported-victoria",
   "metadata": {},
   "outputs": [],
   "source": [
    "age_map = {'[0-10)': 0,\n",
    "           '[10-20)': 1,\n",
    "           '[20-30)': 2,\n",
    "           '[30-40)': 3,\n",
    "           '[40-50)': 4,\n",
    "           '[50-60)': 5,\n",
    "           '[60-70)': 6,\n",
    "           '[70-80)': 7,\n",
    "           '[80-90)': 8,\n",
    "           '[90-100)': 9}\n",
    "\n",
    "df2[\"age\"].replace(age_map, inplace=True)"
   ]
  },
  {
   "cell_type": "markdown",
   "id": "guilty-relay",
   "metadata": {},
   "source": [
    "#### Gender\n",
    "\n",
    "Gender will be converted to either 0 if male or 1 if female."
   ]
  },
  {
   "cell_type": "code",
   "execution_count": 20,
   "id": "interesting-raise",
   "metadata": {},
   "outputs": [],
   "source": [
    "df2[\"gender\"] = df2[\"gender\"].apply(lambda x: 1 if x == \"Female\" else 0)"
   ]
  },
  {
   "cell_type": "markdown",
   "id": "chicken-circumstances",
   "metadata": {},
   "source": [
    "#### Admission type ID\n",
    "\n",
    "There are 9 distinct values in this column:"
   ]
  },
  {
   "cell_type": "code",
   "execution_count": 21,
   "id": "floral-adventure",
   "metadata": {},
   "outputs": [
    {
     "data": {
      "text/html": [
       "<div>\n",
       "<style scoped>\n",
       "    .dataframe tbody tr th:only-of-type {\n",
       "        vertical-align: middle;\n",
       "    }\n",
       "\n",
       "    .dataframe tbody tr th {\n",
       "        vertical-align: top;\n",
       "    }\n",
       "\n",
       "    .dataframe thead th {\n",
       "        text-align: right;\n",
       "    }\n",
       "</style>\n",
       "<table border=\"1\" class=\"dataframe\">\n",
       "  <thead>\n",
       "    <tr style=\"text-align: right;\">\n",
       "      <th></th>\n",
       "      <th>admission_type_id</th>\n",
       "      <th>description</th>\n",
       "    </tr>\n",
       "  </thead>\n",
       "  <tbody>\n",
       "    <tr>\n",
       "      <th>0</th>\n",
       "      <td>1</td>\n",
       "      <td>Emergency</td>\n",
       "    </tr>\n",
       "    <tr>\n",
       "      <th>1</th>\n",
       "      <td>2</td>\n",
       "      <td>Urgent</td>\n",
       "    </tr>\n",
       "    <tr>\n",
       "      <th>2</th>\n",
       "      <td>3</td>\n",
       "      <td>Elective</td>\n",
       "    </tr>\n",
       "    <tr>\n",
       "      <th>3</th>\n",
       "      <td>4</td>\n",
       "      <td>Newborn</td>\n",
       "    </tr>\n",
       "    <tr>\n",
       "      <th>4</th>\n",
       "      <td>5</td>\n",
       "      <td>Not Available</td>\n",
       "    </tr>\n",
       "    <tr>\n",
       "      <th>5</th>\n",
       "      <td>6</td>\n",
       "      <td>NaN</td>\n",
       "    </tr>\n",
       "    <tr>\n",
       "      <th>6</th>\n",
       "      <td>7</td>\n",
       "      <td>Trauma Center</td>\n",
       "    </tr>\n",
       "    <tr>\n",
       "      <th>7</th>\n",
       "      <td>8</td>\n",
       "      <td>Not Mapped</td>\n",
       "    </tr>\n",
       "  </tbody>\n",
       "</table>\n",
       "</div>"
      ],
      "text/plain": [
       "   admission_type_id    description\n",
       "0                  1      Emergency\n",
       "1                  2         Urgent\n",
       "2                  3       Elective\n",
       "3                  4        Newborn\n",
       "4                  5  Not Available\n",
       "5                  6            NaN\n",
       "6                  7  Trauma Center\n",
       "7                  8     Not Mapped"
      ]
     },
     "execution_count": 21,
     "metadata": {},
     "output_type": "execute_result"
    }
   ],
   "source": [
    "admtype_map"
   ]
  },
  {
   "cell_type": "markdown",
   "id": "directed-smith",
   "metadata": {},
   "source": [
    "I'll group this feature by whether patients were admitted in an emergency or not. Thus, \"Emergency\" (which includes \"Urgent\") will become 1 and everything else will be 0."
   ]
  },
  {
   "cell_type": "code",
   "execution_count": 22,
   "id": "female-springfield",
   "metadata": {},
   "outputs": [],
   "source": [
    "df2[\"emergency\"] = df2[\"admission_type_id\"].apply(lambda x: 1 if x in [1, 2] else 0)\n",
    "df2.drop(\"admission_type_id\", axis=1, inplace=True)"
   ]
  },
  {
   "cell_type": "markdown",
   "id": "excellent-ending",
   "metadata": {},
   "source": [
    "#### Discharge disposition ID\n",
    "\n",
    "This feature has 29 distinct features, which would negatively impact the model's performance if we create dummy values for all of them. Therefore, I'm going to restrict these values to either \"discharged to home\" or other. "
   ]
  },
  {
   "cell_type": "code",
   "execution_count": 23,
   "id": "perfect-appendix",
   "metadata": {},
   "outputs": [
    {
     "data": {
      "text/html": [
       "<div>\n",
       "<style scoped>\n",
       "    .dataframe tbody tr th:only-of-type {\n",
       "        vertical-align: middle;\n",
       "    }\n",
       "\n",
       "    .dataframe tbody tr th {\n",
       "        vertical-align: top;\n",
       "    }\n",
       "\n",
       "    .dataframe thead th {\n",
       "        text-align: right;\n",
       "    }\n",
       "</style>\n",
       "<table border=\"1\" class=\"dataframe\">\n",
       "  <thead>\n",
       "    <tr style=\"text-align: right;\">\n",
       "      <th></th>\n",
       "      <th>discharge_disposition_id</th>\n",
       "      <th>description</th>\n",
       "    </tr>\n",
       "  </thead>\n",
       "  <tbody>\n",
       "    <tr>\n",
       "      <th>0</th>\n",
       "      <td>1</td>\n",
       "      <td>Discharged to home</td>\n",
       "    </tr>\n",
       "    <tr>\n",
       "      <th>1</th>\n",
       "      <td>2</td>\n",
       "      <td>Discharged/transferred to another short term h...</td>\n",
       "    </tr>\n",
       "    <tr>\n",
       "      <th>2</th>\n",
       "      <td>3</td>\n",
       "      <td>Discharged/transferred to SNF</td>\n",
       "    </tr>\n",
       "    <tr>\n",
       "      <th>3</th>\n",
       "      <td>4</td>\n",
       "      <td>Discharged/transferred to ICF</td>\n",
       "    </tr>\n",
       "    <tr>\n",
       "      <th>4</th>\n",
       "      <td>5</td>\n",
       "      <td>Discharged/transferred to another type of inpa...</td>\n",
       "    </tr>\n",
       "  </tbody>\n",
       "</table>\n",
       "</div>"
      ],
      "text/plain": [
       "   discharge_disposition_id                                        description\n",
       "0                         1                                 Discharged to home\n",
       "1                         2  Discharged/transferred to another short term h...\n",
       "2                         3                      Discharged/transferred to SNF\n",
       "3                         4                      Discharged/transferred to ICF\n",
       "4                         5  Discharged/transferred to another type of inpa..."
      ]
     },
     "execution_count": 23,
     "metadata": {},
     "output_type": "execute_result"
    }
   ],
   "source": [
    "discharge_map.head()"
   ]
  },
  {
   "cell_type": "code",
   "execution_count": 24,
   "id": "indoor-tract",
   "metadata": {},
   "outputs": [],
   "source": [
    "df2[\"sent_home\"] = df2[\"discharge_disposition_id\"].apply(lambda x: 1 if x in [1, 6, 8] else 0)\n",
    "df2.drop(\"discharge_disposition_id\", axis=1, inplace=True)"
   ]
  },
  {
   "cell_type": "markdown",
   "id": "f77df411",
   "metadata": {},
   "source": [
    "#### Diagnosis\n",
    "\n",
    "The diagnosis features are represented by ICD-9 codes. The idea here is to condensate the hundreds of codes into just a few major groups, based on field knowledge (Strack et al., 2014). I also made sure to include the diagnoses that were among the top 10 for readmitted patients but not for non-readmitted, and vice-versa.\n"
   ]
  },
  {
   "cell_type": "code",
   "execution_count": 25,
   "id": "3eb24d82",
   "metadata": {},
   "outputs": [],
   "source": [
    "# Make it easier to enter ICD-9 ranges in the dictionary\n",
    "interval = lambda x,y: list(range(x,y+1))\n",
    "\n",
    "diag = {\n",
    "    \"Circulatory\": interval(390, 433) + interval(435, 459) + [785],  # except 434\n",
    "    \"Respiratory\": interval(460,519) + [786],\n",
    "    \"Digestive\": interval(520,579) + [786],\n",
    "    \"Diabetes\": [250],  # makes sense to give Diabetes a group for its own\n",
    "    \"Injury\": interval(800,999),\n",
    "    \"Musculoskeletal\": interval(710,739),\n",
    "    \"Genitourinary\": interval(580,629) + [788],\n",
    "    \"Neoplasms\": interval(140,239),\n",
    "    \"Endocrine\": interval(240,249) + interval(251,279),  # except 250\n",
    "    \"General symptoms\": [780,781,784] + interval(790,799),  # among the top 10 for non-readmitted\n",
    "    \"Skin\": interval(680,709) + [782],\n",
    "    \"Infection\": interval(1,139),\n",
    "    \"Mental\": interval(290,319),\n",
    "    \"External causes\": [1000],  # passed by icd() as 1000, but the code doesn't exist officially\n",
    "    \"Blood\": interval(280,289),\n",
    "    \"Nervous\": interval(320,359),\n",
    "    \"Pregnancy\": interval(630,679),\n",
    "    \"Sense organs\": interval(360,389),\n",
    "    \"Congenital\": interval(740, 759),\n",
    "    \"Occlusion of cerebral arteries\": [434], # among the top 10 for readmitted\n",
    "    \"Unknown\": [-1]\n",
    "}\n",
    "    \n",
    "def icd(code):\n",
    "    \"\"\"Converts ICD-9 code in string format into a descriptive major category.\n",
    "    ---\n",
    "    code : int\n",
    "    The ICD-9 encoded diagonisis\n",
    "    \n",
    "    return : str\n",
    "    A major diagnostic category.\n",
    "    \"\"\"\n",
    "    if (code[0] != \"V\") and (code[0] != \"E\"):\n",
    "        code = floor(float(code))\n",
    "    else:\n",
    "        code = 1000\n",
    "    for key in diag:\n",
    "        if code in diag[key]:\n",
    "            return key\n",
    "    \n",
    "    "
   ]
  },
  {
   "cell_type": "markdown",
   "id": "nuclear-lucas",
   "metadata": {},
   "source": [
    "The missing values will be replaced by -1 so the custom function still works as expected (and we don't lose information)."
   ]
  },
  {
   "cell_type": "code",
   "execution_count": 26,
   "id": "7189be2f",
   "metadata": {},
   "outputs": [],
   "source": [
    "df2[\"diag_1\"] = df2[\"diag_1\"].fillna(\"-1\").apply(icd)\n",
    "df2[\"diag_2\"] = df2[\"diag_2\"].fillna(\"-1\").apply(icd)\n",
    "df2[\"diag_3\"] = df2[\"diag_3\"].fillna(\"-1\").apply(icd)"
   ]
  },
  {
   "cell_type": "markdown",
   "id": "animated-mechanism",
   "metadata": {},
   "source": [
    "### Glucose serum test result (max_glu_serum) and A1c test\n",
    "\n",
    "This variable indicates the range of the test results, or whether the tests were taken at all. It could be be converted into an ordinal variable and spare the creation of unnecessary dummy features. "
   ]
  },
  {
   "cell_type": "code",
   "execution_count": 27,
   "id": "excited-prisoner",
   "metadata": {},
   "outputs": [],
   "source": [
    "df2[\"A1Cresult\"] = df2[\"A1Cresult\"].map({\"None\": -1, \"Norm\": 0, \">7\": 1, \">8\": 2})\n",
    "df2[\"max_glu_serum\"] = df2[\"max_glu_serum\"].map({\"None\": -1, \"Norm\": 0, \">200\": 1, \">300\": 2})"
   ]
  },
  {
   "cell_type": "markdown",
   "id": "decimal-negotiation",
   "metadata": {},
   "source": [
    "Also, according to the literature (Strack et al., 2014), adjusting the patient's medication according to HbA1C levels can diminish early readmission rates. Therefore, this new variable is going to be incorporated into the model, and will be 0 if `A1Cresult` is \"none\" or 1 otherwise. So I want a new variable to check whether a glucose was ordered."
   ]
  },
  {
   "cell_type": "code",
   "execution_count": 28,
   "id": "bigger-loading",
   "metadata": {},
   "outputs": [],
   "source": [
    "df2[\"A1C_tested\"] = df2[\"A1Cresult\"].apply(lambda x: 0 if x == -1 else 1)\n",
    "df2[\"max_glu_serum_tested\"] = df2[\"max_glu_serum\"].apply(lambda x: 0 if x == -1 else 1)"
   ]
  },
  {
   "cell_type": "markdown",
   "id": "charitable-brief",
   "metadata": {},
   "source": [
    "#### Change of medication\n",
    "\n",
    "Converting object type to numerical:"
   ]
  },
  {
   "cell_type": "code",
   "execution_count": 29,
   "id": "conceptual-temperature",
   "metadata": {},
   "outputs": [],
   "source": [
    "df2[\"change\"] = df2[\"change\"].apply(lambda x: 1 if x == \"Ch\" else 0)"
   ]
  },
  {
   "cell_type": "markdown",
   "id": "smoking-facing",
   "metadata": {},
   "source": [
    "#### Diabetes medications\n",
    "Converting object type to numerical:"
   ]
  },
  {
   "cell_type": "code",
   "execution_count": 30,
   "id": "danish-toner",
   "metadata": {},
   "outputs": [],
   "source": [
    "df2[\"diabetesMed\"] = df2[\"diabetesMed\"].apply(lambda x: 1 if x == \"Yes\" else 0)"
   ]
  },
  {
   "cell_type": "markdown",
   "id": "illegal-citation",
   "metadata": {},
   "source": [
    "#### Readmitted (target variable)"
   ]
  },
  {
   "cell_type": "markdown",
   "id": "missing-triumph",
   "metadata": {},
   "source": [
    "Setting the variable to 1 if readmitted earlier than 30 days, 0 otherwise."
   ]
  },
  {
   "cell_type": "code",
   "execution_count": 31,
   "id": "controlling-austria",
   "metadata": {},
   "outputs": [],
   "source": [
    "df2['readmitted'] = df2['readmitted'].apply(lambda x: 1 if x == \"<30\" else 0)"
   ]
  },
  {
   "cell_type": "markdown",
   "id": "coordinated-scout",
   "metadata": {},
   "source": [
    "#### Dummy variables creation\n",
    "\n",
    "All categorical variables are going to be converted into dummy variables (one-hot encoding)."
   ]
  },
  {
   "cell_type": "code",
   "execution_count": 32,
   "id": "confused-court",
   "metadata": {},
   "outputs": [],
   "source": [
    "df2 = pd.get_dummies(df2, dummy_na=False, drop_first=False)"
   ]
  },
  {
   "cell_type": "markdown",
   "id": "neural-thermal",
   "metadata": {},
   "source": [
    "#### Merging diag_n variables"
   ]
  },
  {
   "cell_type": "markdown",
   "id": "timely-shark",
   "metadata": {},
   "source": [
    "The `diag` features represent what the physician thought would be the causes of the patient admission. As a rule, the primary (principal) cause of admission should be the `diag_1` variable. `diag_2` and `diag_3` variables are left for secondary causes. To avoid passing too many dummy variables to the model, I'm going to merge the three features into a weighted sum.\n",
    "\n",
    "Example: if a patient has diag_1_Circulatory = 1, diag_2_Circulatory = 1, and diag_3_Circulatory = 0, the weighted sum is going to be diag_Circulatory = 1x3 + 1x2 + 0x1 = 5."
   ]
  },
  {
   "cell_type": "code",
   "execution_count": 33,
   "id": "colonial-responsibility",
   "metadata": {},
   "outputs": [],
   "source": [
    "for disease in diag:\n",
    "    df2[f\"diag_{disease}\"] = df2[f\"diag_1_{disease}\"]*3 + df2[f\"diag_2_{disease}\"]*2 + df2[f\"diag_3_{disease}\"]*1 \n",
    "    df2.drop([f\"diag_{n}_{disease}\" for n in range(1,4)], axis=1, inplace=True)"
   ]
  },
  {
   "cell_type": "markdown",
   "id": "incorporate-anthropology",
   "metadata": {},
   "source": [
    "#### Analysis of correlated variables"
   ]
  },
  {
   "cell_type": "markdown",
   "id": "fewer-chuck",
   "metadata": {},
   "source": [
    "A final check for correlated variables, and see if any one variable could cause a large amount of problem to the model's prediction. Highly-correlated variables (more than 0.9) may result in unstable models. This is especially true for logistic regression models."
   ]
  },
  {
   "cell_type": "code",
   "execution_count": 36,
   "id": "available-adolescent",
   "metadata": {},
   "outputs": [
    {
     "data": {
      "text/plain": [
       "A1C_tested            A1Cresult               0.917508\n",
       "A1Cresult             A1C_tested              0.917508\n",
       "max_glu_serum         max_glu_serum_tested    0.902445\n",
       "max_glu_serum_tested  max_glu_serum           0.902445\n",
       "race_Caucasian        race_AfricanAmerican    0.807590\n",
       "race_AfricanAmerican  race_Caucasian          0.807590\n",
       "change                diabetesMed             0.506697\n",
       "diabetesMed           change                  0.506697\n",
       "dtype: float64"
      ]
     },
     "execution_count": 36,
     "metadata": {},
     "output_type": "execute_result"
    }
   ],
   "source": [
    "abscorr = df2.corr().abs()\n",
    "corr_list = abscorr.unstack().sort_values(kind=\"quicksort\", ascending=False)\n",
    "corr_list[(corr_list > 0.5) & (corr_list != 1)]"
   ]
  },
  {
   "cell_type": "markdown",
   "id": "frozen-helping",
   "metadata": {},
   "source": [
    "As expected, `A1Cresult` is strongly correlated with the engineered feature `A1Ctested`. The same is valid for `max_glu_serum_tested` and `max_glu_serum`.\n",
    "\n",
    "After a few tests, I concluded that these values were not sufficient to affect the models' performance (and in fact, even helped them)."
   ]
  },
  {
   "cell_type": "code",
   "execution_count": 37,
   "id": "radio-content",
   "metadata": {},
   "outputs": [],
   "source": [
    "# # Drop variables that are above the 0.7 absolute correlation threshold\n",
    "# df2.drop([\n",
    "#     \"race_Caucasian\",  \n",
    "#     \"A1C_tested\",\n",
    "#     \"max_glu_serum_tested\"\n",
    "# ] , axis=1, inplace=True)"
   ]
  },
  {
   "cell_type": "markdown",
   "id": "honey-cursor",
   "metadata": {},
   "source": [
    "#### Summary of the transformed data set"
   ]
  },
  {
   "cell_type": "code",
   "execution_count": 38,
   "id": "recreational-survival",
   "metadata": {},
   "outputs": [
    {
     "name": "stdout",
     "output_type": "stream",
     "text": [
      "<class 'pandas.core.frame.DataFrame'>\n",
      "Int64Index: 71518 entries, 0 to 101765\n",
      "Data columns (total 45 columns):\n",
      " #   Column                               Non-Null Count  Dtype\n",
      "---  ------                               --------------  -----\n",
      " 0   gender                               71518 non-null  int64\n",
      " 1   age                                  71518 non-null  int64\n",
      " 2   time_in_hospital                     71518 non-null  int64\n",
      " 3   num_lab_procedures                   71518 non-null  int64\n",
      " 4   num_procedures                       71518 non-null  int64\n",
      " 5   num_medications                      71518 non-null  int64\n",
      " 6   number_outpatient                    71518 non-null  int64\n",
      " 7   number_emergency                     71518 non-null  int64\n",
      " 8   number_inpatient                     71518 non-null  int64\n",
      " 9   number_diagnoses                     71518 non-null  int64\n",
      " 10  max_glu_serum                        71518 non-null  int64\n",
      " 11  A1Cresult                            71518 non-null  int64\n",
      " 12  change                               71518 non-null  int64\n",
      " 13  diabetesMed                          71518 non-null  int64\n",
      " 14  readmitted                           71518 non-null  int64\n",
      " 15  emergency                            71518 non-null  int64\n",
      " 16  sent_home                            71518 non-null  int64\n",
      " 17  A1C_tested                           71518 non-null  int64\n",
      " 18  max_glu_serum_tested                 71518 non-null  int64\n",
      " 19  race_AfricanAmerican                 71518 non-null  uint8\n",
      " 20  race_Asian                           71518 non-null  uint8\n",
      " 21  race_Caucasian                       71518 non-null  uint8\n",
      " 22  race_Hispanic                        71518 non-null  uint8\n",
      " 23  race_Other                           71518 non-null  uint8\n",
      " 24  diag_Circulatory                     71518 non-null  uint8\n",
      " 25  diag_Respiratory                     71518 non-null  uint8\n",
      " 26  diag_Digestive                       71518 non-null  uint8\n",
      " 27  diag_Diabetes                        71518 non-null  uint8\n",
      " 28  diag_Injury                          71518 non-null  uint8\n",
      " 29  diag_Musculoskeletal                 71518 non-null  uint8\n",
      " 30  diag_Genitourinary                   71518 non-null  uint8\n",
      " 31  diag_Neoplasms                       71518 non-null  uint8\n",
      " 32  diag_Endocrine                       71518 non-null  uint8\n",
      " 33  diag_General symptoms                71518 non-null  uint8\n",
      " 34  diag_Skin                            71518 non-null  uint8\n",
      " 35  diag_Infection                       71518 non-null  uint8\n",
      " 36  diag_Mental                          71518 non-null  uint8\n",
      " 37  diag_External causes                 71518 non-null  uint8\n",
      " 38  diag_Blood                           71518 non-null  uint8\n",
      " 39  diag_Nervous                         71518 non-null  uint8\n",
      " 40  diag_Pregnancy                       71518 non-null  uint8\n",
      " 41  diag_Sense organs                    71518 non-null  uint8\n",
      " 42  diag_Congenital                      71518 non-null  uint8\n",
      " 43  diag_Occlusion of cerebral arteries  71518 non-null  uint8\n",
      " 44  diag_Unknown                         71518 non-null  uint8\n",
      "dtypes: int64(19), uint8(26)\n",
      "memory usage: 12.7 MB\n"
     ]
    }
   ],
   "source": [
    "df2.info()"
   ]
  },
  {
   "cell_type": "markdown",
   "id": "confident-stephen",
   "metadata": {},
   "source": [
    "<a id=\"modeling\"></a>\n",
    "\n",
    "## Modeling"
   ]
  },
  {
   "cell_type": "code",
   "execution_count": 39,
   "id": "affecting-subject",
   "metadata": {},
   "outputs": [],
   "source": [
    "y = df2['readmitted'].values\n",
    "X = df2.drop(\"readmitted\", axis=1).values"
   ]
  },
  {
   "cell_type": "markdown",
   "id": "eastern-omega",
   "metadata": {},
   "source": [
    "75/25 split of the data set into training/test sets:"
   ]
  },
  {
   "cell_type": "code",
   "execution_count": 40,
   "id": "distinguished-aircraft",
   "metadata": {},
   "outputs": [],
   "source": [
    "X_train, X_test, y_train, y_test = train_test_split(X,y,random_state=33634)"
   ]
  },
  {
   "cell_type": "markdown",
   "id": "potential-telephone",
   "metadata": {},
   "source": [
    "#####  Logistic Regression"
   ]
  },
  {
   "cell_type": "markdown",
   "id": "rural-space",
   "metadata": {},
   "source": [
    "The machine learning pipeline has several steps which seemed pertinent, such as:\n",
    "\n",
    "- Standardizing the training set to guarantee a faster convergence;\n",
    "- Drop variables that have null variance (thus not containing relevant information);\n",
    "- Selection of most relevant features based on ANOVA test between each feature and the target variable (ANOVA was the test of choice because of speed, and also because the chi2 test requires values to be positive, which would not be the case after the StandardScaler standardizes them);\n",
    "- The machine learning model itself."
   ]
  },
  {
   "cell_type": "code",
   "execution_count": 41,
   "id": "basic-consent",
   "metadata": {},
   "outputs": [],
   "source": [
    "lr = Pipeline([    \n",
    "        (\"scaler\", StandardScaler()),\n",
    "        (\"varthres\", VarianceThreshold()),\n",
    "        (\"select\", SelectKBest(f_classif, k=40)),\n",
    "        (\"clf\", LogisticRegression(random_state=33634, \n",
    "                                   max_iter=1000, \n",
    "                                   solver=\"saga\",\n",
    "                                   C=0.01,\n",
    "                                   penalty=\"l1\",\n",
    "                                   class_weight=\"balanced\"))\n",
    "    ])    \n",
    "\n",
    "if OPTIMIZE:\n",
    "    lr_params = {\n",
    "            \"select__k\": range(2, X.shape[1]),        \n",
    "            'clf__penalty':[\"none\", \"l2\", \"l1\"],\n",
    "            'clf__C': np.logspace(-3,3,7)        \n",
    "        }\n",
    "\n",
    "    grid = GridSearchCV(lr, \n",
    "                       lr_params,\n",
    "                       cv=5, \n",
    "                       scoring=\"roc_auc\",\n",
    "                       verbose=10, \n",
    "                       n_jobs=5,                   \n",
    "                     )\n",
    "\n",
    "    grid.fit(X_train, y_train)\n",
    "    print('Best Score:', grid.best_score_)\n",
    "    print('Best Hyperparameters:', grid.best_params_)\n",
    "    lr = grid.best_estimator_\n",
    "\n",
    "else:\n",
    "    lr.fit(X_train, y_train)"
   ]
  },
  {
   "cell_type": "code",
   "execution_count": 42,
   "id": "unnecessary-exhibition",
   "metadata": {},
   "outputs": [],
   "source": [
    "rf = RandomForestClassifier(n_estimators=1000,\n",
    "                            random_state=33634,\n",
    "                            class_weight=\"balanced\",\n",
    "                            max_depth=30,\n",
    "                            min_samples_leaf=10,\n",
    "                            min_samples_split=150)\n",
    "\n",
    "if OPTIMIZE:\n",
    "    rf_params = {\n",
    "        \"criterion\": [\"gini\", \"entropy\"],\n",
    "        \"max_depth\": [8, 13, 21, 34, 55],\n",
    "        \"min_samples_split\": [55, 89, 144, 233],\n",
    "        \"min_samples_leaf\": [3, 5, 8, 13, 21, 34],\n",
    "        \"max_features\": [\"sqrt\", \"log2\", None],\n",
    "        \"oob_score\": [True, False],                 \n",
    "    }\n",
    "    \n",
    "    gridrf = GridSearchCV(rf, \n",
    "                       rf_params,\n",
    "                       cv=5, \n",
    "                       scoring=\"roc_auc\",\n",
    "                       verbose=10, \n",
    "                       n_jobs=5, \n",
    "                       )\n",
    "    gridrf.fit(X_train, y_train)\n",
    "    print('Best Score:', gridrf.best_score_)\n",
    "    print('Best Hyperparameters:', gridrf.best_params_)\n",
    "    rf = gridrf.best_estimator_\n",
    "else:\n",
    "    rf.fit(X_train, y_train)\n",
    "\n"
   ]
  },
  {
   "cell_type": "markdown",
   "id": "neither-memorabilia",
   "metadata": {},
   "source": [
    "## Evaluation"
   ]
  },
  {
   "cell_type": "markdown",
   "id": "stunning-disposal",
   "metadata": {},
   "source": [
    "##### Machine learning model performance and most informative variables"
   ]
  },
  {
   "cell_type": "markdown",
   "id": "earned-hawaiian",
   "metadata": {},
   "source": [
    "These are the metrics of the **Logistic Regression** model when tested against the testing set:"
   ]
  },
  {
   "cell_type": "code",
   "execution_count": 43,
   "id": "north-replication",
   "metadata": {},
   "outputs": [
    {
     "name": "stdout",
     "output_type": "stream",
     "text": [
      "Precision:  0.13595594020456334\n",
      "Recall:  0.5403377110694184\n",
      "F1:  0.21724918280110633\n",
      "ROC:  0.6355722449373435\n"
     ]
    }
   ],
   "source": [
    "print(\"Precision: \", precision_score(y_test, lr.predict(X_test)))\n",
    "print(\"Recall: \", recall_score(y_test, lr.predict(X_test)))\n",
    "print(\"F1: \", f1_score(y_test, lr.predict(X_test)))\n",
    "print(\"ROC: \", roc_auc_score(y_test, lr.predict_proba(X_test)[:,1]))"
   ]
  },
  {
   "cell_type": "markdown",
   "id": "extreme-cheat",
   "metadata": {},
   "source": [
    "These are the metrics of the **Random Forest** model when tested against the testing set:"
   ]
  },
  {
   "cell_type": "code",
   "execution_count": 44,
   "id": "developing-malpractice",
   "metadata": {},
   "outputs": [
    {
     "name": "stdout",
     "output_type": "stream",
     "text": [
      "Precision:  0.1691240242844753\n",
      "Recall:  0.36585365853658536\n",
      "F1:  0.2313167259786477\n",
      "ROC:  0.6550538945879318\n"
     ]
    }
   ],
   "source": [
    "print(\"Precision: \", precision_score(y_test, rf.predict(X_test)))\n",
    "print(\"Recall: \", recall_score(y_test, rf.predict(X_test)))\n",
    "print(\"F1: \", f1_score(y_test, rf.predict(X_test)))\n",
    "print(\"ROC: \", roc_auc_score(y_test, rf.predict_proba(X_test)[:,1]))"
   ]
  },
  {
   "cell_type": "code",
   "execution_count": 45,
   "id": "sporting-production",
   "metadata": {},
   "outputs": [
    {
     "data": {
      "image/png": "[encoded data removed]",
      "text/plain": [
       "<Figure size 648x360 with 1 Axes>"
      ]
     },
     "metadata": {
      "needs_background": "light"
     },
     "output_type": "display_data"
    }
   ],
   "source": [
    "fig, ax = plt.subplots(figsize=(9,5))\n",
    "plot_roc_curve(lr, X_test, y_test, ax=ax, name=\"Logistic Regression\")\n",
    "plot_roc_curve(rf, X_test, y_test, ax=ax, name=\"Random Forest\")\n",
    "plt.margins(x=0, y=0)\n",
    "plt.xlabel(\"False positive rate\")\n",
    "plt.ylabel(\"True positive rate\")\n",
    "plt.tight_layout()\n",
    "plt.savefig(\"../reports/roc.png\")"
   ]
  },
  {
   "cell_type": "markdown",
   "id": "rapid-spare",
   "metadata": {},
   "source": [
    "According to the AUC, the Random Forest performs slightly better than the Logistic Regression, so we are going to use its coefficients (feature importances) as a basis for our analysis."
   ]
  },
  {
   "cell_type": "markdown",
   "id": "embedded-mouse",
   "metadata": {},
   "source": [
    "This is how each feature affected the machine learning model's prediction:"
   ]
  },
  {
   "cell_type": "code",
   "execution_count": 46,
   "id": "perfect-performance",
   "metadata": {},
   "outputs": [
    {
     "data": {
      "image/png": "[encoded data removed]",
      "text/plain": [
       "<Figure size 1080x1584 with 1 Axes>"
      ]
     },
     "metadata": {
      "needs_background": "light"
     },
     "output_type": "display_data"
    }
   ],
   "source": [
    "# get the coefficients from tunned model\n",
    "coefs = rf.feature_importances_\n",
    "\n",
    "# retrieve which features were selected by the feature selection part of the pipeline\n",
    "# mask_vars = grid.best_estimator_[\"varthres\"].get_support()\n",
    "# mask_select = grid.best_estimator_[\"select\"].get_support()\n",
    "features = df2.drop(\"readmitted\", axis=1).columns #.values[mask_vars][mask_select]\n",
    "\n",
    "# plot selected features and their coefficients\n",
    "palette = sns.color_palette(\"colorblind\").as_hex()\n",
    "colors = [palette[3] if x < 0 else palette[2] for x in coefs[coefs.argsort()]]\n",
    "pos = range(len(coefs))\n",
    "plt.figure(figsize=(15, len(coefs)*0.5))\n",
    "plt.barh(pos, coefs[coefs.argsort()], color=colors)\n",
    "plt.yticks(pos, features[coefs.argsort()])\n",
    "plt.axvline(x=0, color='.2')\n",
    "sns.despine()\n",
    "plt.tight_layout()\n",
    "plt.savefig(\"../reports/coef.png\")\n",
    "plt.show()"
   ]
  },
  {
   "cell_type": "markdown",
   "id": "roman-capital",
   "metadata": {},
   "source": [
    "In an ensemble model like the Random Forest, every feature count as a vote in the final prediction, even if they are highly correlated or uninmportant (although they may have a smaller weight in the decision).\n",
    "\n",
    "I'm going to focus on the 10 most important features according to the model:\n",
    "\n"
   ]
  },
  {
   "cell_type": "markdown",
   "id": "structured-layout",
   "metadata": {},
   "source": [
    "`time_in_hospital`, `num_lab_procedures`, `num_medications`, `number_diagnoses` and `num_procedures`\n"
   ]
  },
  {
   "cell_type": "markdown",
   "id": "occupational-stocks",
   "metadata": {},
   "source": [
    "These five variables are highly correlated, and it makes sense: the longer you stay in hospital, the more medications, lab procedures, diagnoses and general procedures you're likely to be subjected to."
   ]
  },
  {
   "cell_type": "code",
   "execution_count": 47,
   "id": "matched-globe",
   "metadata": {},
   "outputs": [
    {
     "data": {
      "image/png": "[encoded data removed]",
      "text/plain": [
       "<Figure size 1080x720 with 4 Axes>"
      ]
     },
     "metadata": {
      "needs_background": "light"
     },
     "output_type": "display_data"
    }
   ],
   "source": [
    "sns.set_context('paper', font_scale=1.75)\n",
    "fig, axs = plt.subplots(2,2, figsize=(15,10))\n",
    "\n",
    "df2.groupby(\"time_in_hospital\")[[\"num_lab_procedures\"]].mean().plot(ax=axs[0,0],\n",
    "                                                                    legend=None,\n",
    "                                                                    xlabel=\"days in hospital\",\n",
    "                                                                    ylabel=\"lab procedures\")\n",
    "df2.groupby(\"time_in_hospital\")[[\"num_medications\"]].mean().plot(ax=axs[0,1],\n",
    "                                                                    legend=None,\n",
    "                                                                    xlabel=\"days in hospital\",\n",
    "                                                                    ylabel=\"number of medications\")\n",
    "df2.groupby(\"time_in_hospital\")[[\"number_diagnoses\"]].mean().plot(ax=axs[1,0],\n",
    "                                                                    legend=None,\n",
    "                                                                    xlabel=\"days in hospital\",\n",
    "                                                                    ylabel=\"number of diagnoses\")\n",
    "df2.groupby(\"time_in_hospital\")[[\"num_procedures\"]].mean().plot(ax=axs[1,1],\n",
    "                                                                    legend=None,\n",
    "                                                                    xlabel=\"days in hospital\",\n",
    "                                                                    ylabel=\"number of procedures\")\n",
    "sns.despine()"
   ]
  },
  {
   "cell_type": "markdown",
   "id": "technical-legend",
   "metadata": {},
   "source": [
    "Moreover, how does staying longer affect readmission? It seems that more extended hospital stays do not imply fewer readmissions. Quite the opposite: the longer the stay, the higher the likelihood of admission (see figure below). It is impossible to tell if a prolonged stay worsens the patient's health and increases their chance of readmission because correlation does not imply causation. Most likely, the longer stay is precisely a sign that the patient's health is fragile, hence the higher probability of readmission within 30 days."
   ]
  },
  {
   "cell_type": "code",
   "execution_count": 48,
   "id": "living-essex",
   "metadata": {},
   "outputs": [
    {
     "data": {
      "image/png": "[encoded data removed]",
      "text/plain": [
       "<Figure size 648x144 with 1 Axes>"
      ]
     },
     "metadata": {
      "needs_background": "light"
     },
     "output_type": "display_data"
    }
   ],
   "source": [
    "plt.figure(figsize=(9,2))\n",
    "df2.groupby(\"readmitted\")[\"time_in_hospital\"].mean().plot.barh(color=[\"lightgray\", \"steelblue\"])\n",
    "plt.xlabel(\"avg. time in hospital (days)\")\n",
    "plt.yticks(ticks=[0,1], labels=[\"non-readmitted\", \"readmitted\"])\n",
    "plt.ylabel(None)\n",
    "sns.despine()"
   ]
  },
  {
   "cell_type": "markdown",
   "id": "finished-equality",
   "metadata": {},
   "source": [
    "`number_inpatient`\n",
    "\n",
    "The number of inpatient visits in the year preceding the encounter. The model suggests that the more often patients have been admitted in the previous year, the higher the likelihood they will be readmitted in the future. Let us call this a darker version of the Lindy Effect: \"if you were to a hospital last year, you would probably visit it next year too.\"\n",
    "\n",
    "That could be an indirect indicator of the patient's health, which may correlate with the number of hospital visits."
   ]
  },
  {
   "cell_type": "code",
   "execution_count": 49,
   "id": "thirty-cyprus",
   "metadata": {},
   "outputs": [
    {
     "data": {
      "image/png": "[encoded data removed]",
      "text/plain": [
       "<Figure size 648x360 with 1 Axes>"
      ]
     },
     "metadata": {
      "needs_background": "light"
     },
     "output_type": "display_data"
    }
   ],
   "source": [
    "plt.figure(figsize=(9,5))\n",
    "df2.groupby(\"number_inpatient\")[\"readmitted\"].mean().plot.bar()\n",
    "plt.xlabel(\"hospital visits in the last year\")\n",
    "plt.ylabel(\"readmission rate\")\n",
    "sns.despine()"
   ]
  },
  {
   "cell_type": "markdown",
   "id": "skilled-operations",
   "metadata": {},
   "source": [
    "`age`\n",
    "\n",
    "As expected, older patients are more prone to unexpected complications and, consequently, early readmissions. They also take longer to recover, as observed in the graph below. In that case, it is recommended that hospitals be more incisive with older patients regarding preemptive measures."
   ]
  },
  {
   "cell_type": "code",
   "execution_count": 50,
   "id": "alien-fight",
   "metadata": {},
   "outputs": [
    {
     "data": {
      "image/png": "[encoded data removed]",
      "text/plain": [
       "<Figure size 648x432 with 1 Axes>"
      ]
     },
     "metadata": {
      "needs_background": "light"
     },
     "output_type": "display_data"
    },
    {
     "data": {
      "text/plain": [
       "<Figure size 648x360 with 0 Axes>"
      ]
     },
     "metadata": {},
     "output_type": "display_data"
    }
   ],
   "source": [
    "sns.color_palette(\"flare\")\n",
    "fig, ax = plt.subplots(figsize=(9,6))\n",
    "plt.figure(figsize=(9,5))\n",
    "df.groupby(\"age\")[[\"time_in_hospital\"]].mean().plot.bar(ax=ax, legend=None)\n",
    "sns.despine(ax=ax)\n",
    "ax.set_ylabel(\"avg. days in hospital\")\n",
    "plt.show()"
   ]
  },
  {
   "cell_type": "markdown",
   "id": "authentic-julian",
   "metadata": {},
   "source": [
    "`sent_home`\n",
    "\n",
    "The rationale behind this engineered feature was that going home from the hospital (either due to discharge or continued treatment) could positively impact the patient's recovery, so much so that they would be at lesser risk of readmission.\n",
    "\n",
    "However, non-readmission does not necessarily mean recovery. There are other reasons for a patient not showing up, like giving up on electively going to the hospital again, being transferred to a hospice, or death.\n",
    "\n",
    "Either way, this engineered feature was one of the most informative features according to the model and could be used at least partially to account for future readmissions. According to the data, around 60% of the readmitted patients had been sent home, versus more than 75% of the non-readmitted."
   ]
  },
  {
   "cell_type": "code",
   "execution_count": 51,
   "id": "geological-search",
   "metadata": {},
   "outputs": [
    {
     "data": {
      "image/png": "[encoded data removed]",
      "text/plain": [
       "<Figure size 648x144 with 1 Axes>"
      ]
     },
     "metadata": {
      "needs_background": "light"
     },
     "output_type": "display_data"
    }
   ],
   "source": [
    "plt.figure(figsize=(9,2))\n",
    "(df2.groupby(\"readmitted\")[\"sent_home\"].mean()*100).plot.barh(color=[\"lightgray\", \"steelblue\"])\n",
    "plt.xlabel(\"% of people sent home\")\n",
    "plt.yticks(ticks=[0,1], labels=[\"non-readmitted\", \"readmitted\"])\n",
    "plt.ylabel(None)\n",
    "sns.despine()"
   ]
  },
  {
   "cell_type": "markdown",
   "id": "valid-rotation",
   "metadata": {},
   "source": [
    "### Further questions\n",
    "\n",
    "Now that we have treated the data set and trained a model, we can start answering other critical questions of this work.\n",
    "\n",
    "##### Were readmitted diabetic patients correctly diagnosed in their first admission?\n",
    "\n",
    "It is known that all encounters in the data set are diabetes-related, even if diabetes does not show up in any of the diagnoses columns. One possible cause of this is that diabetes was not correctly spotted the first time the patient was admitted to the hospital. So does an early detection of diabetes prevent patients from being readmitted later on?"
   ]
  },
  {
   "cell_type": "code",
   "execution_count": 52,
   "id": "level-belize",
   "metadata": {},
   "outputs": [
    {
     "data": {
      "text/html": [
       "<div>\n",
       "<style scoped>\n",
       "    .dataframe tbody tr th:only-of-type {\n",
       "        vertical-align: middle;\n",
       "    }\n",
       "\n",
       "    .dataframe tbody tr th {\n",
       "        vertical-align: top;\n",
       "    }\n",
       "\n",
       "    .dataframe thead th {\n",
       "        text-align: right;\n",
       "    }\n",
       "</style>\n",
       "<table border=\"1\" class=\"dataframe\">\n",
       "  <thead>\n",
       "    <tr style=\"text-align: right;\">\n",
       "      <th></th>\n",
       "      <th>average</th>\n",
       "      <th>stdev</th>\n",
       "    </tr>\n",
       "    <tr>\n",
       "      <th>readmitted</th>\n",
       "      <th></th>\n",
       "      <th></th>\n",
       "    </tr>\n",
       "  </thead>\n",
       "  <tbody>\n",
       "    <tr>\n",
       "      <th>0</th>\n",
       "      <td>0.694258</td>\n",
       "      <td>0.003747</td>\n",
       "    </tr>\n",
       "    <tr>\n",
       "      <th>1</th>\n",
       "      <td>0.684888</td>\n",
       "      <td>0.003811</td>\n",
       "    </tr>\n",
       "  </tbody>\n",
       "</table>\n",
       "</div>"
      ],
      "text/plain": [
       "             average     stdev\n",
       "readmitted                    \n",
       "0           0.694258  0.003747\n",
       "1           0.684888  0.003811"
      ]
     },
     "execution_count": 52,
     "metadata": {},
     "output_type": "execute_result"
    }
   ],
   "source": [
    "correct_diag = pd.DataFrame()\n",
    "correct_diag[\"average\"] = df2.groupby(\"readmitted\")[\"diag_Diabetes\"].mean()\n",
    "correct_diag[\"stdev\"] = df2.groupby(\"readmitted\")[\"diag_Diabetes\"].std()/np.sqrt(len(df2))\n",
    "correct_diag"
   ]
  },
  {
   "cell_type": "code",
   "execution_count": 53,
   "id": "cognitive-mount",
   "metadata": {},
   "outputs": [
    {
     "name": "stdout",
     "output_type": "stream",
     "text": [
      "F-value:  0.5003727\n",
      "p-value:  0.47933870831929015\n"
     ]
    }
   ],
   "source": [
    "from sklearn.feature_selection import f_regression\n",
    "f_test = f_classif(df2.diag_Diabetes.values.reshape(-1,1), df2.readmitted.values.reshape(-1,1))\n",
    "print(\"F-value: \", f_test[0][0])\n",
    "print(\"p-value: \", f_test[1][0])"
   ]
  },
  {
   "cell_type": "markdown",
   "id": "retained-metallic",
   "metadata": {},
   "source": [
    "Since $p > 0.05$, we can't reject the null hypothesis (at a 95% confidence level). "
   ]
  },
  {
   "cell_type": "markdown",
   "id": "future-mailing",
   "metadata": {},
   "source": [
    "##### How often HbA1c exams are asked by physicians in the inpatient setting?"
   ]
  },
  {
   "cell_type": "markdown",
   "id": "standard-danger",
   "metadata": {},
   "source": [
    "According to the data set, some patients diagnosed with diabetes didn't have their HbA1c levels checked, and those were more likely of being readmitted within 30 days. "
   ]
  },
  {
   "cell_type": "code",
   "execution_count": 54,
   "id": "waiting-stephen",
   "metadata": {},
   "outputs": [
    {
     "name": "stdout",
     "output_type": "stream",
     "text": [
      "Non-readmitted: 22.766049455517553\n",
      "Readmitted: 20.65033783783784\n"
     ]
    }
   ],
   "source": [
    "print(\"Non-readmitted:\", (df2[(df2.readmitted == 0) & (df2.diag_Diabetes > 0)][\"A1Cresult\"] >= 0).mean() * 100)\n",
    "print(\"Readmitted:\", (df2[(df2.readmitted == 1) & (df2.diag_Diabetes > 0)][\"A1Cresult\"] >= 0).mean() * 100)"
   ]
  },
  {
   "cell_type": "markdown",
   "id": "static-lyric",
   "metadata": {},
   "source": [
    "High HbA1c levels is one of the key indicators of diabetes. Maybe if the doctors asked for a test, they could see that a medication change was needed. The data shows that once A1c levels are assessed, a medication change is more likely to occur."
   ]
  },
  {
   "cell_type": "code",
   "execution_count": 55,
   "id": "false-symbol",
   "metadata": {},
   "outputs": [
    {
     "data": {
      "image/png": "[encoded data removed]",
      "text/plain": [
       "<Figure size 648x144 with 1 Axes>"
      ]
     },
     "metadata": {
      "needs_background": "light"
     },
     "output_type": "display_data"
    }
   ],
   "source": [
    "\n",
    "plt.figure(figsize=(9,2))\n",
    "(df2[(df2.diag_Diabetes > 0)].groupby(\"A1C_tested\")['change'].mean()*100).plot.barh(color=[\"lightgray\", \"steelblue\"])\n",
    "plt.xlabel(\"% of patients who had a change in their medications\")\n",
    "plt.yticks(ticks=[0,1], labels=[\"A1C not tested\", \"A1C tested\"])\n",
    "plt.ylabel(None)\n",
    "sns.despine()"
   ]
  },
  {
   "cell_type": "markdown",
   "id": "acute-terrorist",
   "metadata": {},
   "source": [
    "### Summary of insights\n",
    "\n",
    "- Time in hospital (and indirectly the number of lab procedures, number of procedures, and number of medications) could indicate the patient's health. The longer the stay, the higher the probability of being readmitted within 30 days.\n",
    "- Number of inpatient visits in the last year could also be an indicator of the patient's health, but longer term. It is also strongly correlated with early readmission.\n",
    "- The older the patient, the higher the probability of early readmission after discharge.\n",
    "- People who were sent home are less likely to return within 30 days.\n",
    "- Even after being diagnosed with diabetes-related symptoms, patients who did not have their HbA1c levels checked were more prone to early readmission, most likely because they needed a medication change.\n",
    " "
   ]
  },
  {
   "cell_type": "markdown",
   "id": "statistical-compatibility",
   "metadata": {},
   "source": [
    "<a id=\"references\"></a>\n",
    "## References\n",
    "\n",
    "Cheng, S.-W., Wang, C.-Y., & Ko, Y. (2019). Costs and Length of Stay of Hospitalizations due to Diabetes-Related Complications. Journal of Diabetes Research, 2019, 1–6. https://doi.org/10.1155/2019/2363292\n",
    "\n",
    "Graham, K. L., Auerbach, A. D., Schnipper, J. L., Flanders, S. A., Kim, C. S., Robinson, E. J., Ruhnke, G. W., Thomas, L. R., Kripalani, S., Vasilevskis, E. E., Fletcher, G. S., Sehgal, N. J., Lindenauer, P. K., Williams, M. V., Metlay, J. P., Davis, R. B., Yang, J., Marcantonio, E. R., & Herzig, S. J. (2018). Preventability of Early Versus Late Hospital Readmissions in a National Cohort of General Medicine Patients. Annals of Internal Medicine, 168(11), 766–774. https://doi.org/10.7326/M17-1724\n",
    "\n",
    "Leppin, A. L., Gionfriddo, M. R., Kessler, M., Brito, J. P., Mair, F. S., Gallacher, K., Wang, Z., Erwin, P. J., Sylvester, T., Boehmer, K., Ting, H. H., Murad, M. H., Shippee, N. D., & Montori, V. M. (2014). Preventing 30-Day Hospital Readmissions: A Systematic Review and Meta-analysis of Randomized Trials. JAMA Internal Medicine, 174(7), 1095. https://doi.org/10.1001/jamainternmed.2014.1608\n",
    "\n",
    "Robinson, R., & Hudali, T. (2017). The HOSPITAL score and LACE index as predictors of 30 day \n",
    "readmission in a retrospective study at a university-affiliated community hospital. PeerJ, 5, e3137. https://doi.org/10.7717/peerj.3137\n",
    "\n",
    "Rubin, D. J. (2015). Hospital Readmission of Patients with Diabetes. Current Diabetes Reports, 15(4), 17. https://doi.org/10.1007/s11892-015-0584-7\n",
    "\n",
    "Smeraglio, A., Heidenreich, P. A., Krishnan, G., Hopkins, J., Chen, J., & Shieh, L. (2019). “Patient vs provider perspectives of 30-day hospital readmissions.” BMJ open quality, 8(1), e000264. https://doi.org/10.1136/bmjoq-2017-000264\n",
    "\n",
    "Soh, J. G. S., Wong, W. P., Mukhopadhyay, A., Quek, S. C., & Tai, B. C. (2020). Predictors of 30-day unplanned hospital readmission among adult patients with diabetes mellitus: A systematic review with meta-analysis. BMJ Open Diabetes Research & Care, 8(1), e001227. https://doi.org/10.1136/bmjdrc-2020-001227\n",
    "\n",
    "Strack, B., DeShazo, J. P., Gennings, C., Olmo, J. L., Ventura, S., Cios, K. J., & Clore, J. N. (2014). Impact of HbA1c Measurement on Hospital Readmission Rates: Analysis of 70,000 Clinical Database Patient Records. BioMed Research International, 2014, 1–11. https://doi.org/10.1155/2014/781670\n",
    "\n",
    "Swami, J., Donihi, A., Siminerio, L. M., French, E. K., Delisi, K., Hlasnik, D. S., Patel, N., Pinkhasova, D., Rubin, D. J., & Korytkowski, M. T. (2018). Readmission and Comprehension of Diabetes Education at Discharge (ReCoDED Study). Diabetes, 67(Supplement 1), 147-LB. https://doi.org/10.2337/db18-147-LB"
   ]
  },
  {
   "cell_type": "code",
   "execution_count": null,
   "id": "sunrise-inside",
   "metadata": {},
   "outputs": [],
   "source": []
  }
 ],
 "metadata": {
  "kernelspec": {
   "display_name": "Python 3",
   "language": "python",
   "name": "python3"
  },
  "language_info": {
   "codemirror_mode": {
    "name": "ipython",
    "version": 3
   },
   "file_extension": ".py",
   "mimetype": "text/x-python",
   "name": "python",
   "nbconvert_exporter": "python",
   "pygments_lexer": "ipython3",
   "version": "3.9.4"
  }
 },
 "nbformat": 4,
 "nbformat_minor": 5
}
