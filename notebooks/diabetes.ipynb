{
 "cells": [
  {
   "cell_type": "code",
   "execution_count": 522,
   "id": "chicken-speech",
   "metadata": {},
   "outputs": [],
   "source": [
    "import os\n",
    "import sys\n",
    "module_path = os.path.abspath(os.path.join('..'))\n",
    "if module_path not in sys.path:\n",
    "    sys.path.append(module_path)\n",
    "    \n",
    "import pandas as pd\n",
    "import numpy as np\n",
    "import matplotlib.pyplot as plt\n",
    "import seaborn as sns\n",
    "from sklearn.feature_selection import VarianceThreshold\n",
    "from sklearn.ensemble import RandomForestClassifier\n",
    "from sklearn.model_selection import train_test_split\n",
    "from sklearn.model_selection import StratifiedKFold\n",
    "from sklearn.model_selection import cross_val_score\n",
    "from sklearn.feature_selection import f_classif\n",
    "from sklearn.feature_selection import VarianceThreshold\n",
    "from sklearn.feature_selection import mutual_info_classif\n",
    "from sklearn.feature_selection import SequentialFeatureSelector\n",
    "from sklearn.model_selection import GridSearchCV, RandomizedSearchCV, RepeatedStratifiedKFold\n",
    "from sklearn.linear_model import LogisticRegression\n",
    "from sklearn.metrics import roc_auc_score, precision_score, recall_score\n",
    "from sklearn.metrics import f1_score\n",
    "import xgboost as xgb\n",
    "from scipy.stats import loguniform\n",
    "from sklearn.svm import SVC\n",
    "from sklearn.naive_bayes import ComplementNB\n",
    "from skopt import BayesSearchCV\n",
    "from sklearn.feature_selection import SelectKBest, mutual_info_regression\n",
    "from math import floor\n",
    "from scipy.sparse import hstack\n",
    "from scipy.sparse import load_npz\n",
    "from sklearn.pipeline import Pipeline\n",
    "from sklearn.pipeline import FeatureUnion\n",
    "from sklearn.preprocessing import StandardScaler\n",
    "import pickle\n",
    "from sklearn.metrics import classification_report\n",
    "\n",
    "font = {'family' : 'sans',    \n",
    "        'weight' : \"normal\",\n",
    "        'size'   : 13}\n",
    "\n",
    "plt.rc('font', **font)"
   ]
  },
  {
   "cell_type": "code",
   "execution_count": null,
   "id": "rocky-context",
   "metadata": {},
   "outputs": [],
   "source": []
  },
  {
   "cell_type": "markdown",
   "id": "passive-victorian",
   "metadata": {},
   "source": [
    "# Diabetes study\n",
    "\n",
    "**Index**\n",
    "\n",
    "1. [Problem understanding](#Problem-understanding)\n",
    "2. [Data understanding](#Data-understanding)\n",
    "3. [Data preparation](#data-preparation)\n",
    "4. [Modeling](#modeling)\n",
    "5. [Evaluation](#evaluation)"
   ]
  },
  {
   "cell_type": "markdown",
   "id": "public-disease",
   "metadata": {},
   "source": [
    "<a id=\"problem-understanding\"></a>\n",
    "## 1. Problem understanding\n",
    "\n",
    "### Objectives\n",
    "\n",
    "Hospital readmission (particularly within 30 days of discharge) is seen as a world-wide high-priority health care quality measure and target for cost reduction. (Rubin, 2015) The choice of a 30-day readmission window as a measure of readmission is because such length of time is likely attributable to the quality of care during the index hospitalization, thus representing a preventable outcome. (Graham et al., 2018) \n",
    "\n",
    "Readmissions have a huge negative economical impact on hospitals. The Patient Protection and Affordable Care Act in the United States established that Centers for Medicare and Medicaid Services (CMS) would impose financial penalties on hospitals for excessive readmissions within 30 days of hospital discharge. That being said, one in five Medicare beneficiaries is readmitted within 30 days, at a cost of over $26 billion per year, with diabetes being a major contributor to risk for hospital readmission. (Soh et al., 2020) \n",
    "\n",
    "Thus, to encourage improvement in the quality of care and a reduction in unnecessary health expense, policymakers, reimbursement strategists, and the United States government have made reducing 30-day hospital readmissions a national priority.\n",
    "\n",
    "It is clear that a more complete understanding of the underlying causes of readmission is needed to reduce its rate. (Lepin et al., 2014) Therefore, any insights on these causes would cause a positive impact in health policies.\n",
    "\n",
    "\n",
    "\n",
    "### Assumptions\n",
    "\n",
    "Why would a patient be early readmitted in the first? Here are a few hypotheses:\n",
    "\n",
    "- Patient isn't properly diagnosed as diabetic in the first admission;\n",
    "- Ineffectiveness of treatment during past hospitalizations, namely\n",
    "    - insufficient number of exams;\n",
    "    - insufficient medical intervention (medication change or procedures);\n",
    "- Poor patient health.\n",
    "\n",
    "One study showed that patients often felt that their readmissions were preventable and linked them to issues with “discharge timing, follow-up, home health and skilled services” (Smeraglio et al., 2019)\n",
    " \n",
    "Patient characteristics such as\n",
    "\n",
    "- gender,\n",
    "- age,\n",
    "- race,\n",
    "- and comorbidities,\n",
    "\n",
    "may affect the outcomes (Soh et al. 2020), so they could be used to model patient early readmission.\n",
    "\n",
    "A well-known index adopted by health practitioners called *LACE* takes into account four variables:\n",
    "\n",
    "- the length of stay;\n",
    "- whether the patient was admitted through the emergency department or came voluntarily;\n",
    "- whether or not the patient has more than one disease or disorder;\n",
    "- and the number of emergency department visits in the previous six months before admission.\n",
    "\n",
    "All these are a good baseline to start off with, but other variables could also be assessed, like:\n",
    "\n",
    "- type of prescribed medication;\n",
    "- whether patient was successfully discharged to their home;\n",
    "- most frequent comorbidities among diabetic and non-diabetic patients;\n",
    "- number of medical interventions during the inpatient setting.\n",
    "\n",
    "<u>**Objective**</u>\n",
    "\n",
    "In this work I will try to answer the following questions:\n",
    "\n",
    "- Are readmitted diabetic patients correctly diagnosed in their first admission?\n",
    "- Given that HbA1c values are key for planning the diabetic patient's medication (according to the literature), how often HbA1c exams are asked by physicians in the inpatient setting?\n",
    "- Are readmitted diabetic patients receiving appropriate medical intervention, like change in their medication or medical procedures if need be?\n",
    "- Which variables are the strongest readmission predictors?\n",
    "- And finally, would it be possible to create a predictive model for early readmission? Such a model could help plan interventions for high-risk patients and reduce emotional and financial costs for both patients and hospitals respectively. The target variable is going to be unplanned readmissions that happen within 30 days of discharge from the initial admission, since this is the field standard.\n",
    "\n",
    "The proposed predictive model should be **interpretable**; which is to say that health practitioners can actually understand why the model comes to a certain prediction, and whether the variables had a positive or negative effect on the outcome, and to which extent. That being said, the most appropriate model for the job is the <u>logistic regression</u>, which returns calibrated probability as its results, and gives a detailed view on how each feature affects prediction. Besides, it's faster than most models and accurate enough with appropriate hyperparameter tuning. An alternative model, a <u>random forest classifier</u>, is going to be trained for means of comparison, although the latter is considerably slower to converge and doesn't tell if a feature affects prediction in a positive or negative fashion.\n",
    "\n",
    "Early hospital readmission seems to incur larger costs to a hospital when compared to a patient's longer length of stay, or enhanced preventive measures. Therefore, we should aim to minimize false negatives, and the most appropriate metric in this case would be *recall*.\n",
    "\n",
    "But a high recall metric isn't telling enough. Theoretically, we could strive toward a near-perfect recall metric at the expense of poor precision (more false positives). Field knowledge is required to assess what is a tolerable false positives rate, which can vary from hospital to hospital. Since we lack this information sort of information, I intend to use the **area under the ROC curve** as the main metric. Optimizing for ROC will guarantee that both true positives rate and false positives rate will be maximized, and then the decision of an appropriate cut-off value will be up to the health practictioner.\n",
    "\n",
    "The data set used for this task is the [Diabetes 130-US hospitals for years 1999-2008 Data Set](https://archive.ics.uci.edu/ml/datasets/diabetes+130-us+hospitals+for+years+1999-2008), containing anonymized medical data collected during 100k encounters accross several hospitals in the United States, made available by Strack et al. (2014).\n",
    "\n"
   ]
  },
  {
   "cell_type": "markdown",
   "id": "declared-provision",
   "metadata": {},
   "source": [
    "<a id=\"data-understanding\"></a>\n",
    "## 2. Data understanding"
   ]
  },
  {
   "cell_type": "markdown",
   "id": "satellite-spectacular",
   "metadata": {},
   "source": [
    "The data set comprises two files, `diabetic_data.csv` and `IDs_mapping.csv`. The former contains the medical data itself, and the latter contains a legend for some of the numerical categories (like admission type and discharge disposition).\n",
    "\n",
    "Each file has been extracted and zipped individually."
   ]
  },
  {
   "cell_type": "code",
   "execution_count": 475,
   "id": "fatal-college",
   "metadata": {},
   "outputs": [
    {
     "data": {
      "text/html": [
       "<div>\n",
       "<style scoped>\n",
       "    .dataframe tbody tr th:only-of-type {\n",
       "        vertical-align: middle;\n",
       "    }\n",
       "\n",
       "    .dataframe tbody tr th {\n",
       "        vertical-align: top;\n",
       "    }\n",
       "\n",
       "    .dataframe thead th {\n",
       "        text-align: right;\n",
       "    }\n",
       "</style>\n",
       "<table border=\"1\" class=\"dataframe\">\n",
       "  <thead>\n",
       "    <tr style=\"text-align: right;\">\n",
       "      <th></th>\n",
       "      <th>encounter_id</th>\n",
       "      <th>patient_nbr</th>\n",
       "      <th>race</th>\n",
       "      <th>gender</th>\n",
       "      <th>age</th>\n",
       "      <th>weight</th>\n",
       "      <th>admission_type_id</th>\n",
       "      <th>discharge_disposition_id</th>\n",
       "      <th>admission_source_id</th>\n",
       "      <th>time_in_hospital</th>\n",
       "      <th>...</th>\n",
       "      <th>citoglipton</th>\n",
       "      <th>insulin</th>\n",
       "      <th>glyburide-metformin</th>\n",
       "      <th>glipizide-metformin</th>\n",
       "      <th>glimepiride-pioglitazone</th>\n",
       "      <th>metformin-rosiglitazone</th>\n",
       "      <th>metformin-pioglitazone</th>\n",
       "      <th>change</th>\n",
       "      <th>diabetesMed</th>\n",
       "      <th>readmitted</th>\n",
       "    </tr>\n",
       "  </thead>\n",
       "  <tbody>\n",
       "    <tr>\n",
       "      <th>0</th>\n",
       "      <td>2278392</td>\n",
       "      <td>8222157</td>\n",
       "      <td>Caucasian</td>\n",
       "      <td>Female</td>\n",
       "      <td>[0-10)</td>\n",
       "      <td>?</td>\n",
       "      <td>6</td>\n",
       "      <td>25</td>\n",
       "      <td>1</td>\n",
       "      <td>1</td>\n",
       "      <td>...</td>\n",
       "      <td>No</td>\n",
       "      <td>No</td>\n",
       "      <td>No</td>\n",
       "      <td>No</td>\n",
       "      <td>No</td>\n",
       "      <td>No</td>\n",
       "      <td>No</td>\n",
       "      <td>No</td>\n",
       "      <td>No</td>\n",
       "      <td>NO</td>\n",
       "    </tr>\n",
       "    <tr>\n",
       "      <th>1</th>\n",
       "      <td>149190</td>\n",
       "      <td>55629189</td>\n",
       "      <td>Caucasian</td>\n",
       "      <td>Female</td>\n",
       "      <td>[10-20)</td>\n",
       "      <td>?</td>\n",
       "      <td>1</td>\n",
       "      <td>1</td>\n",
       "      <td>7</td>\n",
       "      <td>3</td>\n",
       "      <td>...</td>\n",
       "      <td>No</td>\n",
       "      <td>Up</td>\n",
       "      <td>No</td>\n",
       "      <td>No</td>\n",
       "      <td>No</td>\n",
       "      <td>No</td>\n",
       "      <td>No</td>\n",
       "      <td>Ch</td>\n",
       "      <td>Yes</td>\n",
       "      <td>&gt;30</td>\n",
       "    </tr>\n",
       "    <tr>\n",
       "      <th>2</th>\n",
       "      <td>64410</td>\n",
       "      <td>86047875</td>\n",
       "      <td>AfricanAmerican</td>\n",
       "      <td>Female</td>\n",
       "      <td>[20-30)</td>\n",
       "      <td>?</td>\n",
       "      <td>1</td>\n",
       "      <td>1</td>\n",
       "      <td>7</td>\n",
       "      <td>2</td>\n",
       "      <td>...</td>\n",
       "      <td>No</td>\n",
       "      <td>No</td>\n",
       "      <td>No</td>\n",
       "      <td>No</td>\n",
       "      <td>No</td>\n",
       "      <td>No</td>\n",
       "      <td>No</td>\n",
       "      <td>No</td>\n",
       "      <td>Yes</td>\n",
       "      <td>NO</td>\n",
       "    </tr>\n",
       "    <tr>\n",
       "      <th>3</th>\n",
       "      <td>500364</td>\n",
       "      <td>82442376</td>\n",
       "      <td>Caucasian</td>\n",
       "      <td>Male</td>\n",
       "      <td>[30-40)</td>\n",
       "      <td>?</td>\n",
       "      <td>1</td>\n",
       "      <td>1</td>\n",
       "      <td>7</td>\n",
       "      <td>2</td>\n",
       "      <td>...</td>\n",
       "      <td>No</td>\n",
       "      <td>Up</td>\n",
       "      <td>No</td>\n",
       "      <td>No</td>\n",
       "      <td>No</td>\n",
       "      <td>No</td>\n",
       "      <td>No</td>\n",
       "      <td>Ch</td>\n",
       "      <td>Yes</td>\n",
       "      <td>NO</td>\n",
       "    </tr>\n",
       "    <tr>\n",
       "      <th>4</th>\n",
       "      <td>16680</td>\n",
       "      <td>42519267</td>\n",
       "      <td>Caucasian</td>\n",
       "      <td>Male</td>\n",
       "      <td>[40-50)</td>\n",
       "      <td>?</td>\n",
       "      <td>1</td>\n",
       "      <td>1</td>\n",
       "      <td>7</td>\n",
       "      <td>1</td>\n",
       "      <td>...</td>\n",
       "      <td>No</td>\n",
       "      <td>Steady</td>\n",
       "      <td>No</td>\n",
       "      <td>No</td>\n",
       "      <td>No</td>\n",
       "      <td>No</td>\n",
       "      <td>No</td>\n",
       "      <td>Ch</td>\n",
       "      <td>Yes</td>\n",
       "      <td>NO</td>\n",
       "    </tr>\n",
       "  </tbody>\n",
       "</table>\n",
       "<p>5 rows × 50 columns</p>\n",
       "</div>"
      ],
      "text/plain": [
       "   encounter_id  patient_nbr             race  gender      age weight  \\\n",
       "0       2278392      8222157        Caucasian  Female   [0-10)      ?   \n",
       "1        149190     55629189        Caucasian  Female  [10-20)      ?   \n",
       "2         64410     86047875  AfricanAmerican  Female  [20-30)      ?   \n",
       "3        500364     82442376        Caucasian    Male  [30-40)      ?   \n",
       "4         16680     42519267        Caucasian    Male  [40-50)      ?   \n",
       "\n",
       "   admission_type_id  discharge_disposition_id  admission_source_id  \\\n",
       "0                  6                        25                    1   \n",
       "1                  1                         1                    7   \n",
       "2                  1                         1                    7   \n",
       "3                  1                         1                    7   \n",
       "4                  1                         1                    7   \n",
       "\n",
       "   time_in_hospital  ... citoglipton insulin  glyburide-metformin  \\\n",
       "0                 1  ...          No      No                   No   \n",
       "1                 3  ...          No      Up                   No   \n",
       "2                 2  ...          No      No                   No   \n",
       "3                 2  ...          No      Up                   No   \n",
       "4                 1  ...          No  Steady                   No   \n",
       "\n",
       "   glipizide-metformin  glimepiride-pioglitazone  metformin-rosiglitazone  \\\n",
       "0                   No                        No                       No   \n",
       "1                   No                        No                       No   \n",
       "2                   No                        No                       No   \n",
       "3                   No                        No                       No   \n",
       "4                   No                        No                       No   \n",
       "\n",
       "   metformin-pioglitazone  change diabetesMed readmitted  \n",
       "0                      No      No          No         NO  \n",
       "1                      No      Ch         Yes        >30  \n",
       "2                      No      No         Yes         NO  \n",
       "3                      No      Ch         Yes         NO  \n",
       "4                      No      Ch         Yes         NO  \n",
       "\n",
       "[5 rows x 50 columns]"
      ]
     },
     "execution_count": 475,
     "metadata": {},
     "output_type": "execute_result"
    }
   ],
   "source": [
    "df = pd.read_csv(\"../data/diabetic_data.zip\")\n",
    "df.head()"
   ]
  },
  {
   "cell_type": "markdown",
   "id": "another-cleaner",
   "metadata": {},
   "source": [
    "With a bit of research, I've found out that in the article by Strack et al. (2014), the people behind making this data set publicly available, the authors make a detailed rundown of each feature in the data set:"
   ]
  },
  {
   "cell_type": "markdown",
   "id": "creative-greensboro",
   "metadata": {},
   "source": [
    "- **Encounter ID** - Unique identifier of an encounter\n",
    "- **Patient number** - Unique identifier of a patient\n",
    "- **Race Values** - Values: Caucasian, Asian, African American, Hispanic, and other\n",
    "- **Gender Values** - Values: male, female, and unknown/invalid\n",
    "- **Age Grouped in 10-year intervals** - 0, 10), 10, 20), …, 90, 100)\n",
    "- **Weight** - Weight in pounds\n",
    "- **Admission type** - Integer identifier corresponding to 9 distinct values, for example, emergency, urgent, elective, newborn, and not available\n",
    "- **Discharge disposition** - Integer identifier corresponding to 29 distinct values, for example, discharged to home, expired, and not available\n",
    "- **Admission source** - Integer identifier corresponding to 21 distinct values, for example, physician referral, emergency room, and transfer from a hospital\n",
    "- **Time in hospital** - Integer number of days between admission and discharge\n",
    "- **Payer code** - Integer identifier corresponding to 23 distinct values, for example, Blue Cross/Blue Shield, Medicare, and self-pay Medical\n",
    "- **Medical specialty** - Integer identifier of a specialty of the admitting physician, corresponding to 84 distinct values, for example, cardiology, internal medicine, family/general practice, and surgeon\n",
    "- **Number of lab procedures** - Number of lab tests performed during the encounter\n",
    "- **Number of procedures** - Numeric Number of procedures (other than lab tests) performed during the encounter\n",
    "- **Number of medications** - Number of distinct generic names administered during the encounter\n",
    "- **Number of outpatient visits** - Number of outpatient visits of the patient in the year preceding the encounter\n",
    "- **Number of emergency visits** - Number of emergency visits of the patient in the year preceding the encounter\n",
    "- **Number of inpatient visits** - Number of inpatient visits of the patient in the year preceding the encounter\n",
    "- **Diagnosis 1** - The primary diagnosis (coded as first three digits of ICD9); 848 distinct values\n",
    "- **Diagnosis 2** - Secondary diagnosis (coded as first three digits of ICD9); 923 distinct values\n",
    "- **Diagnosis 3** - Additional secondary diagnosis (coded as first three digits of ICD9); 954 distinct values\n",
    "- **Number of diagnoses** - Number of diagnoses entered to the system 0%\n",
    "- **Glucose serum test result** - Indicates the range of the result or if the test was not taken. Values - “>200,” “>300,” “normal,” and “none” if not measured\n",
    "- **A1c test result** - Indicates the range of the result or if the test was not taken. Values: “>8” if the result was greater than 8%, “>7” if the result was greater than 7% but less than 8%, “normal” if the result was less than 7%, and “none” if not measured.\n",
    "- **Change of medications** - Indicates if there was a change in diabetic medications (either dosage or generic name). Values: “change” and “no change”\n",
    "- **Diabetes medications** - Indicates if there was any diabetic medication prescribed. Values: “yes” and “no”\n",
    "- **24 features for medications** - columns named after diabetes-related medication indicating whether the drug was prescribed or there was a change in dosage. Values: “up” if the dosage was increased during the encounter, “down” if the dosage was decreased, “steady” if the dosage did not change, and “no” if the drug was not prescribed\n",
    "- **Readmitted** - Days to inpatient readmission. Values: “<30” if the patient was readmitted in less than 30 days, “>30” if the patient was readmitted in more than 30 days, and “No” for no record of readmission"
   ]
  },
  {
   "cell_type": "markdown",
   "id": "former-beads",
   "metadata": {},
   "source": [
    "Missing values are represented by question marks in this data set. They must be replaced with np.nan if we want to use Pandas' default methods to view and handle missing data."
   ]
  },
  {
   "cell_type": "code",
   "execution_count": 476,
   "id": "breeding-guitar",
   "metadata": {},
   "outputs": [],
   "source": [
    "df.replace(\"?\", np.nan, inplace=True)"
   ]
  },
  {
   "cell_type": "markdown",
   "id": "swedish-partition",
   "metadata": {},
   "source": [
    "Overral view of the dataframe, including missing values and dtypes:"
   ]
  },
  {
   "cell_type": "code",
   "execution_count": 477,
   "id": "accurate-masters",
   "metadata": {},
   "outputs": [
    {
     "name": "stdout",
     "output_type": "stream",
     "text": [
      "<class 'pandas.core.frame.DataFrame'>\n",
      "RangeIndex: 101766 entries, 0 to 101765\n",
      "Data columns (total 50 columns):\n",
      " #   Column                    Non-Null Count   Dtype \n",
      "---  ------                    --------------   ----- \n",
      " 0   encounter_id              101766 non-null  int64 \n",
      " 1   patient_nbr               101766 non-null  int64 \n",
      " 2   race                      99493 non-null   object\n",
      " 3   gender                    101766 non-null  object\n",
      " 4   age                       101766 non-null  object\n",
      " 5   weight                    3197 non-null    object\n",
      " 6   admission_type_id         101766 non-null  int64 \n",
      " 7   discharge_disposition_id  101766 non-null  int64 \n",
      " 8   admission_source_id       101766 non-null  int64 \n",
      " 9   time_in_hospital          101766 non-null  int64 \n",
      " 10  payer_code                61510 non-null   object\n",
      " 11  medical_specialty         51817 non-null   object\n",
      " 12  num_lab_procedures        101766 non-null  int64 \n",
      " 13  num_procedures            101766 non-null  int64 \n",
      " 14  num_medications           101766 non-null  int64 \n",
      " 15  number_outpatient         101766 non-null  int64 \n",
      " 16  number_emergency          101766 non-null  int64 \n",
      " 17  number_inpatient          101766 non-null  int64 \n",
      " 18  diag_1                    101745 non-null  object\n",
      " 19  diag_2                    101408 non-null  object\n",
      " 20  diag_3                    100343 non-null  object\n",
      " 21  number_diagnoses          101766 non-null  int64 \n",
      " 22  max_glu_serum             101766 non-null  object\n",
      " 23  A1Cresult                 101766 non-null  object\n",
      " 24  metformin                 101766 non-null  object\n",
      " 25  repaglinide               101766 non-null  object\n",
      " 26  nateglinide               101766 non-null  object\n",
      " 27  chlorpropamide            101766 non-null  object\n",
      " 28  glimepiride               101766 non-null  object\n",
      " 29  acetohexamide             101766 non-null  object\n",
      " 30  glipizide                 101766 non-null  object\n",
      " 31  glyburide                 101766 non-null  object\n",
      " 32  tolbutamide               101766 non-null  object\n",
      " 33  pioglitazone              101766 non-null  object\n",
      " 34  rosiglitazone             101766 non-null  object\n",
      " 35  acarbose                  101766 non-null  object\n",
      " 36  miglitol                  101766 non-null  object\n",
      " 37  troglitazone              101766 non-null  object\n",
      " 38  tolazamide                101766 non-null  object\n",
      " 39  examide                   101766 non-null  object\n",
      " 40  citoglipton               101766 non-null  object\n",
      " 41  insulin                   101766 non-null  object\n",
      " 42  glyburide-metformin       101766 non-null  object\n",
      " 43  glipizide-metformin       101766 non-null  object\n",
      " 44  glimepiride-pioglitazone  101766 non-null  object\n",
      " 45  metformin-rosiglitazone   101766 non-null  object\n",
      " 46  metformin-pioglitazone    101766 non-null  object\n",
      " 47  change                    101766 non-null  object\n",
      " 48  diabetesMed               101766 non-null  object\n",
      " 49  readmitted                101766 non-null  object\n",
      "dtypes: int64(13), object(37)\n",
      "memory usage: 38.8+ MB\n"
     ]
    }
   ],
   "source": [
    "df.info()"
   ]
  },
  {
   "cell_type": "markdown",
   "id": "available-analyst",
   "metadata": {},
   "source": [
    "I need more details about possible values. Knowing the variable's dtypes only won't be enough, so let's see some examples of what to expect."
   ]
  },
  {
   "cell_type": "code",
   "execution_count": 478,
   "id": "pacific-portal",
   "metadata": {},
   "outputs": [
    {
     "name": "stdout",
     "output_type": "stream",
     "text": [
      "Variable              Unique     % Missing  Examples\n",
      "====================================================================================================\n",
      "encounter_id              101766     0.0    [77856768, 173015040, 84934662, 273678342, 17563668]\n",
      "patient_nbr               71518      0.0    [33947649, 92667906, 82706436, 83623941, 128319494]\n",
      "race                      6          2.2    [nan, 'Asian', 'Hispanic', 'Caucasian', 'AfricanAmerican']\n",
      "gender                    3          0.0    ['Female', 'Unknown/Invalid', 'Male']\n",
      "age                       10         0.0    ['[0-10)', '[90-100)', '[70-80)', '[50-60)', '[10-20)']\n",
      "weight                    10         96.9   [nan, '[50-75)', '[100-125)', '[0-25)', '[25-50)']\n",
      "admission_type_id         8          0.0    [1, 2, 3, 4, 5]     \n",
      "discharge_disposition_id  26         0.0    [1, 2, 3, 4, 5]     \n",
      "admission_source_id       17         0.0    [1, 2, 3, 4, 5]     \n",
      "time_in_hospital          14         0.0    [1, 2, 3, 4, 5]     \n",
      "payer_code                18         39.6   [nan, 'CH', 'DM', 'OT', 'BC']\n",
      "medical_specialty         73         49.1   [nan, 'Pediatrics-Neurology', 'Surgery-PlasticwithinHeadandNeck', 'Surgery-Vascular', 'Urology']\n",
      "num_lab_procedures        118        0.0    [1, 2, 3, 4, 5]     \n",
      "num_procedures            7          0.0    [0, 1, 2, 3, 4]     \n",
      "num_medications           75         0.0    [1, 2, 3, 4, 5]     \n",
      "number_outpatient         39         0.0    [0, 1, 2, 3, 4]     \n",
      "number_emergency          33         0.0    [0, 1, 2, 3, 4]     \n",
      "number_inpatient          21         0.0    [0, 1, 2, 3, 4]     \n",
      "diag_1                    717        0.0    [nan, '133', '803', '823', '792']\n",
      "diag_2                    749        0.4    [nan, '792', '823', '199', '235']\n",
      "diag_3                    790        1.4    [nan, '823', '792', '199', '235']\n",
      "number_diagnoses          16         0.0    [1, 2, 3, 4, 5]     \n",
      "max_glu_serum             4          0.0    ['None', 'Norm', '>200', '>300']\n",
      "A1Cresult                 4          0.0    ['None', '>7', '>8', 'Norm']\n",
      "metformin                 4          0.0    ['No', 'Down', 'Steady', 'Up']\n",
      "repaglinide               4          0.0    ['No', 'Down', 'Steady', 'Up']\n",
      "nateglinide               4          0.0    ['No', 'Down', 'Steady', 'Up']\n",
      "chlorpropamide            4          0.0    ['No', 'Down', 'Steady', 'Up']\n",
      "glimepiride               4          0.0    ['No', 'Down', 'Steady', 'Up']\n",
      "acetohexamide             2          0.0    ['No', 'Steady']    \n",
      "glipizide                 4          0.0    ['No', 'Down', 'Steady', 'Up']\n",
      "glyburide                 4          0.0    ['No', 'Down', 'Steady', 'Up']\n",
      "tolbutamide               2          0.0    ['No', 'Steady']    \n",
      "pioglitazone              4          0.0    ['No', 'Down', 'Steady', 'Up']\n",
      "rosiglitazone             4          0.0    ['No', 'Down', 'Steady', 'Up']\n",
      "acarbose                  4          0.0    ['No', 'Down', 'Steady', 'Up']\n",
      "miglitol                  4          0.0    ['No', 'Down', 'Steady', 'Up']\n",
      "troglitazone              2          0.0    ['No', 'Steady']    \n",
      "tolazamide                3          0.0    ['No', 'Steady', 'Up']\n",
      "examide                   1          0.0    ['No']              \n",
      "citoglipton               1          0.0    ['No']              \n",
      "insulin                   4          0.0    ['No', 'Down', 'Steady', 'Up']\n",
      "glyburide-metformin       4          0.0    ['No', 'Down', 'Steady', 'Up']\n",
      "glipizide-metformin       2          0.0    ['No', 'Steady']    \n",
      "glimepiride-pioglitazone  2          0.0    ['No', 'Steady']    \n",
      "metformin-rosiglitazone   2          0.0    ['No', 'Steady']    \n",
      "metformin-pioglitazone    2          0.0    ['No', 'Steady']    \n",
      "change                    2          0.0    ['No', 'Ch']        \n",
      "diabetesMed               2          0.0    ['No', 'Yes']       \n",
      "readmitted                3          0.0    ['NO', '<30', '>30']\n"
     ]
    }
   ],
   "source": [
    "print(\"Variable              Unique     % Missing  Examples\")\n",
    "print(\"=\"*100)\n",
    "for column in df:\n",
    "    uniques = set(df[column])\n",
    "    n_uniques = len(uniques)\n",
    "    missing = df[column].isnull().mean()*100\n",
    "    examples = list(uniques)[:5]\n",
    "    output = \"{:<25} {:<10} {:<6.1f} {:<20}\".format(column, n_uniques, missing, str(examples))\n",
    "    print(output)"
   ]
  },
  {
   "cell_type": "markdown",
   "id": "prospective-statement",
   "metadata": {},
   "source": [
    "The data set is moderately unbalanced, with the positive class (`readmitted = \"<30\"`) comprising  11% of the data set."
   ]
  },
  {
   "cell_type": "code",
   "execution_count": 479,
   "id": "incorrect-antibody",
   "metadata": {},
   "outputs": [
    {
     "data": {
      "text/plain": [
       "NO     0.539119\n",
       ">30    0.349282\n",
       "<30    0.111599\n",
       "Name: readmitted, dtype: float64"
      ]
     },
     "execution_count": 479,
     "metadata": {},
     "output_type": "execute_result"
    }
   ],
   "source": [
    "df.readmitted.value_counts(normalize=True)"
   ]
  },
  {
   "cell_type": "markdown",
   "id": "radio-advertising",
   "metadata": {},
   "source": [
    "Evaluating the number of patients to whom diabetes medication was prescribred during the inpatient settings. We can spot several low-variance features with the naked eye (like metformin-rosiglitazone and metformin-ploglitazone at the bottom of the list)."
   ]
  },
  {
   "cell_type": "code",
   "execution_count": 480,
   "id": "divided-fifteen",
   "metadata": {},
   "outputs": [
    {
     "data": {
      "text/html": [
       "<div>\n",
       "<style scoped>\n",
       "    .dataframe tbody tr th:only-of-type {\n",
       "        vertical-align: middle;\n",
       "    }\n",
       "\n",
       "    .dataframe tbody tr th {\n",
       "        vertical-align: top;\n",
       "    }\n",
       "\n",
       "    .dataframe thead th {\n",
       "        text-align: right;\n",
       "    }\n",
       "</style>\n",
       "<table border=\"1\" class=\"dataframe\">\n",
       "  <thead>\n",
       "    <tr style=\"text-align: right;\">\n",
       "      <th></th>\n",
       "      <th>Down</th>\n",
       "      <th>No</th>\n",
       "      <th>Steady</th>\n",
       "      <th>Up</th>\n",
       "    </tr>\n",
       "  </thead>\n",
       "  <tbody>\n",
       "    <tr>\n",
       "      <th>metformin</th>\n",
       "      <td>575.0</td>\n",
       "      <td>81778.0</td>\n",
       "      <td>18346.0</td>\n",
       "      <td>1067.0</td>\n",
       "    </tr>\n",
       "    <tr>\n",
       "      <th>repaglinide</th>\n",
       "      <td>45.0</td>\n",
       "      <td>100227.0</td>\n",
       "      <td>1384.0</td>\n",
       "      <td>110.0</td>\n",
       "    </tr>\n",
       "    <tr>\n",
       "      <th>nateglinide</th>\n",
       "      <td>11.0</td>\n",
       "      <td>101063.0</td>\n",
       "      <td>668.0</td>\n",
       "      <td>24.0</td>\n",
       "    </tr>\n",
       "    <tr>\n",
       "      <th>chlorpropamide</th>\n",
       "      <td>1.0</td>\n",
       "      <td>101680.0</td>\n",
       "      <td>79.0</td>\n",
       "      <td>6.0</td>\n",
       "    </tr>\n",
       "    <tr>\n",
       "      <th>glimepiride</th>\n",
       "      <td>194.0</td>\n",
       "      <td>96575.0</td>\n",
       "      <td>4670.0</td>\n",
       "      <td>327.0</td>\n",
       "    </tr>\n",
       "    <tr>\n",
       "      <th>acetohexamide</th>\n",
       "      <td>NaN</td>\n",
       "      <td>101765.0</td>\n",
       "      <td>1.0</td>\n",
       "      <td>NaN</td>\n",
       "    </tr>\n",
       "    <tr>\n",
       "      <th>glipizide</th>\n",
       "      <td>560.0</td>\n",
       "      <td>89080.0</td>\n",
       "      <td>11356.0</td>\n",
       "      <td>770.0</td>\n",
       "    </tr>\n",
       "    <tr>\n",
       "      <th>glyburide</th>\n",
       "      <td>564.0</td>\n",
       "      <td>91116.0</td>\n",
       "      <td>9274.0</td>\n",
       "      <td>812.0</td>\n",
       "    </tr>\n",
       "    <tr>\n",
       "      <th>tolbutamide</th>\n",
       "      <td>NaN</td>\n",
       "      <td>101743.0</td>\n",
       "      <td>23.0</td>\n",
       "      <td>NaN</td>\n",
       "    </tr>\n",
       "    <tr>\n",
       "      <th>pioglitazone</th>\n",
       "      <td>118.0</td>\n",
       "      <td>94438.0</td>\n",
       "      <td>6976.0</td>\n",
       "      <td>234.0</td>\n",
       "    </tr>\n",
       "    <tr>\n",
       "      <th>rosiglitazone</th>\n",
       "      <td>87.0</td>\n",
       "      <td>95401.0</td>\n",
       "      <td>6100.0</td>\n",
       "      <td>178.0</td>\n",
       "    </tr>\n",
       "    <tr>\n",
       "      <th>acarbose</th>\n",
       "      <td>3.0</td>\n",
       "      <td>101458.0</td>\n",
       "      <td>295.0</td>\n",
       "      <td>10.0</td>\n",
       "    </tr>\n",
       "    <tr>\n",
       "      <th>miglitol</th>\n",
       "      <td>5.0</td>\n",
       "      <td>101728.0</td>\n",
       "      <td>31.0</td>\n",
       "      <td>2.0</td>\n",
       "    </tr>\n",
       "    <tr>\n",
       "      <th>troglitazone</th>\n",
       "      <td>NaN</td>\n",
       "      <td>101763.0</td>\n",
       "      <td>3.0</td>\n",
       "      <td>NaN</td>\n",
       "    </tr>\n",
       "    <tr>\n",
       "      <th>tolazamide</th>\n",
       "      <td>NaN</td>\n",
       "      <td>101727.0</td>\n",
       "      <td>38.0</td>\n",
       "      <td>1.0</td>\n",
       "    </tr>\n",
       "    <tr>\n",
       "      <th>examide</th>\n",
       "      <td>NaN</td>\n",
       "      <td>101766.0</td>\n",
       "      <td>NaN</td>\n",
       "      <td>NaN</td>\n",
       "    </tr>\n",
       "    <tr>\n",
       "      <th>citoglipton</th>\n",
       "      <td>NaN</td>\n",
       "      <td>101766.0</td>\n",
       "      <td>NaN</td>\n",
       "      <td>NaN</td>\n",
       "    </tr>\n",
       "    <tr>\n",
       "      <th>insulin</th>\n",
       "      <td>12218.0</td>\n",
       "      <td>47383.0</td>\n",
       "      <td>30849.0</td>\n",
       "      <td>11316.0</td>\n",
       "    </tr>\n",
       "    <tr>\n",
       "      <th>glyburide-metformin</th>\n",
       "      <td>6.0</td>\n",
       "      <td>101060.0</td>\n",
       "      <td>692.0</td>\n",
       "      <td>8.0</td>\n",
       "    </tr>\n",
       "    <tr>\n",
       "      <th>glipizide-metformin</th>\n",
       "      <td>NaN</td>\n",
       "      <td>101753.0</td>\n",
       "      <td>13.0</td>\n",
       "      <td>NaN</td>\n",
       "    </tr>\n",
       "    <tr>\n",
       "      <th>glimepiride-pioglitazone</th>\n",
       "      <td>NaN</td>\n",
       "      <td>101765.0</td>\n",
       "      <td>1.0</td>\n",
       "      <td>NaN</td>\n",
       "    </tr>\n",
       "    <tr>\n",
       "      <th>metformin-rosiglitazone</th>\n",
       "      <td>NaN</td>\n",
       "      <td>101764.0</td>\n",
       "      <td>2.0</td>\n",
       "      <td>NaN</td>\n",
       "    </tr>\n",
       "    <tr>\n",
       "      <th>metformin-pioglitazone</th>\n",
       "      <td>NaN</td>\n",
       "      <td>101765.0</td>\n",
       "      <td>1.0</td>\n",
       "      <td>NaN</td>\n",
       "    </tr>\n",
       "  </tbody>\n",
       "</table>\n",
       "</div>"
      ],
      "text/plain": [
       "                             Down        No   Steady       Up\n",
       "metformin                   575.0   81778.0  18346.0   1067.0\n",
       "repaglinide                  45.0  100227.0   1384.0    110.0\n",
       "nateglinide                  11.0  101063.0    668.0     24.0\n",
       "chlorpropamide                1.0  101680.0     79.0      6.0\n",
       "glimepiride                 194.0   96575.0   4670.0    327.0\n",
       "acetohexamide                 NaN  101765.0      1.0      NaN\n",
       "glipizide                   560.0   89080.0  11356.0    770.0\n",
       "glyburide                   564.0   91116.0   9274.0    812.0\n",
       "tolbutamide                   NaN  101743.0     23.0      NaN\n",
       "pioglitazone                118.0   94438.0   6976.0    234.0\n",
       "rosiglitazone                87.0   95401.0   6100.0    178.0\n",
       "acarbose                      3.0  101458.0    295.0     10.0\n",
       "miglitol                      5.0  101728.0     31.0      2.0\n",
       "troglitazone                  NaN  101763.0      3.0      NaN\n",
       "tolazamide                    NaN  101727.0     38.0      1.0\n",
       "examide                       NaN  101766.0      NaN      NaN\n",
       "citoglipton                   NaN  101766.0      NaN      NaN\n",
       "insulin                   12218.0   47383.0  30849.0  11316.0\n",
       "glyburide-metformin           6.0  101060.0    692.0      8.0\n",
       "glipizide-metformin           NaN  101753.0     13.0      NaN\n",
       "glimepiride-pioglitazone      NaN  101765.0      1.0      NaN\n",
       "metformin-rosiglitazone       NaN  101764.0      2.0      NaN\n",
       "metformin-pioglitazone        NaN  101765.0      1.0      NaN"
      ]
     },
     "execution_count": 480,
     "metadata": {},
     "output_type": "execute_result"
    }
   ],
   "source": [
    "drugs = ['metformin', 'repaglinide', 'nateglinide', 'chlorpropamide',\n",
    "       'glimepiride', 'acetohexamide', 'glipizide', 'glyburide', 'tolbutamide',\n",
    "       'pioglitazone', 'rosiglitazone', 'acarbose', 'miglitol', 'troglitazone',\n",
    "       'tolazamide', 'examide', 'citoglipton', 'insulin',\n",
    "       'glyburide-metformin', 'glipizide-metformin',\n",
    "       'glimepiride-pioglitazone', 'metformin-rosiglitazone',\n",
    "       'metformin-pioglitazone']\n",
    "df[drugs].apply(pd.value_counts).T"
   ]
  },
  {
   "cell_type": "markdown",
   "id": "encouraging-romantic",
   "metadata": {},
   "source": [
    "### Diagnosis frequency among  the readmitted and non-readmitted patients"
   ]
  },
  {
   "cell_type": "code",
   "execution_count": 481,
   "id": "industrial-watts",
   "metadata": {},
   "outputs": [
    {
     "data": {
      "text/plain": [
       "427    0.022199\n",
       "276    0.022639\n",
       "996    0.023256\n",
       "491    0.025282\n",
       "786    0.025634\n",
       "486    0.027660\n",
       "434    0.028982\n",
       "410    0.032858\n",
       "414    0.052414\n",
       "428    0.085271\n",
       "Name: diag_1, dtype: float64"
      ]
     },
     "execution_count": 481,
     "metadata": {},
     "output_type": "execute_result"
    }
   ],
   "source": [
    "readmitted_diag = df[df[\"readmitted\"] == \"<30\"][\"diag_1\"] \\\n",
    "    .value_counts(ascending=True, normalize=True) \\\n",
    "    .tail(10)\n",
    "\n",
    "readmitted_diag"
   ]
  },
  {
   "cell_type": "code",
   "execution_count": 482,
   "id": "introductory-physics",
   "metadata": {},
   "outputs": [
    {
     "data": {
      "text/plain": [
       "780    0.020223\n",
       "682    0.020566\n",
       "715    0.021418\n",
       "491    0.021993\n",
       "427    0.027812\n",
       "486    0.035335\n",
       "410    0.035855\n",
       "786    0.041209\n",
       "428    0.065204\n",
       "414    0.066222\n",
       "Name: diag_1, dtype: float64"
      ]
     },
     "execution_count": 482,
     "metadata": {},
     "output_type": "execute_result"
    }
   ],
   "source": [
    "nonreadmitted_diag = df[df[\"readmitted\"] != \"<30\"][\"diag_1\"] \\\n",
    "    .value_counts(ascending=True, normalize=True) \\\n",
    "    .tail(10)\n",
    "\n",
    "nonreadmitted_diag"
   ]
  },
  {
   "cell_type": "markdown",
   "id": "flexible-burlington",
   "metadata": {},
   "source": [
    "10 Most common _primary_ diagnosis among the **non-readmitted**\n",
    "- 414 Other forms of chronic ischemic heart disease\n",
    "- 428 Heart failure\n",
    "- 786 Symptoms involving respiratory system and other chest symptoms\n",
    "- 410 Acute myocardial infarction\n",
    "- 486 Pneumonia, organism unspecified\n",
    "- 427 Cardiac dysrhythmias\n",
    "- 491 Chronic bronchitis\n",
    "- 715 Osteoarthrosis and allied disorders\n",
    "- 682 Other cellulitis and abscess\n",
    "- 780 General symptoms\n",
    "\n",
    "10 Most common _primary_ diagnosis among the **early readmitted**\n",
    "- 428 Heart failure\n",
    "- 414 Other forms of chronic ischemic heart disease\n",
    "- 410 Acute myocardial infarction\n",
    "- 434 Occlusion of cerebral arteries\n",
    "- 486 Pneumonia, organism unspecified\n",
    "- 786 Symptoms involving respiratory system and other chest symptoms\n",
    "- 491 Chronic bronchitis\n",
    "- 996 Complications peculiar to certain specified procedures\n",
    "- 276 Disorders of fluid, electrolyte, and acid-base balance\n",
    "- 427 Cardiac dysrhythmias\n",
    "\n",
    "Interesting insight:\n",
    "- General symptoms (780) is among the top 10 diagnoses for non-readmitted patients, but not for the readmitted ones.\n",
    "- Occlusion of cerebral arteries (434) is among the top 10 diagnoses for readmitted patients but not for the non-readmitted ones."
   ]
  },
  {
   "cell_type": "code",
   "execution_count": 483,
   "id": "therapeutic-brazil",
   "metadata": {},
   "outputs": [
    {
     "name": "stderr",
     "output_type": "stream",
     "text": [
      "/usr/lib/python3.9/site-packages/pandas/plotting/_matplotlib/tools.py:400: MatplotlibDeprecationWarning: \n",
      "The is_first_col function was deprecated in Matplotlib 3.4 and will be removed two minor releases later. Use ax.get_subplotspec().is_first_col() instead.\n",
      "  if ax.is_first_col():\n"
     ]
    },
    {
     "data": {
      "image/png": "[encoded data removed]",
      "text/plain": [
       "<Figure size 1080x504 with 2 Axes>"
      ]
     },
     "metadata": {
      "needs_background": "light"
     },
     "output_type": "display_data"
    }
   ],
   "source": [
    "sns.set_context('paper', font_scale=1.75)\n",
    "fig, (ax1, ax2) = plt.subplots(1,2, figsize=(15,7))\n",
    "\n",
    "nonreadmitted_diag.plot(kind=\"barh\", title=\"Top 10 diagnoses (non-readmitted)\", color=\"lightgray\", ax=ax1)\n",
    "readmitted_diag.plot(kind=\"barh\", title=\"Top 10 diagnoses (readmitted)\", color=\"lightgray\", ax=ax2)\n",
    "\n",
    "ax1.set_xlabel(\"rate\")\n",
    "ax2.set_xlabel(\"rate\")\n",
    "\n",
    "ax1.patches[0].set_color(\"steelblue\")\n",
    "ax2.patches[6].set_color(\"steelblue\")\n",
    "\n",
    "ax1.text(x=0.022,y=0-0.14,s=\"general symptoms\")\n",
    "ax2.text(x=0.032,y=6-0.14,s=\"occlusion of cerebral arteries\")\n",
    "\n",
    "\n",
    "sns.despine()\n",
    "plt.show()"
   ]
  },
  {
   "cell_type": "markdown",
   "id": "accepted-niger",
   "metadata": {},
   "source": [
    "### IDs Mapping\n",
    "\n",
    "Now taking a look at `IDs_mapping.csv`, the file isn't in standard CSV format. It's actually a text file mapping numerical categories to strings. Using this file, I'll replace each number with the appropriate name in the original dataframe."
   ]
  },
  {
   "cell_type": "code",
   "execution_count": 484,
   "id": "distinguished-characterization",
   "metadata": {},
   "outputs": [],
   "source": [
    "# Map for admission_type_id\n",
    "admtype_map = pd.read_csv(\"../data/IDs_mapping.zip\", skiprows=0, nrows=8)\n",
    "\n",
    "# Map for discharge_disposition_id\n",
    "discharge_map = pd.read_csv(\"../data/IDs_mapping.zip\", skiprows=10, nrows=30)\n",
    "\n",
    "# Map for admission_source_id\n",
    "admsrc_map = pd.read_csv(\"../data/IDs_mapping.zip\", skiprows=42, nrows=25)"
   ]
  },
  {
   "cell_type": "markdown",
   "id": "forbidden-hughes",
   "metadata": {},
   "source": [
    "Regarding the admission type, not all IDs are used in this dataset (e.g. \"emergency\"). Maybe \"urgent\" could be used instead as an indicator of whether the person came in on an emergency or electively."
   ]
  },
  {
   "cell_type": "code",
   "execution_count": 485,
   "id": "terminal-windows",
   "metadata": {},
   "outputs": [
    {
     "data": {
      "text/html": [
       "<div>\n",
       "<style scoped>\n",
       "    .dataframe tbody tr th:only-of-type {\n",
       "        vertical-align: middle;\n",
       "    }\n",
       "\n",
       "    .dataframe tbody tr th {\n",
       "        vertical-align: top;\n",
       "    }\n",
       "\n",
       "    .dataframe thead th {\n",
       "        text-align: right;\n",
       "    }\n",
       "</style>\n",
       "<table border=\"1\" class=\"dataframe\">\n",
       "  <thead>\n",
       "    <tr style=\"text-align: right;\">\n",
       "      <th></th>\n",
       "      <th>admission_type_id</th>\n",
       "      <th>description</th>\n",
       "    </tr>\n",
       "  </thead>\n",
       "  <tbody>\n",
       "    <tr>\n",
       "      <th>0</th>\n",
       "      <td>1</td>\n",
       "      <td>Emergency</td>\n",
       "    </tr>\n",
       "    <tr>\n",
       "      <th>1</th>\n",
       "      <td>2</td>\n",
       "      <td>Urgent</td>\n",
       "    </tr>\n",
       "    <tr>\n",
       "      <th>2</th>\n",
       "      <td>3</td>\n",
       "      <td>Elective</td>\n",
       "    </tr>\n",
       "    <tr>\n",
       "      <th>3</th>\n",
       "      <td>4</td>\n",
       "      <td>Newborn</td>\n",
       "    </tr>\n",
       "    <tr>\n",
       "      <th>4</th>\n",
       "      <td>5</td>\n",
       "      <td>Not Available</td>\n",
       "    </tr>\n",
       "    <tr>\n",
       "      <th>5</th>\n",
       "      <td>6</td>\n",
       "      <td>NaN</td>\n",
       "    </tr>\n",
       "    <tr>\n",
       "      <th>6</th>\n",
       "      <td>7</td>\n",
       "      <td>Trauma Center</td>\n",
       "    </tr>\n",
       "    <tr>\n",
       "      <th>7</th>\n",
       "      <td>8</td>\n",
       "      <td>Not Mapped</td>\n",
       "    </tr>\n",
       "  </tbody>\n",
       "</table>\n",
       "</div>"
      ],
      "text/plain": [
       "   admission_type_id    description\n",
       "0                  1      Emergency\n",
       "1                  2         Urgent\n",
       "2                  3       Elective\n",
       "3                  4        Newborn\n",
       "4                  5  Not Available\n",
       "5                  6            NaN\n",
       "6                  7  Trauma Center\n",
       "7                  8     Not Mapped"
      ]
     },
     "execution_count": 485,
     "metadata": {},
     "output_type": "execute_result"
    }
   ],
   "source": [
    "admtype_map.head(50)"
   ]
  },
  {
   "cell_type": "code",
   "execution_count": 486,
   "id": "equal-formula",
   "metadata": {},
   "outputs": [
    {
     "data": {
      "text/plain": [
       "Urgent           0.558550\n",
       "Newborn          0.195208\n",
       "Elective         0.191184\n",
       "Trauma Center    0.054738\n",
       "Not Mapped       0.000217\n",
       "Not Available    0.000103\n",
       "Name: admission_type_id, dtype: float64"
      ]
     },
     "execution_count": 486,
     "metadata": {},
     "output_type": "execute_result"
    }
   ],
   "source": [
    "admissions = df[\"admission_type_id\"].map(admtype_map[\"description\"].to_dict()).value_counts(normalize=True)\n",
    "admissions"
   ]
  },
  {
   "cell_type": "code",
   "execution_count": 487,
   "id": "prescription-tiger",
   "metadata": {},
   "outputs": [
    {
     "data": {
      "image/png": "[encoded data removed]",
      "text/plain": [
       "<Figure size 648x360 with 1 Axes>"
      ]
     },
     "metadata": {
      "needs_background": "light"
     },
     "output_type": "display_data"
    }
   ],
   "source": [
    "fig, ax = plt.subplots(figsize=(9,5))\n",
    "(admissions*100).plot.barh(ax)\n",
    "for index,data in enumerate(admissions.values):\n",
    "    plt.text(y=index-0.13 , x =data*100+1  , s=f\"{int(data*df.shape[0])}\" )\n",
    "plt.gca().spines['top'].set_visible(False)\n",
    "plt.gca().spines['right'].set_visible(False)\n",
    "plt.xlabel(\"% of patients\")\n",
    "plt.show()"
   ]
  },
  {
   "cell_type": "markdown",
   "id": "limiting-increase",
   "metadata": {},
   "source": [
    "### More data set characteristics\n",
    "\n",
    "- The data set covers a 10-year span (1999-2008).\n",
    "- Hospital admissions in the data set are supposed to be diabetic-related **only**, but some entries don't have a diabetes-specific ICD-9 code (250.xx). I suppose that, maybe, such diagnosis was made during readmission, which is the reason for it not to show up sometimes.\n",
    "- Lab tests were performed during admission.\n",
    "- Medications were administered during admission.\n",
    "- Data set contains <u>multiple readmissions of the same people</u>.\n",
    "- Lots of low-variance variables in this data set (e.g. `examide` and `citoglipton` have only 1 unique value), which won't add to the model's predictive power.\n",
    "- `diag_1` to `diag_3` columns have too many ICD-9-CM codes and will have to be grouped.\n",
    "- Missing values:\n",
    "  - `weight` variable is nearly useless, with about 97% of missing values.\n",
    "  - `payercode` could be an useful variable, but has a concerning number of missing values (around 40%)\n",
    "  - `medical_specialty` has half of its values missing.\n",
    "\n",
    "**Target variable:** 30-day remission, i.e. unplanned or unexpected readmission to the same hospital within 30 days of being discharged."
   ]
  },
  {
   "cell_type": "markdown",
   "id": "3a09e132",
   "metadata": {},
   "source": [
    "<a id=\"data-preparation\"></a>\n",
    "## 3. Data preparation\n"
   ]
  },
  {
   "cell_type": "code",
   "execution_count": 488,
   "id": "further-flooring",
   "metadata": {},
   "outputs": [],
   "source": [
    "# Keeping the original df intact in case we need it\n",
    "df2 = df.copy()"
   ]
  },
  {
   "cell_type": "markdown",
   "id": "e9c3bbc1",
   "metadata": {},
   "source": [
    "### Remove duplicates\n",
    "\n",
    "There are a few rows in the data set that refer to the same patient number (`patient_nbr`). Most machine learning models require the observations to be independent from each other. More specifically, the assumption is that observations shouldn't come from repeated measurements. To ensure our model's robustness, duplicate entries for the same patient will be deleted (while keeping the first appearance only)."
   ]
  },
  {
   "cell_type": "code",
   "execution_count": 489,
   "id": "4fdc2951",
   "metadata": {},
   "outputs": [
    {
     "name": "stdout",
     "output_type": "stream",
     "text": [
      "df size before: 101766\n",
      "df size after: 71518\n"
     ]
    }
   ],
   "source": [
    "print(\"df size before:\", df.shape[0])\n",
    "df2 = df2.drop_duplicates(subset=\"patient_nbr\", keep=\"first\")\n",
    "print(\"df size after:\", df2.shape[0])"
   ]
  },
  {
   "cell_type": "markdown",
   "id": "e11d76f7",
   "metadata": {},
   "source": [
    "### Drop unneeded features"
   ]
  },
  {
   "cell_type": "markdown",
   "id": "2c690178",
   "metadata": {},
   "source": [
    "- `encounter_id`, `patient_nbr`, and `payer_code`: irrelevant to patient outcome\n",
    "- `weight`, `medical_specialty`: too many missing values.\n",
    "- `admission_source_id`: redundant variable (`admission_type_id` already contains information about the admission)\n",
    "- all medications (including the most common: metformin, glimepiride, glipizide, glyburide, pioglitazone, rosiglitazone, and insulin): they either correlated strongly with `diabetesMed`, which indicates if there's any diabetic medication prescribed, or not used at all. \n",
    " "
   ]
  },
  {
   "cell_type": "code",
   "execution_count": 490,
   "id": "7ce068bf",
   "metadata": {},
   "outputs": [],
   "source": [
    "df2 = df2.drop([\"encounter_id\",\n",
    "                \"patient_nbr\",\n",
    "                \"payer_code\",\n",
    "                \"weight\",\n",
    "                \"medical_specialty\",\n",
    "                \"admission_source_id\",\n",
    "                \"metformin\",\n",
    "                \"glimepiride\",\n",
    "                \"glipizide\", \n",
    "                \"glyburide\",\n",
    "                \"pioglitazone\",\n",
    "                \"rosiglitazone\",\n",
    "                \"insulin\",   \n",
    "                \"repaglinide\",\n",
    "                \"nateglinide\",\n",
    "                \"chlorpropamide\",\n",
    "                \"acetohexamide\",\n",
    "                \"tolbutamide\",\n",
    "                \"acarbose\",\n",
    "                \"miglitol\",\n",
    "                \"troglitazone\",\n",
    "                \"tolazamide\",\n",
    "                \"examide\",\n",
    "                \"citoglipton\",\n",
    "                \"glyburide-metformin\",\n",
    "                \"glipizide-metformin\",\n",
    "                \"glimepiride-pioglitazone\",\n",
    "                \"metformin-rosiglitazone\",\n",
    "                \"metformin-pioglitazone\", \n",
    "                ], axis=1)"
   ]
  },
  {
   "cell_type": "markdown",
   "id": "bizarre-saver",
   "metadata": {},
   "source": [
    "After dropping the unnecessary features, this is our new set of columns:"
   ]
  },
  {
   "cell_type": "code",
   "execution_count": 491,
   "id": "young-narrow",
   "metadata": {},
   "outputs": [
    {
     "data": {
      "text/plain": [
       "Index(['race', 'gender', 'age', 'admission_type_id',\n",
       "       'discharge_disposition_id', 'time_in_hospital', 'num_lab_procedures',\n",
       "       'num_procedures', 'num_medications', 'number_outpatient',\n",
       "       'number_emergency', 'number_inpatient', 'diag_1', 'diag_2', 'diag_3',\n",
       "       'number_diagnoses', 'max_glu_serum', 'A1Cresult', 'change',\n",
       "       'diabetesMed', 'readmitted'],\n",
       "      dtype='object')"
      ]
     },
     "execution_count": 491,
     "metadata": {},
     "output_type": "execute_result"
    }
   ],
   "source": [
    "df2.columns"
   ]
  },
  {
   "cell_type": "markdown",
   "id": "blocked-girlfriend",
   "metadata": {},
   "source": [
    "#### Age\n",
    "\n",
    "The age group feature in this data set is categorical, but can be turned into an ordinal variable. That way we avoid creating too many new features after the one-hot encoding process."
   ]
  },
  {
   "cell_type": "code",
   "execution_count": 492,
   "id": "imported-victoria",
   "metadata": {},
   "outputs": [],
   "source": [
    "age_map = {'[0-10)': 0,\n",
    "           '[10-20)': 1,\n",
    "           '[20-30)': 2,\n",
    "           '[30-40)': 3,\n",
    "           '[40-50)': 4,\n",
    "           '[50-60)': 5,\n",
    "           '[60-70)': 6,\n",
    "           '[70-80)': 7,\n",
    "           '[80-90)': 8,\n",
    "           '[90-100)': 9}\n",
    "\n",
    "df2[\"age\"].replace(age_map, inplace=True)"
   ]
  },
  {
   "cell_type": "markdown",
   "id": "guilty-relay",
   "metadata": {},
   "source": [
    "#### Gender\n",
    "\n",
    "Gender will be converted to either 0 if male or 1 if female."
   ]
  },
  {
   "cell_type": "code",
   "execution_count": 493,
   "id": "interesting-raise",
   "metadata": {},
   "outputs": [],
   "source": [
    "df2[\"gender\"] = df2[\"gender\"].apply(lambda x: 1 if x == \"Female\" else 0)"
   ]
  },
  {
   "cell_type": "markdown",
   "id": "chicken-circumstances",
   "metadata": {},
   "source": [
    "#### Admission type ID\n",
    "\n",
    "There are 9 distinct values in this column:"
   ]
  },
  {
   "cell_type": "code",
   "execution_count": 494,
   "id": "floral-adventure",
   "metadata": {},
   "outputs": [
    {
     "data": {
      "text/html": [
       "<div>\n",
       "<style scoped>\n",
       "    .dataframe tbody tr th:only-of-type {\n",
       "        vertical-align: middle;\n",
       "    }\n",
       "\n",
       "    .dataframe tbody tr th {\n",
       "        vertical-align: top;\n",
       "    }\n",
       "\n",
       "    .dataframe thead th {\n",
       "        text-align: right;\n",
       "    }\n",
       "</style>\n",
       "<table border=\"1\" class=\"dataframe\">\n",
       "  <thead>\n",
       "    <tr style=\"text-align: right;\">\n",
       "      <th></th>\n",
       "      <th>admission_type_id</th>\n",
       "      <th>description</th>\n",
       "    </tr>\n",
       "  </thead>\n",
       "  <tbody>\n",
       "    <tr>\n",
       "      <th>0</th>\n",
       "      <td>1</td>\n",
       "      <td>Emergency</td>\n",
       "    </tr>\n",
       "    <tr>\n",
       "      <th>1</th>\n",
       "      <td>2</td>\n",
       "      <td>Urgent</td>\n",
       "    </tr>\n",
       "    <tr>\n",
       "      <th>2</th>\n",
       "      <td>3</td>\n",
       "      <td>Elective</td>\n",
       "    </tr>\n",
       "    <tr>\n",
       "      <th>3</th>\n",
       "      <td>4</td>\n",
       "      <td>Newborn</td>\n",
       "    </tr>\n",
       "    <tr>\n",
       "      <th>4</th>\n",
       "      <td>5</td>\n",
       "      <td>Not Available</td>\n",
       "    </tr>\n",
       "    <tr>\n",
       "      <th>5</th>\n",
       "      <td>6</td>\n",
       "      <td>NaN</td>\n",
       "    </tr>\n",
       "    <tr>\n",
       "      <th>6</th>\n",
       "      <td>7</td>\n",
       "      <td>Trauma Center</td>\n",
       "    </tr>\n",
       "    <tr>\n",
       "      <th>7</th>\n",
       "      <td>8</td>\n",
       "      <td>Not Mapped</td>\n",
       "    </tr>\n",
       "  </tbody>\n",
       "</table>\n",
       "</div>"
      ],
      "text/plain": [
       "   admission_type_id    description\n",
       "0                  1      Emergency\n",
       "1                  2         Urgent\n",
       "2                  3       Elective\n",
       "3                  4        Newborn\n",
       "4                  5  Not Available\n",
       "5                  6            NaN\n",
       "6                  7  Trauma Center\n",
       "7                  8     Not Mapped"
      ]
     },
     "execution_count": 494,
     "metadata": {},
     "output_type": "execute_result"
    }
   ],
   "source": [
    "admtype_map"
   ]
  },
  {
   "cell_type": "markdown",
   "id": "directed-smith",
   "metadata": {},
   "source": [
    "I'll group this feature by whether patients were admitted in an emergency or not. Thus, \"Emergency\" (which includes \"Urgent\") will become 1 and everything else will be 0."
   ]
  },
  {
   "cell_type": "code",
   "execution_count": 495,
   "id": "female-springfield",
   "metadata": {},
   "outputs": [],
   "source": [
    "df2[\"emergency\"] = df2[\"admission_type_id\"].apply(lambda x: 1 if x in [1, 2] else 0)\n",
    "df2.drop(\"admission_type_id\", axis=1, inplace=True)"
   ]
  },
  {
   "cell_type": "markdown",
   "id": "excellent-ending",
   "metadata": {},
   "source": [
    "#### Discharge disposition ID\n",
    "\n",
    "This feature has 29 distinct features, which would negatively impact the model's performance if we create dummy values for all of them. Therefore, I'm going to restrict these values to either \"discharged to home\" or other. "
   ]
  },
  {
   "cell_type": "code",
   "execution_count": 496,
   "id": "perfect-appendix",
   "metadata": {},
   "outputs": [
    {
     "data": {
      "text/html": [
       "<div>\n",
       "<style scoped>\n",
       "    .dataframe tbody tr th:only-of-type {\n",
       "        vertical-align: middle;\n",
       "    }\n",
       "\n",
       "    .dataframe tbody tr th {\n",
       "        vertical-align: top;\n",
       "    }\n",
       "\n",
       "    .dataframe thead th {\n",
       "        text-align: right;\n",
       "    }\n",
       "</style>\n",
       "<table border=\"1\" class=\"dataframe\">\n",
       "  <thead>\n",
       "    <tr style=\"text-align: right;\">\n",
       "      <th></th>\n",
       "      <th>discharge_disposition_id</th>\n",
       "      <th>description</th>\n",
       "    </tr>\n",
       "  </thead>\n",
       "  <tbody>\n",
       "    <tr>\n",
       "      <th>0</th>\n",
       "      <td>1</td>\n",
       "      <td>Discharged to home</td>\n",
       "    </tr>\n",
       "    <tr>\n",
       "      <th>1</th>\n",
       "      <td>2</td>\n",
       "      <td>Discharged/transferred to another short term h...</td>\n",
       "    </tr>\n",
       "    <tr>\n",
       "      <th>2</th>\n",
       "      <td>3</td>\n",
       "      <td>Discharged/transferred to SNF</td>\n",
       "    </tr>\n",
       "    <tr>\n",
       "      <th>3</th>\n",
       "      <td>4</td>\n",
       "      <td>Discharged/transferred to ICF</td>\n",
       "    </tr>\n",
       "    <tr>\n",
       "      <th>4</th>\n",
       "      <td>5</td>\n",
       "      <td>Discharged/transferred to another type of inpa...</td>\n",
       "    </tr>\n",
       "  </tbody>\n",
       "</table>\n",
       "</div>"
      ],
      "text/plain": [
       "   discharge_disposition_id                                        description\n",
       "0                         1                                 Discharged to home\n",
       "1                         2  Discharged/transferred to another short term h...\n",
       "2                         3                      Discharged/transferred to SNF\n",
       "3                         4                      Discharged/transferred to ICF\n",
       "4                         5  Discharged/transferred to another type of inpa..."
      ]
     },
     "execution_count": 496,
     "metadata": {},
     "output_type": "execute_result"
    }
   ],
   "source": [
    "discharge_map.head()"
   ]
  },
  {
   "cell_type": "code",
   "execution_count": 497,
   "id": "indoor-tract",
   "metadata": {},
   "outputs": [],
   "source": [
    "df2[\"discharge_to_home\"] = df2[\"discharge_disposition_id\"].apply(lambda x: 1 if x in [1, 6, 8] else 0)\n",
    "df2.drop(\"discharge_disposition_id\", axis=1, inplace=True)"
   ]
  },
  {
   "cell_type": "markdown",
   "id": "f77df411",
   "metadata": {},
   "source": [
    "#### Diagnosis\n",
    "\n",
    "The diagnosis features are represented by ICD-9 codes. The idea here is to condensate the hundreds of codes into just a few major groups, based on field knowledge (Strack et al., 2014). I also made sure to include the diagnoses that were among the top 10 for readmitted patients but not for non-readmitted, and vice-versa.\n"
   ]
  },
  {
   "cell_type": "code",
   "execution_count": 498,
   "id": "3eb24d82",
   "metadata": {},
   "outputs": [],
   "source": [
    "# Make it easier to enter ICD-9 ranges in the dictionary\n",
    "interval = lambda x,y: list(range(x,y+1))\n",
    "\n",
    "diag = {\n",
    "    \"Circulatory\": interval(390, 433) + interval(435, 459) + [785],  # except 434\n",
    "    \"Respiratory\": interval(460,519) + [786],\n",
    "    \"Digestive\": interval(520,579) + [786],\n",
    "    \"Diabetes\": [250],  # makes sense to give Diabetes a group for its own\n",
    "    \"Injury\": interval(800,999),\n",
    "    \"Musculoskeletal\": interval(710,739),\n",
    "    \"Genitourinary\": interval(580,629) + [788],\n",
    "    \"Neoplasms\": interval(140,239),\n",
    "    \"Endocrine\": interval(240,249) + interval(251,279),  # except 250\n",
    "    \"General symptoms\": [780,781,784] + interval(790,799),  # among the top 10 for non-readmitted\n",
    "    \"Skin\": interval(680,709) + [782],\n",
    "    \"Infection\": interval(1,139),\n",
    "    \"Mental\": interval(290,319),\n",
    "    \"External causes\": [1000],  # passed by icd() as 1000, but the code doesn't exist officially\n",
    "    \"Blood\": interval(280,289),\n",
    "    \"Nervous\": interval(320,359),\n",
    "    \"Pregnancy\": interval(630,679),\n",
    "    \"Sense organs\": interval(360,389),\n",
    "    \"Congenital\": interval(740, 759),\n",
    "    \"Occlusion of cerebral arteries\": [434], # among the top 10 for readmitted\n",
    "    \"Unknown\": [-1]\n",
    "}\n",
    "    \n",
    "def icd(code):\n",
    "    \"\"\"Converts ICD-9 code in string format into a descriptive major category.\n",
    "    ---\n",
    "    code : int\n",
    "    The ICD-9 encoded diagonisis\n",
    "    \n",
    "    return : str\n",
    "    A major diagnostic category.\n",
    "    \"\"\"\n",
    "    if (code[0] != \"V\") and (code[0] != \"E\"):\n",
    "        code = floor(float(code))\n",
    "    else:\n",
    "        code = 1000\n",
    "    for key in diag:\n",
    "        if code in diag[key]:\n",
    "            return key\n",
    "    \n",
    "    "
   ]
  },
  {
   "cell_type": "markdown",
   "id": "nuclear-lucas",
   "metadata": {},
   "source": [
    "The missing values will be replaced by -1 so the custom function still works as expected (and we don't lose information)."
   ]
  },
  {
   "cell_type": "code",
   "execution_count": 499,
   "id": "7189be2f",
   "metadata": {},
   "outputs": [],
   "source": [
    "df2[\"diag_1\"] = df2[\"diag_1\"].fillna(\"-1\").apply(icd)\n",
    "df2[\"diag_2\"] = df2[\"diag_2\"].fillna(\"-1\").apply(icd)\n",
    "df2[\"diag_3\"] = df2[\"diag_3\"].fillna(\"-1\").apply(icd)"
   ]
  },
  {
   "cell_type": "markdown",
   "id": "animated-mechanism",
   "metadata": {},
   "source": [
    "### Glucose serum test result (max_glu_serum) and A1c test\n",
    "\n",
    "This variable indicates the range of the test results, or whether the tests were taken at all. It could be be converted into an ordinal variable and spare the creation of unnecessary dummy features. "
   ]
  },
  {
   "cell_type": "code",
   "execution_count": 500,
   "id": "emerging-collective",
   "metadata": {},
   "outputs": [
    {
     "data": {
      "text/plain": [
       "None    58532\n",
       ">8       6304\n",
       "Norm     3791\n",
       ">7       2891\n",
       "Name: A1Cresult, dtype: int64"
      ]
     },
     "execution_count": 500,
     "metadata": {},
     "output_type": "execute_result"
    }
   ],
   "source": [
    "df2[\"A1Cresult\"].value_counts()"
   ]
  },
  {
   "cell_type": "code",
   "execution_count": 501,
   "id": "juvenile-party",
   "metadata": {},
   "outputs": [
    {
     "data": {
      "text/plain": [
       "None    68062\n",
       "Norm     1731\n",
       ">200      969\n",
       ">300      756\n",
       "Name: max_glu_serum, dtype: int64"
      ]
     },
     "execution_count": 501,
     "metadata": {},
     "output_type": "execute_result"
    }
   ],
   "source": [
    "df2[\"max_glu_serum\"].value_counts()"
   ]
  },
  {
   "cell_type": "code",
   "execution_count": 502,
   "id": "ordinary-algorithm",
   "metadata": {},
   "outputs": [],
   "source": [
    "df2[\"A1Cresult\"] = df2[\"A1Cresult\"].map({\"None\": -1, \"Norm\": 0, \">7\": 1, \">8\": 2})\n",
    "df2[\"max_glu_serum\"] = df2[\"max_glu_serum\"].map({\"None\": -1, \"Norm\": 0, \">200\": 1, \">300\": 2})"
   ]
  },
  {
   "cell_type": "markdown",
   "id": "decimal-negotiation",
   "metadata": {},
   "source": [
    "Also, according to the literature (Strack et al., 2014), adjusting the patient's medication according to HbA1C levels can diminish early readmission rates. Therefore, this new variable is going to be incorporated into the model, and will be 0 if `A1Cresult` is \"none\" or 1 otherwise. So I want a new variable to check whether a glucose was ordered."
   ]
  },
  {
   "cell_type": "code",
   "execution_count": 503,
   "id": "bigger-loading",
   "metadata": {},
   "outputs": [],
   "source": [
    "df2[\"A1C_tested\"] = df2[\"A1Cresult\"].apply(lambda x: 0 if x == -1 else 1)\n",
    "df2[\"max_glu_serum_tested\"] = df2[\"max_glu_serum\"].apply(lambda x: 0 if x == -1 else 1)\n",
    "\n",
    "# df2.drop([\"A1Cresult\", \"max_glu_serum\"], axis=1, inplace=True)"
   ]
  },
  {
   "cell_type": "markdown",
   "id": "charitable-brief",
   "metadata": {},
   "source": [
    "#### Change of medication\n",
    "\n",
    "Converting object type to numerical:"
   ]
  },
  {
   "cell_type": "code",
   "execution_count": 504,
   "id": "conceptual-temperature",
   "metadata": {},
   "outputs": [],
   "source": [
    "df2[\"change\"] = df2[\"change\"].apply(lambda x: 1 if x == \"Ch\" else 0)"
   ]
  },
  {
   "cell_type": "markdown",
   "id": "smoking-facing",
   "metadata": {},
   "source": [
    "#### Diabetes medications\n",
    "Converting object type to numerical:"
   ]
  },
  {
   "cell_type": "code",
   "execution_count": 505,
   "id": "danish-toner",
   "metadata": {},
   "outputs": [],
   "source": [
    "df2[\"diabetesMed\"] = df2[\"diabetesMed\"].apply(lambda x: 1 if x == \"Yes\" else 0)"
   ]
  },
  {
   "cell_type": "code",
   "execution_count": 506,
   "id": "seasonal-hunter",
   "metadata": {},
   "outputs": [],
   "source": [
    "# The drugs used during the inpatient setting have each four different values, representing whether the drug was upregulated, downregulated, stayed the same, or wasn't used at all. The amount of unique information is going to flood the model with multicollinearity, since a medication change (either of type or dosage) is already being reported by the variable `change`. But I still want to see whether the type of medication plays a role in predicting early readmission. Therefore, I'm going to set each medication variable to 1 if it was used and 0 otherwise."
   ]
  },
  {
   "cell_type": "code",
   "execution_count": 507,
   "id": "fitting-juvenile",
   "metadata": {},
   "outputs": [],
   "source": [
    "# drug_cols = ['metformin', 'glimepiride', 'glipizide', 'glyburide', 'pioglitazone',\n",
    "#        'rosiglitazone', 'insulin']\n",
    "\n",
    "# for col in drug_cols:\n",
    "#     df2[col] = df2[col].apply(lambda x: 0 if x == \"No\" else 1)\n",
    "\n",
    "# #df3.drop(drug_cols, axis=1, inplace=True)"
   ]
  },
  {
   "cell_type": "markdown",
   "id": "illegal-citation",
   "metadata": {},
   "source": [
    "#### Readmitted (target variable)"
   ]
  },
  {
   "cell_type": "markdown",
   "id": "furnished-discussion",
   "metadata": {},
   "source": [
    "Setting the variable to 1 if readmitted earlier than 30 days, 0 otherwise."
   ]
  },
  {
   "cell_type": "code",
   "execution_count": 508,
   "id": "controlling-austria",
   "metadata": {},
   "outputs": [],
   "source": [
    "df2['readmitted'] = df2['readmitted'].apply(lambda x: 1 if x == \"<30\" else 0)"
   ]
  },
  {
   "cell_type": "markdown",
   "id": "coordinated-scout",
   "metadata": {},
   "source": [
    "#### Dummy variables creation\n",
    "\n",
    "All categorical variables are going to be converted into dummy variables (one-hot encoding)."
   ]
  },
  {
   "cell_type": "code",
   "execution_count": 509,
   "id": "confused-court",
   "metadata": {},
   "outputs": [],
   "source": [
    "df2 = pd.get_dummies(df2, dummy_na=False, drop_first=False)"
   ]
  },
  {
   "cell_type": "markdown",
   "id": "neural-thermal",
   "metadata": {},
   "source": [
    "#### Merging diag_n variables"
   ]
  },
  {
   "cell_type": "markdown",
   "id": "timely-shark",
   "metadata": {},
   "source": [
    "The `diag` features represent what the physician thought would be the causes of the patient admission. As a rule, the primary (principal) cause of admission should be the `diag_1` variable. `diag_2` and `diag_3` variables are left for secondary causes. To avoid passing too many dummy variables to the model, I'm going to merge the three features into a weighted sum.\n",
    "\n",
    "Example: if a patient has diag_1_Circulatory = 1, diag_2_Circulatory = 1, and diag_3_Circulatory = 0, the weighted sum is going to be diag_Circulatory = 1x3 + 1x2 + 0x1 = 5."
   ]
  },
  {
   "cell_type": "code",
   "execution_count": 510,
   "id": "colonial-responsibility",
   "metadata": {},
   "outputs": [],
   "source": [
    "for disease in diag:\n",
    "    df2[f\"diag_{disease}\"] = df2[f\"diag_1_{disease}\"]*3 + df2[f\"diag_2_{disease}\"]*2 + df2[f\"diag_3_{disease}\"]*1 \n",
    "    df2.drop([f\"diag_{n}_{disease}\" for n in range(1,4)], axis=1, inplace=True)"
   ]
  },
  {
   "cell_type": "markdown",
   "id": "incorporate-anthropology",
   "metadata": {},
   "source": [
    "#### Removing correlated variables"
   ]
  },
  {
   "cell_type": "markdown",
   "id": "fewer-chuck",
   "metadata": {},
   "source": [
    "A final check for correlated variables, and see if any one variable could cause a large amount of problem to the model's prediction. Highly-correlated variables (0.7 and above) may result in unstable models. This is especially true for logistic regression models."
   ]
  },
  {
   "cell_type": "code",
   "execution_count": 516,
   "id": "premium-solution",
   "metadata": {},
   "outputs": [
    {
     "data": {
      "text/plain": [
       "<AxesSubplot:>"
      ]
     },
     "execution_count": 516,
     "metadata": {},
     "output_type": "execute_result"
    },
    {
     "data": {
      "image/png": "[encoded data removed]",
      "text/plain": [
       "<Figure size 1080x1008 with 2 Axes>"
      ]
     },
     "metadata": {
      "needs_background": "light"
     },
     "output_type": "display_data"
    }
   ],
   "source": [
    "corr = df2.corr(method='pearson')\n",
    "plt.figure(figsize=(15,14))\n",
    "\n",
    "sns.heatmap(corr,\n",
    "            vmin=-1,\n",
    "            vmax=1,\n",
    "            cmap=sns.diverging_palette(20, 220, n=200, sep=60)  # tunned so that 0.30 starts to appear\n",
    "           )"
   ]
  },
  {
   "cell_type": "code",
   "execution_count": 521,
   "id": "available-adolescent",
   "metadata": {},
   "outputs": [
    {
     "data": {
      "text/plain": [
       "change       diabetesMed    0.506697\n",
       "diabetesMed  change         0.506697\n",
       "dtype: float64"
      ]
     },
     "execution_count": 521,
     "metadata": {},
     "output_type": "execute_result"
    }
   ],
   "source": [
    "abscorr = corr.abs()\n",
    "corr_list = abscorr.unstack().sort_values(kind=\"quicksort\", ascending=False)\n",
    "corr_list[(corr_list > 0.5) & (corr_list != 1)]"
   ]
  },
  {
   "cell_type": "markdown",
   "id": "experienced-influence",
   "metadata": {},
   "source": [
    "As expected, `A1Cresult` is strongly correlated with the engineered feature `A1Ctested`. The same is valid for `max_glu_serum_tested` and `max_glu_serum`. Since the original features carry more information (i.e. test result magnitude), I'm going to discard the ones I had engineered."
   ]
  },
  {
   "cell_type": "code",
   "execution_count": 513,
   "id": "radio-content",
   "metadata": {},
   "outputs": [],
   "source": [
    "# Drop variables that are above the 0.7 absolute correlation threshold\n",
    "df2.drop([\n",
    "    \"race_Caucasian\",  \n",
    "    \"A1C_tested\",\n",
    "    \"max_glu_serum_tested\"\n",
    "], axis=1, inplace=True)"
   ]
  },
  {
   "cell_type": "markdown",
   "id": "honey-cursor",
   "metadata": {},
   "source": [
    "#### Summary of transformed data set"
   ]
  },
  {
   "cell_type": "code",
   "execution_count": 514,
   "id": "recreational-survival",
   "metadata": {},
   "outputs": [
    {
     "name": "stdout",
     "output_type": "stream",
     "text": [
      "<class 'pandas.core.frame.DataFrame'>\n",
      "Int64Index: 71518 entries, 0 to 101765\n",
      "Data columns (total 42 columns):\n",
      " #   Column                               Non-Null Count  Dtype\n",
      "---  ------                               --------------  -----\n",
      " 0   gender                               71518 non-null  int64\n",
      " 1   age                                  71518 non-null  int64\n",
      " 2   time_in_hospital                     71518 non-null  int64\n",
      " 3   num_lab_procedures                   71518 non-null  int64\n",
      " 4   num_procedures                       71518 non-null  int64\n",
      " 5   num_medications                      71518 non-null  int64\n",
      " 6   number_outpatient                    71518 non-null  int64\n",
      " 7   number_emergency                     71518 non-null  int64\n",
      " 8   number_inpatient                     71518 non-null  int64\n",
      " 9   number_diagnoses                     71518 non-null  int64\n",
      " 10  max_glu_serum                        71518 non-null  int64\n",
      " 11  A1Cresult                            71518 non-null  int64\n",
      " 12  change                               71518 non-null  int64\n",
      " 13  diabetesMed                          71518 non-null  int64\n",
      " 14  readmitted                           71518 non-null  int64\n",
      " 15  emergency                            71518 non-null  int64\n",
      " 16  discharge_to_home                    71518 non-null  int64\n",
      " 17  race_AfricanAmerican                 71518 non-null  uint8\n",
      " 18  race_Asian                           71518 non-null  uint8\n",
      " 19  race_Hispanic                        71518 non-null  uint8\n",
      " 20  race_Other                           71518 non-null  uint8\n",
      " 21  diag_Circulatory                     71518 non-null  uint8\n",
      " 22  diag_Respiratory                     71518 non-null  uint8\n",
      " 23  diag_Digestive                       71518 non-null  uint8\n",
      " 24  diag_Diabetes                        71518 non-null  uint8\n",
      " 25  diag_Injury                          71518 non-null  uint8\n",
      " 26  diag_Musculoskeletal                 71518 non-null  uint8\n",
      " 27  diag_Genitourinary                   71518 non-null  uint8\n",
      " 28  diag_Neoplasms                       71518 non-null  uint8\n",
      " 29  diag_Endocrine                       71518 non-null  uint8\n",
      " 30  diag_General symptoms                71518 non-null  uint8\n",
      " 31  diag_Skin                            71518 non-null  uint8\n",
      " 32  diag_Infection                       71518 non-null  uint8\n",
      " 33  diag_Mental                          71518 non-null  uint8\n",
      " 34  diag_External causes                 71518 non-null  uint8\n",
      " 35  diag_Blood                           71518 non-null  uint8\n",
      " 36  diag_Nervous                         71518 non-null  uint8\n",
      " 37  diag_Pregnancy                       71518 non-null  uint8\n",
      " 38  diag_Sense organs                    71518 non-null  uint8\n",
      " 39  diag_Congenital                      71518 non-null  uint8\n",
      " 40  diag_Occlusion of cerebral arteries  71518 non-null  uint8\n",
      " 41  diag_Unknown                         71518 non-null  uint8\n",
      "dtypes: int64(17), uint8(25)\n",
      "memory usage: 11.5 MB\n"
     ]
    }
   ],
   "source": [
    "df2.info()"
   ]
  },
  {
   "cell_type": "markdown",
   "id": "confident-stephen",
   "metadata": {},
   "source": [
    "<a id=\"modeling\"></a>\n",
    "\n",
    "## Modeling"
   ]
  },
  {
   "cell_type": "code",
   "execution_count": 35,
   "id": "affecting-subject",
   "metadata": {},
   "outputs": [],
   "source": [
    "y = df2['readmitted'].values\n",
    "X = df2.drop(\"readmitted\", axis=1).values"
   ]
  },
  {
   "cell_type": "markdown",
   "id": "tutorial-black",
   "metadata": {},
   "source": [
    "75/25 split of the data set into training/test sets:"
   ]
  },
  {
   "cell_type": "code",
   "execution_count": 36,
   "id": "distinguished-aircraft",
   "metadata": {},
   "outputs": [],
   "source": [
    "X_train, X_test, y_train, y_test = train_test_split(X,y,random_state=33634)"
   ]
  },
  {
   "cell_type": "markdown",
   "id": "agreed-montana",
   "metadata": {},
   "source": [
    "GridSearchCV tests all possible hyperparameters (within a parameter space of choice), and picks the combination that maximizes the selected score (in our case, AUC ROC).\n",
    "\n",
    "The machine learning pipeline has several steps which seemed pertinent, like:\n",
    "\n",
    "- Standardizing the training set to guarantee a faster convergence;\n",
    "- Drop variables that have null variance (thus not containing relevant information);\n",
    "- Selection of most relevant features based on ANOVA test between each feature and the target variable;\n",
    "- The machine learning model itself."
   ]
  },
  {
   "cell_type": "code",
   "execution_count": 37,
   "id": "basic-consent",
   "metadata": {},
   "outputs": [
    {
     "name": "stdout",
     "output_type": "stream",
     "text": [
      "Fitting 5 folds for each of 1288 candidates, totalling 6440 fits\n"
     ]
    },
    {
     "name": "stderr",
     "output_type": "stream",
     "text": [
      "/usr/lib/python3.9/site-packages/sklearn/model_selection/_search.py:918: UserWarning: One or more of the test scores are non-finite: [0.20429132 0.20282196 0.20439733 ...        nan        nan        nan]\n",
      "  warnings.warn(\n"
     ]
    },
    {
     "name": "stdout",
     "output_type": "stream",
     "text": [
      "Best Score: 0.20653522449894898\n",
      "Best Hyperparameters: {'clf__C': 0.01, 'clf__class_weight': 'balanced', 'clf__penalty': 'l1', 'select__k': 40}\n"
     ]
    }
   ],
   "source": [
    "pipeline = Pipeline([    \n",
    "        (\"scaler\", StandardScaler()),\n",
    "        (\"varthres\", VarianceThreshold()),\n",
    "        (\"select\", SelectKBest(f_classif)),\n",
    "        (\"clf\", LogisticRegression(random_state=33634, \n",
    "                                   max_iter=1000, \n",
    "                                   solver=\"saga\",\n",
    "                                   warm_start=True,\n",
    "                                   class_weight=\"balanced\"))\n",
    "    ])    \n",
    "\n",
    "params = {\n",
    "        \"select__k\": range(2, X.shape[1]),        \n",
    "        'clf__penalty':[\"none\", \"l2\", \"l1\"],\n",
    "        'clf__C': np.logspace(-3,3,7)        \n",
    "    }\n",
    "\n",
    "grid = GridSearchCV(pipeline, \n",
    "                   params,\n",
    "                   cv=5, \n",
    "                   scoring=\"roc_auc\",\n",
    "                   verbose=10, \n",
    "                   n_jobs=5,                   \n",
    "                 )\n",
    "\n",
    "grid.fit(X_train, y_train)\n",
    "print('Best Score:', grid.best_score_)\n",
    "print('Best Hyperparameters:', grid.best_params_)\n"
   ]
  },
  {
   "cell_type": "markdown",
   "id": "neither-memorabilia",
   "metadata": {},
   "source": [
    "## Evaluation"
   ]
  },
  {
   "cell_type": "markdown",
   "id": "toxic-contrary",
   "metadata": {},
   "source": [
    "These are the metrics of the model when tested against the testing set:"
   ]
  },
  {
   "cell_type": "code",
   "execution_count": 38,
   "id": "north-replication",
   "metadata": {},
   "outputs": [
    {
     "name": "stdout",
     "output_type": "stream",
     "text": [
      "Precision:  0.13560391043834752\n",
      "Recall:  0.5378361475922452\n",
      "Recall:  0.21659740586827855\n"
     ]
    }
   ],
   "source": [
    "print(\"Precision: \", precision_score(y_test, grid.predict(X_test)))\n",
    "print(\"Recall: \", recall_score(y_test, grid.predict(X_test)))\n",
    "print(\"F1: \", f1_score(y_test, grid.predict(X_test)))\n",
    "print(\"ROC: \", roc_auc_score(y_test, grid.predict_proba(X_test)[:,1]))"
   ]
  },
  {
   "cell_type": "markdown",
   "id": "sensitive-mining",
   "metadata": {},
   "source": [
    "And this is how each feature affected the machine learning model's prediction:"
   ]
  },
  {
   "cell_type": "code",
   "execution_count": 471,
   "id": "perfect-performance",
   "metadata": {},
   "outputs": [
    {
     "data": {
      "image/png": "[encoded data removed]",
      "text/plain": [
       "<Figure size 1080x1440 with 1 Axes>"
      ]
     },
     "metadata": {
      "needs_background": "light"
     },
     "output_type": "display_data"
    }
   ],
   "source": [
    "# get the coefficients from the tunned logistic regression model\n",
    "coefs = grid.best_estimator_[\"clf\"].coef_[0]\n",
    "\n",
    "# retrieve which features were selected by the feature selection part of the pipeline\n",
    "mask_vars = grid.best_estimator_[\"varthres\"].get_support()\n",
    "mask_select = grid.best_estimator_[\"select\"].get_support()\n",
    "features = df2.drop(\"readmitted\", axis=1).columns.values[mask_vars][mask_select]\n",
    "\n",
    "# plot selected features and their coefficients\n",
    "palette = sns.color_palette(\"colorblind\").as_hex()\n",
    "colors = [palette[3] if x < 0 else palette[2] for x in coefs[coefs.argsort()]]\n",
    "pos = range(len(coefs))\n",
    "plt.figure(figsize=(15, len(coefs)*0.5))\n",
    "plt.barh(pos, coefs[coefs.argsort()], color=colors)\n",
    "plt.yticks(pos, features[coefs.argsort()])\n",
    "plt.axvline(x=0, color='.2')\n",
    "sns.despine()\n",
    "plt.tight_layout()\n",
    "plt.savefig(\"../reports/coef.png\")\n",
    "plt.show()"
   ]
  },
  {
   "cell_type": "markdown",
   "id": "vanilla-institute",
   "metadata": {},
   "source": [
    "These are the features that significantly contribute to **readmission**:\n",
    "\n",
    "- `number_inpatient` (or number of inpatient visits in the year preceding the encounter): the model suggests that patients that the more patients have been admitted in previous year, the higher the likelihood they'll be readmitted in the present year. This could be an indirect indicator of the patient's health, which may correlate with the number of hospital visits.\n",
    "- `diabetesMed`: patients who are under insulin, metformin, or any other kind of medication from the list are those who are surely diabetic, and as expected this variable correlates positively with readmission. Interestingly though, diabates medication usage doesn't correlate significantly with a diabetes diagnosis in the inpatient setting, thus being a more robust predictor of readmission.\n"
   ]
  },
  {
   "cell_type": "markdown",
   "id": "authentic-sleeve",
   "metadata": {},
   "source": [
    "`time_in_hospital`: it seems that a longer stay in hospital does not necessarily implies into a smaller number of readmissions. Quite the opposite: the longer the stay, the higher the likelihood of admission."
   ]
  },
  {
   "cell_type": "code",
   "execution_count": null,
   "id": "entire-showcase",
   "metadata": {},
   "outputs": [],
   "source": []
  },
  {
   "cell_type": "code",
   "execution_count": 41,
   "id": "unavailable-rider",
   "metadata": {},
   "outputs": [
    {
     "data": {
      "text/plain": [
       "array(['diag_Circulatory', 'diag_Respiratory', 'diag_Digestive',\n",
       "       'diag_Diabetes', 'diag_Injury', 'diag_Musculoskeletal',\n",
       "       'diag_Genitourinary', 'diag_Neoplasms', 'diag_Endocrine',\n",
       "       'diag_General symptoms', 'diag_Skin', 'diag_Infection',\n",
       "       'diag_Mental', 'diag_External causes', 'diag_Blood',\n",
       "       'diag_Nervous', 'diag_Pregnancy', 'diag_Sense organs',\n",
       "       'diag_Congenital', 'diag_Occlusion of cerebral arteries',\n",
       "       'diag_Unknown'], dtype=object)"
      ]
     },
     "execution_count": 41,
     "metadata": {},
     "output_type": "execute_result"
    }
   ],
   "source": [
    "df2.columns.values[df2.columns.str.contains(\"diag_\")]"
   ]
  },
  {
   "cell_type": "code",
   "execution_count": 42,
   "id": "inappropriate-wheat",
   "metadata": {},
   "outputs": [
    {
     "data": {
      "text/plain": [
       "[Text(0, 0, 'Circulatory'),\n",
       " Text(0, 1, 'Respiratory'),\n",
       " Text(0, 2, 'Digestive'),\n",
       " Text(0, 3, 'Diabetes'),\n",
       " Text(0, 4, 'Injury'),\n",
       " Text(0, 5, 'Musculoskeletal'),\n",
       " Text(0, 6, 'Genitourinary'),\n",
       " Text(0, 7, 'Neoplasms'),\n",
       " Text(0, 8, 'Endocrine'),\n",
       " Text(0, 9, 'General symptoms'),\n",
       " Text(0, 10, 'Skin'),\n",
       " Text(0, 11, 'Infection'),\n",
       " Text(0, 12, 'Mental'),\n",
       " Text(0, 13, 'External causes'),\n",
       " Text(0, 14, 'Blood'),\n",
       " Text(0, 15, 'Nervous'),\n",
       " Text(0, 16, 'Pregnancy'),\n",
       " Text(0, 17, 'Sense organs'),\n",
       " Text(0, 18, 'Congenital'),\n",
       " Text(0, 19, 'Occlusion of cerebral arteries'),\n",
       " Text(0, 20, 'Unknown')]"
      ]
     },
     "execution_count": 42,
     "metadata": {},
     "output_type": "execute_result"
    },
    {
     "data": {
      "image/png": "[encoded data removed]",
      "text/plain": [
       "<Figure size 720x720 with 1 Axes>"
      ]
     },
     "metadata": {
      "needs_background": "light"
     },
     "output_type": "display_data"
    }
   ],
   "source": [
    "diag_labels = df2.columns[df2.columns.str.contains(\"diag_\")]\n",
    "plt.rcParams['font.size'] = '15'\n",
    "fig,ax = plt.subplots(figsize=(10,10))\n",
    "df2.groupby(\"readmitted\")[diag_labels].mean().T.plot.barh(ax=ax)\n",
    "ax.set_yticklabels(diag_labels.str.replace(\"diag_\", \"\"))\n",
    "#ax.patches[20].set_color(\"steelblue\")\n"
   ]
  },
  {
   "cell_type": "markdown",
   "id": "growing-thing",
   "metadata": {},
   "source": [
    "- Diabetes is underreported among patients that are going to be readmitted due to diabetes complication."
   ]
  },
  {
   "cell_type": "markdown",
   "id": "built-lambda",
   "metadata": {},
   "source": [
    "Discharged to home. The rationale behind this is that being discharged to home could have a more positive impact on the patient's recovering. Also, it could mean that "
   ]
  },
  {
   "cell_type": "markdown",
   "id": "statistical-compatibility",
   "metadata": {},
   "source": [
    "## References\n",
    "\n",
    "- https://raw.githubusercontent.com/drobbins/ICD9/master/output/output.txt\n",
    "- Smeraglio, A., Heidenreich, P. A., Krishnan, G., Hopkins, J., Chen, J., & Shieh, L. (2019). “Patient vs provider perspectives of 30-day hospital readmissions.” BMJ open quality, 8(1), e000264. https://doi.org/10.1136/bmjoq-2017-000264"
   ]
  },
  {
   "cell_type": "code",
   "execution_count": 43,
   "id": "authorized-friday",
   "metadata": {},
   "outputs": [
    {
     "name": "stdout",
     "output_type": "stream",
     "text": [
      "Fitting 5 folds for each of 200 candidates, totalling 1000 fits\n",
      "Best Score: 0.2218298045343987\n",
      "Best Hyperparameters: {'max_depth': 30, 'min_samples_leaf': 10, 'min_samples_split': 150}\n",
      "Precision:  0.16710107153200116\n",
      "Recall:  0.3608505315822389\n",
      "F1:  0.22842438638163104\n"
     ]
    }
   ],
   "source": [
    "n_estimators = [100, 300, 500, 800, 1200]\n",
    "max_depth = [5, 8, 15, 25, 30]\n",
    "min_samples_split = [2, 5, 10, 15, 100]\n",
    "min_samples_leaf = [1, 2, 5, 10] \n",
    "\n",
    "\n",
    "rf = RandomForestClassifier(n_estimators=300, random_state=33634, class_weight=\"balanced\")\n",
    "\n",
    "params = {\n",
    "        \"max_depth\": [8, 13, 21, 34, 55],\n",
    "        \"min_samples_split\": [55, 89, 144, 233],\n",
    "        \"min_samples_leaf\": [3, 5, 8, 13, 21, 34],    \n",
    "        \n",
    "    }\n",
    "\n",
    "cv = StratifiedKFold(n_splits=5, shuffle=True, random_state=33634)\n",
    "gridrf = GridSearchCV(rf, \n",
    "                   params,\n",
    "                   cv=cv, \n",
    "                   scoring=\"f1\",\n",
    "                   verbose=10, \n",
    "                   n_jobs=5, \n",
    "                   )\n",
    "gridrf.fit(X_train, y_train)\n",
    "print('Best Score:', gridrf.best_score_)\n",
    "print('Best Hyperparameters:', gridrf.best_params_)\n",
    "\n",
    "print(\"Precision: \", precision_score(y_test, gridrf.predict(X_test)))\n",
    "print(\"Recall: \", recall_score(y_test, gridrf.predict(X_test)))\n",
    "print(\"F1: \", f1_score(y_test, gridrf.predict(X_test)))"
   ]
  },
  {
   "cell_type": "code",
   "execution_count": 44,
   "id": "musical-exposure",
   "metadata": {},
   "outputs": [],
   "source": [
    "rfparams = {'max_depth': 30, 'min_samples_leaf': 10, 'min_samples_split': 150, \"class_weight\": \"balanced\", \"random_state\": 33634}\n",
    "score = []\n",
    "for n in np.arange(100,2000,200):\n",
    "    rf = RandomForestClassifier(n_estimators=n, **rfparams)\n",
    "    rf.fit(X_train, y_train)\n",
    "    score.append(f1_score(y_test, rf.predict(X_test)))"
   ]
  },
  {
   "cell_type": "code",
   "execution_count": 53,
   "id": "inside-culture",
   "metadata": {},
   "outputs": [
    {
     "data": {
      "text/plain": [
       "Text(0, 0.5, 'F1 score')"
      ]
     },
     "execution_count": 53,
     "metadata": {},
     "output_type": "execute_result"
    },
    {
     "data": {
      "image/png": "[encoded data removed]",
      "text/plain": [
       "<Figure size 1080x360 with 1 Axes>"
      ]
     },
     "metadata": {
      "needs_background": "light"
     },
     "output_type": "display_data"
    }
   ],
   "source": [
    "plt.figure(figsize=(15,5))\n",
    "plt.plot(np.arange(100,2000,200), score)\n",
    "plt.gca().spines['top'].set_visible(False)\n",
    "plt.gca().spines['right'].set_visible(False)\n",
    "plt.xlabel(\"number of Random Forest estimators\")\n",
    "plt.ylabel(\"F1 score\")\n"
   ]
  },
  {
   "cell_type": "code",
   "execution_count": null,
   "id": "early-bullet",
   "metadata": {},
   "outputs": [],
   "source": []
  }
 ],
 "metadata": {
  "kernelspec": {
   "display_name": "Python 3",
   "language": "python",
   "name": "python3"
  },
  "language_info": {
   "codemirror_mode": {
    "name": "ipython",
    "version": 3
   },
   "file_extension": ".py",
   "mimetype": "text/x-python",
   "name": "python",
   "nbconvert_exporter": "python",
   "pygments_lexer": "ipython3",
   "version": "3.9.4"
  }
 },
 "nbformat": 4,
 "nbformat_minor": 5
}
