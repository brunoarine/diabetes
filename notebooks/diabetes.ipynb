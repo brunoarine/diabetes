{
 "cells": [
  {
   "cell_type": "code",
   "execution_count": 36,
   "id": "chicken-speech",
   "metadata": {},
   "outputs": [],
   "source": [
    "import pandas as pd\n",
    "import numpy as np\n",
    "import matplotlib.pyplot as plt"
   ]
  },
  {
   "cell_type": "markdown",
   "id": "passive-victorian",
   "metadata": {},
   "source": [
    "# Diabetes study\n",
    "\n",
    "**Index**\n",
    "\n",
    "1. [Problem understanding](#Problem-understanding)\n",
    "2. [Data understanding](#Data-understanding)\n",
    "3. [Data preparation](#data-preparation)"
   ]
  },
  {
   "cell_type": "markdown",
   "id": "public-disease",
   "metadata": {},
   "source": [
    "<a id=\"problem-understanding\"></a>\n",
    "## Problem understanding\n",
    "\n",
    "- Diabetes is a major contributor to risk for hospital readmission, representing nearly one-fifth of all 30-day unplanned hospital readmissions. (Soh et al. 2020)\n",
    "- <u>Patient characteristics may affect the outcomes</u> (such as gender, age, race, and comorbidities) (Soh et al. 2020)\n",
    "- Early hospital readmissions have been recognized as a common and costly occurrence, particularly among elderly and high risk patients. One in five Medicare beneficiaries is readmitted within 30 days, for example, at a cost of over $26 billion per year.1 To encourage improvement in the quality of care and a reduction in unnecessary health expense; policymakers, reimbursement strategists, and the United States government have made reducing 30-day hospital readmissions a national priority.2–4 Achieving this goal, however, requires more complete understanding of the underlying causes of readmission. https://www.ncbi.nlm.nih.gov/pmc/articles/PMC4249925/\n",
    "\n",
    "<u>**Objective**</u>\n",
    "\n",
    "In this work I will try to:\n",
    "\n",
    "- Create a predictive model for early readmission (i.e. unplanned readmissions that happen within 30 days of discharge from the initial admission). Such a model could help plan interventions for high-risk patients and reduce costs for both patients and hospitals.\n",
    "- Point out patterns and insights about readmissions, and answer the following questions:\n",
    "  - Which variables are the strongest readmission predictors?\n",
    "  - Given that HbA1c values are key for planning the diabetic patient's medication (according to the literature), how often HbA1c exams are asked by physicians in the inpatient setting?\n"
   ]
  },
  {
   "cell_type": "markdown",
   "id": "declared-provision",
   "metadata": {},
   "source": [
    "<a id=\"data-understanding\"></a>\n",
    "## Data understanding"
   ]
  },
  {
   "cell_type": "markdown",
   "id": "satellite-spectacular",
   "metadata": {},
   "source": [
    "The data set comprises two files, `diabetic_data.csv` and `IDs_mapping.csv`. The former contains anonymized medical data that were collected during 100k encounters accross several hospitals in nearly a decade. The latter contains a legend for some of the numerical categories (like admission type and discharge disposition)."
   ]
  },
  {
   "cell_type": "code",
   "execution_count": 37,
   "id": "fatal-college",
   "metadata": {},
   "outputs": [
    {
     "data": {
      "text/html": [
       "<div>\n",
       "<style scoped>\n",
       "    .dataframe tbody tr th:only-of-type {\n",
       "        vertical-align: middle;\n",
       "    }\n",
       "\n",
       "    .dataframe tbody tr th {\n",
       "        vertical-align: top;\n",
       "    }\n",
       "\n",
       "    .dataframe thead th {\n",
       "        text-align: right;\n",
       "    }\n",
       "</style>\n",
       "<table border=\"1\" class=\"dataframe\">\n",
       "  <thead>\n",
       "    <tr style=\"text-align: right;\">\n",
       "      <th></th>\n",
       "      <th>encounter_id</th>\n",
       "      <th>patient_nbr</th>\n",
       "      <th>race</th>\n",
       "      <th>gender</th>\n",
       "      <th>age</th>\n",
       "      <th>weight</th>\n",
       "      <th>admission_type_id</th>\n",
       "      <th>discharge_disposition_id</th>\n",
       "      <th>admission_source_id</th>\n",
       "      <th>time_in_hospital</th>\n",
       "      <th>...</th>\n",
       "      <th>citoglipton</th>\n",
       "      <th>insulin</th>\n",
       "      <th>glyburide-metformin</th>\n",
       "      <th>glipizide-metformin</th>\n",
       "      <th>glimepiride-pioglitazone</th>\n",
       "      <th>metformin-rosiglitazone</th>\n",
       "      <th>metformin-pioglitazone</th>\n",
       "      <th>change</th>\n",
       "      <th>diabetesMed</th>\n",
       "      <th>readmitted</th>\n",
       "    </tr>\n",
       "  </thead>\n",
       "  <tbody>\n",
       "    <tr>\n",
       "      <th>0</th>\n",
       "      <td>2278392</td>\n",
       "      <td>8222157</td>\n",
       "      <td>Caucasian</td>\n",
       "      <td>Female</td>\n",
       "      <td>[0-10)</td>\n",
       "      <td>?</td>\n",
       "      <td>6</td>\n",
       "      <td>25</td>\n",
       "      <td>1</td>\n",
       "      <td>1</td>\n",
       "      <td>...</td>\n",
       "      <td>No</td>\n",
       "      <td>No</td>\n",
       "      <td>No</td>\n",
       "      <td>No</td>\n",
       "      <td>No</td>\n",
       "      <td>No</td>\n",
       "      <td>No</td>\n",
       "      <td>No</td>\n",
       "      <td>No</td>\n",
       "      <td>NO</td>\n",
       "    </tr>\n",
       "    <tr>\n",
       "      <th>1</th>\n",
       "      <td>149190</td>\n",
       "      <td>55629189</td>\n",
       "      <td>Caucasian</td>\n",
       "      <td>Female</td>\n",
       "      <td>[10-20)</td>\n",
       "      <td>?</td>\n",
       "      <td>1</td>\n",
       "      <td>1</td>\n",
       "      <td>7</td>\n",
       "      <td>3</td>\n",
       "      <td>...</td>\n",
       "      <td>No</td>\n",
       "      <td>Up</td>\n",
       "      <td>No</td>\n",
       "      <td>No</td>\n",
       "      <td>No</td>\n",
       "      <td>No</td>\n",
       "      <td>No</td>\n",
       "      <td>Ch</td>\n",
       "      <td>Yes</td>\n",
       "      <td>&gt;30</td>\n",
       "    </tr>\n",
       "    <tr>\n",
       "      <th>2</th>\n",
       "      <td>64410</td>\n",
       "      <td>86047875</td>\n",
       "      <td>AfricanAmerican</td>\n",
       "      <td>Female</td>\n",
       "      <td>[20-30)</td>\n",
       "      <td>?</td>\n",
       "      <td>1</td>\n",
       "      <td>1</td>\n",
       "      <td>7</td>\n",
       "      <td>2</td>\n",
       "      <td>...</td>\n",
       "      <td>No</td>\n",
       "      <td>No</td>\n",
       "      <td>No</td>\n",
       "      <td>No</td>\n",
       "      <td>No</td>\n",
       "      <td>No</td>\n",
       "      <td>No</td>\n",
       "      <td>No</td>\n",
       "      <td>Yes</td>\n",
       "      <td>NO</td>\n",
       "    </tr>\n",
       "    <tr>\n",
       "      <th>3</th>\n",
       "      <td>500364</td>\n",
       "      <td>82442376</td>\n",
       "      <td>Caucasian</td>\n",
       "      <td>Male</td>\n",
       "      <td>[30-40)</td>\n",
       "      <td>?</td>\n",
       "      <td>1</td>\n",
       "      <td>1</td>\n",
       "      <td>7</td>\n",
       "      <td>2</td>\n",
       "      <td>...</td>\n",
       "      <td>No</td>\n",
       "      <td>Up</td>\n",
       "      <td>No</td>\n",
       "      <td>No</td>\n",
       "      <td>No</td>\n",
       "      <td>No</td>\n",
       "      <td>No</td>\n",
       "      <td>Ch</td>\n",
       "      <td>Yes</td>\n",
       "      <td>NO</td>\n",
       "    </tr>\n",
       "    <tr>\n",
       "      <th>4</th>\n",
       "      <td>16680</td>\n",
       "      <td>42519267</td>\n",
       "      <td>Caucasian</td>\n",
       "      <td>Male</td>\n",
       "      <td>[40-50)</td>\n",
       "      <td>?</td>\n",
       "      <td>1</td>\n",
       "      <td>1</td>\n",
       "      <td>7</td>\n",
       "      <td>1</td>\n",
       "      <td>...</td>\n",
       "      <td>No</td>\n",
       "      <td>Steady</td>\n",
       "      <td>No</td>\n",
       "      <td>No</td>\n",
       "      <td>No</td>\n",
       "      <td>No</td>\n",
       "      <td>No</td>\n",
       "      <td>Ch</td>\n",
       "      <td>Yes</td>\n",
       "      <td>NO</td>\n",
       "    </tr>\n",
       "  </tbody>\n",
       "</table>\n",
       "<p>5 rows × 50 columns</p>\n",
       "</div>"
      ],
      "text/plain": [
       "   encounter_id  patient_nbr             race  gender      age weight  \\\n",
       "0       2278392      8222157        Caucasian  Female   [0-10)      ?   \n",
       "1        149190     55629189        Caucasian  Female  [10-20)      ?   \n",
       "2         64410     86047875  AfricanAmerican  Female  [20-30)      ?   \n",
       "3        500364     82442376        Caucasian    Male  [30-40)      ?   \n",
       "4         16680     42519267        Caucasian    Male  [40-50)      ?   \n",
       "\n",
       "   admission_type_id  discharge_disposition_id  admission_source_id  \\\n",
       "0                  6                        25                    1   \n",
       "1                  1                         1                    7   \n",
       "2                  1                         1                    7   \n",
       "3                  1                         1                    7   \n",
       "4                  1                         1                    7   \n",
       "\n",
       "   time_in_hospital  ... citoglipton insulin  glyburide-metformin  \\\n",
       "0                 1  ...          No      No                   No   \n",
       "1                 3  ...          No      Up                   No   \n",
       "2                 2  ...          No      No                   No   \n",
       "3                 2  ...          No      Up                   No   \n",
       "4                 1  ...          No  Steady                   No   \n",
       "\n",
       "   glipizide-metformin  glimepiride-pioglitazone  metformin-rosiglitazone  \\\n",
       "0                   No                        No                       No   \n",
       "1                   No                        No                       No   \n",
       "2                   No                        No                       No   \n",
       "3                   No                        No                       No   \n",
       "4                   No                        No                       No   \n",
       "\n",
       "   metformin-pioglitazone  change diabetesMed readmitted  \n",
       "0                      No      No          No         NO  \n",
       "1                      No      Ch         Yes        >30  \n",
       "2                      No      No         Yes         NO  \n",
       "3                      No      Ch         Yes         NO  \n",
       "4                      No      Ch         Yes         NO  \n",
       "\n",
       "[5 rows x 50 columns]"
      ]
     },
     "execution_count": 37,
     "metadata": {},
     "output_type": "execute_result"
    }
   ],
   "source": [
    "df = pd.read_csv(\"../data/diabetic_data.zip\")\n",
    "df.head()"
   ]
  },
  {
   "cell_type": "markdown",
   "id": "former-beads",
   "metadata": {},
   "source": [
    "Missing values are represented by question marks in this data set. I will replace these with np.nan, so I can use Pandas' default methods to view and work with missing data as NaNs."
   ]
  },
  {
   "cell_type": "code",
   "execution_count": 38,
   "id": "breeding-guitar",
   "metadata": {},
   "outputs": [
    {
     "data": {
      "text/html": [
       "<div>\n",
       "<style scoped>\n",
       "    .dataframe tbody tr th:only-of-type {\n",
       "        vertical-align: middle;\n",
       "    }\n",
       "\n",
       "    .dataframe tbody tr th {\n",
       "        vertical-align: top;\n",
       "    }\n",
       "\n",
       "    .dataframe thead th {\n",
       "        text-align: right;\n",
       "    }\n",
       "</style>\n",
       "<table border=\"1\" class=\"dataframe\">\n",
       "  <thead>\n",
       "    <tr style=\"text-align: right;\">\n",
       "      <th></th>\n",
       "      <th>encounter_id</th>\n",
       "      <th>patient_nbr</th>\n",
       "      <th>race</th>\n",
       "      <th>gender</th>\n",
       "      <th>age</th>\n",
       "      <th>weight</th>\n",
       "      <th>admission_type_id</th>\n",
       "      <th>discharge_disposition_id</th>\n",
       "      <th>admission_source_id</th>\n",
       "      <th>time_in_hospital</th>\n",
       "      <th>...</th>\n",
       "      <th>citoglipton</th>\n",
       "      <th>insulin</th>\n",
       "      <th>glyburide-metformin</th>\n",
       "      <th>glipizide-metformin</th>\n",
       "      <th>glimepiride-pioglitazone</th>\n",
       "      <th>metformin-rosiglitazone</th>\n",
       "      <th>metformin-pioglitazone</th>\n",
       "      <th>change</th>\n",
       "      <th>diabetesMed</th>\n",
       "      <th>readmitted</th>\n",
       "    </tr>\n",
       "  </thead>\n",
       "  <tbody>\n",
       "    <tr>\n",
       "      <th>0</th>\n",
       "      <td>2278392</td>\n",
       "      <td>8222157</td>\n",
       "      <td>Caucasian</td>\n",
       "      <td>Female</td>\n",
       "      <td>[0-10)</td>\n",
       "      <td>NaN</td>\n",
       "      <td>6</td>\n",
       "      <td>25</td>\n",
       "      <td>1</td>\n",
       "      <td>1</td>\n",
       "      <td>...</td>\n",
       "      <td>No</td>\n",
       "      <td>No</td>\n",
       "      <td>No</td>\n",
       "      <td>No</td>\n",
       "      <td>No</td>\n",
       "      <td>No</td>\n",
       "      <td>No</td>\n",
       "      <td>No</td>\n",
       "      <td>No</td>\n",
       "      <td>NO</td>\n",
       "    </tr>\n",
       "    <tr>\n",
       "      <th>1</th>\n",
       "      <td>149190</td>\n",
       "      <td>55629189</td>\n",
       "      <td>Caucasian</td>\n",
       "      <td>Female</td>\n",
       "      <td>[10-20)</td>\n",
       "      <td>NaN</td>\n",
       "      <td>1</td>\n",
       "      <td>1</td>\n",
       "      <td>7</td>\n",
       "      <td>3</td>\n",
       "      <td>...</td>\n",
       "      <td>No</td>\n",
       "      <td>Up</td>\n",
       "      <td>No</td>\n",
       "      <td>No</td>\n",
       "      <td>No</td>\n",
       "      <td>No</td>\n",
       "      <td>No</td>\n",
       "      <td>Ch</td>\n",
       "      <td>Yes</td>\n",
       "      <td>&gt;30</td>\n",
       "    </tr>\n",
       "    <tr>\n",
       "      <th>2</th>\n",
       "      <td>64410</td>\n",
       "      <td>86047875</td>\n",
       "      <td>AfricanAmerican</td>\n",
       "      <td>Female</td>\n",
       "      <td>[20-30)</td>\n",
       "      <td>NaN</td>\n",
       "      <td>1</td>\n",
       "      <td>1</td>\n",
       "      <td>7</td>\n",
       "      <td>2</td>\n",
       "      <td>...</td>\n",
       "      <td>No</td>\n",
       "      <td>No</td>\n",
       "      <td>No</td>\n",
       "      <td>No</td>\n",
       "      <td>No</td>\n",
       "      <td>No</td>\n",
       "      <td>No</td>\n",
       "      <td>No</td>\n",
       "      <td>Yes</td>\n",
       "      <td>NO</td>\n",
       "    </tr>\n",
       "    <tr>\n",
       "      <th>3</th>\n",
       "      <td>500364</td>\n",
       "      <td>82442376</td>\n",
       "      <td>Caucasian</td>\n",
       "      <td>Male</td>\n",
       "      <td>[30-40)</td>\n",
       "      <td>NaN</td>\n",
       "      <td>1</td>\n",
       "      <td>1</td>\n",
       "      <td>7</td>\n",
       "      <td>2</td>\n",
       "      <td>...</td>\n",
       "      <td>No</td>\n",
       "      <td>Up</td>\n",
       "      <td>No</td>\n",
       "      <td>No</td>\n",
       "      <td>No</td>\n",
       "      <td>No</td>\n",
       "      <td>No</td>\n",
       "      <td>Ch</td>\n",
       "      <td>Yes</td>\n",
       "      <td>NO</td>\n",
       "    </tr>\n",
       "    <tr>\n",
       "      <th>4</th>\n",
       "      <td>16680</td>\n",
       "      <td>42519267</td>\n",
       "      <td>Caucasian</td>\n",
       "      <td>Male</td>\n",
       "      <td>[40-50)</td>\n",
       "      <td>NaN</td>\n",
       "      <td>1</td>\n",
       "      <td>1</td>\n",
       "      <td>7</td>\n",
       "      <td>1</td>\n",
       "      <td>...</td>\n",
       "      <td>No</td>\n",
       "      <td>Steady</td>\n",
       "      <td>No</td>\n",
       "      <td>No</td>\n",
       "      <td>No</td>\n",
       "      <td>No</td>\n",
       "      <td>No</td>\n",
       "      <td>Ch</td>\n",
       "      <td>Yes</td>\n",
       "      <td>NO</td>\n",
       "    </tr>\n",
       "  </tbody>\n",
       "</table>\n",
       "<p>5 rows × 50 columns</p>\n",
       "</div>"
      ],
      "text/plain": [
       "   encounter_id  patient_nbr             race  gender      age weight  \\\n",
       "0       2278392      8222157        Caucasian  Female   [0-10)    NaN   \n",
       "1        149190     55629189        Caucasian  Female  [10-20)    NaN   \n",
       "2         64410     86047875  AfricanAmerican  Female  [20-30)    NaN   \n",
       "3        500364     82442376        Caucasian    Male  [30-40)    NaN   \n",
       "4         16680     42519267        Caucasian    Male  [40-50)    NaN   \n",
       "\n",
       "   admission_type_id  discharge_disposition_id  admission_source_id  \\\n",
       "0                  6                        25                    1   \n",
       "1                  1                         1                    7   \n",
       "2                  1                         1                    7   \n",
       "3                  1                         1                    7   \n",
       "4                  1                         1                    7   \n",
       "\n",
       "   time_in_hospital  ... citoglipton insulin  glyburide-metformin  \\\n",
       "0                 1  ...          No      No                   No   \n",
       "1                 3  ...          No      Up                   No   \n",
       "2                 2  ...          No      No                   No   \n",
       "3                 2  ...          No      Up                   No   \n",
       "4                 1  ...          No  Steady                   No   \n",
       "\n",
       "   glipizide-metformin  glimepiride-pioglitazone  metformin-rosiglitazone  \\\n",
       "0                   No                        No                       No   \n",
       "1                   No                        No                       No   \n",
       "2                   No                        No                       No   \n",
       "3                   No                        No                       No   \n",
       "4                   No                        No                       No   \n",
       "\n",
       "   metformin-pioglitazone  change diabetesMed readmitted  \n",
       "0                      No      No          No         NO  \n",
       "1                      No      Ch         Yes        >30  \n",
       "2                      No      No         Yes         NO  \n",
       "3                      No      Ch         Yes         NO  \n",
       "4                      No      Ch         Yes         NO  \n",
       "\n",
       "[5 rows x 50 columns]"
      ]
     },
     "execution_count": 38,
     "metadata": {},
     "output_type": "execute_result"
    }
   ],
   "source": [
    "df.replace(\"?\", np.nan, inplace=True)\n",
    "df.head()"
   ]
  },
  {
   "cell_type": "markdown",
   "id": "swedish-partition",
   "metadata": {},
   "source": [
    "Overral view of the dataframe, including missing values and dtypes:"
   ]
  },
  {
   "cell_type": "code",
   "execution_count": 39,
   "id": "accurate-masters",
   "metadata": {},
   "outputs": [
    {
     "name": "stdout",
     "output_type": "stream",
     "text": [
      "<class 'pandas.core.frame.DataFrame'>\n",
      "RangeIndex: 101766 entries, 0 to 101765\n",
      "Data columns (total 50 columns):\n",
      " #   Column                    Non-Null Count   Dtype \n",
      "---  ------                    --------------   ----- \n",
      " 0   encounter_id              101766 non-null  int64 \n",
      " 1   patient_nbr               101766 non-null  int64 \n",
      " 2   race                      99493 non-null   object\n",
      " 3   gender                    101766 non-null  object\n",
      " 4   age                       101766 non-null  object\n",
      " 5   weight                    3197 non-null    object\n",
      " 6   admission_type_id         101766 non-null  int64 \n",
      " 7   discharge_disposition_id  101766 non-null  int64 \n",
      " 8   admission_source_id       101766 non-null  int64 \n",
      " 9   time_in_hospital          101766 non-null  int64 \n",
      " 10  payer_code                61510 non-null   object\n",
      " 11  medical_specialty         51817 non-null   object\n",
      " 12  num_lab_procedures        101766 non-null  int64 \n",
      " 13  num_procedures            101766 non-null  int64 \n",
      " 14  num_medications           101766 non-null  int64 \n",
      " 15  number_outpatient         101766 non-null  int64 \n",
      " 16  number_emergency          101766 non-null  int64 \n",
      " 17  number_inpatient          101766 non-null  int64 \n",
      " 18  diag_1                    101745 non-null  object\n",
      " 19  diag_2                    101408 non-null  object\n",
      " 20  diag_3                    100343 non-null  object\n",
      " 21  number_diagnoses          101766 non-null  int64 \n",
      " 22  max_glu_serum             101766 non-null  object\n",
      " 23  A1Cresult                 101766 non-null  object\n",
      " 24  metformin                 101766 non-null  object\n",
      " 25  repaglinide               101766 non-null  object\n",
      " 26  nateglinide               101766 non-null  object\n",
      " 27  chlorpropamide            101766 non-null  object\n",
      " 28  glimepiride               101766 non-null  object\n",
      " 29  acetohexamide             101766 non-null  object\n",
      " 30  glipizide                 101766 non-null  object\n",
      " 31  glyburide                 101766 non-null  object\n",
      " 32  tolbutamide               101766 non-null  object\n",
      " 33  pioglitazone              101766 non-null  object\n",
      " 34  rosiglitazone             101766 non-null  object\n",
      " 35  acarbose                  101766 non-null  object\n",
      " 36  miglitol                  101766 non-null  object\n",
      " 37  troglitazone              101766 non-null  object\n",
      " 38  tolazamide                101766 non-null  object\n",
      " 39  examide                   101766 non-null  object\n",
      " 40  citoglipton               101766 non-null  object\n",
      " 41  insulin                   101766 non-null  object\n",
      " 42  glyburide-metformin       101766 non-null  object\n",
      " 43  glipizide-metformin       101766 non-null  object\n",
      " 44  glimepiride-pioglitazone  101766 non-null  object\n",
      " 45  metformin-rosiglitazone   101766 non-null  object\n",
      " 46  metformin-pioglitazone    101766 non-null  object\n",
      " 47  change                    101766 non-null  object\n",
      " 48  diabetesMed               101766 non-null  object\n",
      " 49  readmitted                101766 non-null  object\n",
      "dtypes: int64(13), object(37)\n",
      "memory usage: 38.8+ MB\n"
     ]
    }
   ],
   "source": [
    "df.info()"
   ]
  },
  {
   "cell_type": "markdown",
   "id": "moral-technical",
   "metadata": {},
   "source": [
    "Percentage of missing vales for each column:"
   ]
  },
  {
   "cell_type": "markdown",
   "id": "available-analyst",
   "metadata": {},
   "source": [
    "I need more details about possible values. Knowing the variable's dtypes only won't be enough, so let's see some examples of what to expect."
   ]
  },
  {
   "cell_type": "code",
   "execution_count": 40,
   "id": "pacific-portal",
   "metadata": {},
   "outputs": [
    {
     "name": "stdout",
     "output_type": "stream",
     "text": [
      "Variable              Unique     % Missing  Examples\n",
      "====================================================================================================\n",
      "encounter_id              101766     0.0    [77856768, 173015040, 84934662, 273678342, 17563668]\n",
      "patient_nbr               71518      0.0    [33947649, 92667906, 82706436, 83623941, 128319494]\n",
      "race                      6          2.2    [nan, 'AfricanAmerican', 'Caucasian', 'Other', 'Asian']\n",
      "gender                    3          0.0    ['Unknown/Invalid', 'Female', 'Male']\n",
      "age                       10         0.0    ['[80-90)', '[20-30)', '[50-60)', '[90-100)', '[70-80)']\n",
      "weight                    10         96.9   [nan, '[150-175)', '[50-75)', '[0-25)', '[25-50)']\n",
      "admission_type_id         8          0.0    [1, 2, 3, 4, 5]     \n",
      "discharge_disposition_id  26         0.0    [1, 2, 3, 4, 5]     \n",
      "admission_source_id       17         0.0    [1, 2, 3, 4, 5]     \n",
      "time_in_hospital          14         0.0    [1, 2, 3, 4, 5]     \n",
      "payer_code                18         39.6   [nan, 'UN', 'MP', 'SP', 'MD']\n",
      "medical_specialty         73         49.1   [nan, 'Pediatrics-Endocrinology', 'InternalMedicine', 'InfectiousDiseases', 'ObstetricsandGynecology']\n",
      "num_lab_procedures        118        0.0    [1, 2, 3, 4, 5]     \n",
      "num_procedures            7          0.0    [0, 1, 2, 3, 4]     \n",
      "num_medications           75         0.0    [1, 2, 3, 4, 5]     \n",
      "number_outpatient         39         0.0    [0, 1, 2, 3, 4]     \n",
      "number_emergency          33         0.0    [0, 1, 2, 3, 4]     \n",
      "number_inpatient          21         0.0    [0, 1, 2, 3, 4]     \n",
      "diag_1                    717        0.0    [nan, '799', '250.12', '611', '622']\n",
      "diag_2                    749        0.4    [nan, '799', '250.12', '316', '894']\n",
      "diag_3                    790        1.4    [nan, '799', '250.12', '611', '622']\n",
      "number_diagnoses          16         0.0    [1, 2, 3, 4, 5]     \n",
      "max_glu_serum             4          0.0    ['None', '>300', '>200', 'Norm']\n",
      "A1Cresult                 4          0.0    ['>7', 'None', '>8', 'Norm']\n",
      "metformin                 4          0.0    ['Up', 'No', 'Down', 'Steady']\n",
      "repaglinide               4          0.0    ['Up', 'No', 'Down', 'Steady']\n",
      "nateglinide               4          0.0    ['Up', 'Down', 'No', 'Steady']\n",
      "chlorpropamide            4          0.0    ['Up', 'Down', 'No', 'Steady']\n",
      "glimepiride               4          0.0    ['Up', 'Down', 'No', 'Steady']\n",
      "acetohexamide             2          0.0    ['No', 'Steady']    \n",
      "glipizide                 4          0.0    ['Up', 'No', 'Down', 'Steady']\n",
      "glyburide                 4          0.0    ['Up', 'No', 'Down', 'Steady']\n",
      "tolbutamide               2          0.0    ['No', 'Steady']    \n",
      "pioglitazone              4          0.0    ['Up', 'No', 'Down', 'Steady']\n",
      "rosiglitazone             4          0.0    ['Up', 'No', 'Down', 'Steady']\n",
      "acarbose                  4          0.0    ['Up', 'No', 'Down', 'Steady']\n",
      "miglitol                  4          0.0    ['Up', 'Down', 'No', 'Steady']\n",
      "troglitazone              2          0.0    ['No', 'Steady']    \n",
      "tolazamide                3          0.0    ['Up', 'No', 'Steady']\n",
      "examide                   1          0.0    ['No']              \n",
      "citoglipton               1          0.0    ['No']              \n",
      "insulin                   4          0.0    ['Up', 'No', 'Down', 'Steady']\n",
      "glyburide-metformin       4          0.0    ['Up', 'Down', 'No', 'Steady']\n",
      "glipizide-metformin       2          0.0    ['No', 'Steady']    \n",
      "glimepiride-pioglitazone  2          0.0    ['No', 'Steady']    \n",
      "metformin-rosiglitazone   2          0.0    ['No', 'Steady']    \n",
      "metformin-pioglitazone    2          0.0    ['No', 'Steady']    \n",
      "change                    2          0.0    ['Ch', 'No']        \n",
      "diabetesMed               2          0.0    ['No', 'Yes']       \n",
      "readmitted                3          0.0    ['>30', '<30', 'NO']\n"
     ]
    }
   ],
   "source": [
    "print(\"Variable              Unique     % Missing  Examples\")\n",
    "print(\"=\"*100)\n",
    "for column in df:\n",
    "    uniques = set(df[column])\n",
    "    n_uniques = len(uniques)\n",
    "    missing = df[column].isnull().mean()*100\n",
    "    examples = list(uniques)[:5]\n",
    "    output = \"{:<25} {:<10} {:<6.1f} {:<20}\".format(column, n_uniques, missing, str(examples))\n",
    "    print(output)\n",
    "    "
   ]
  },
  {
   "cell_type": "markdown",
   "id": "accepted-niger",
   "metadata": {},
   "source": [
    "### IDs Mapping\n",
    "\n",
    "Now taking a look at `IDs_mapping.csv`, the file isn't in standard CSV format. It's actually a text file mapping numerical categories to strings. Using this file, I'll replace each number with the appropriate name in the original dataframe."
   ]
  },
  {
   "cell_type": "code",
   "execution_count": 41,
   "id": "distinguished-characterization",
   "metadata": {},
   "outputs": [],
   "source": [
    "# Map for admission_type_id\n",
    "admtype_map = pd.read_csv(\"../data/IDs_mapping.zip\", skiprows=0, nrows=8)\n",
    "\n",
    "# Map for discharge_disposition_id\n",
    "discharge_map = pd.read_csv(\"../data/IDs_mapping.zip\", skiprows=10, nrows=30)\n",
    "\n",
    "# Map for admission_source_id\n",
    "admsrc_map = pd.read_csv(\"../data/IDs_mapping.zip\", skiprows=42, nrows=25)"
   ]
  },
  {
   "cell_type": "code",
   "execution_count": 42,
   "id": "terminal-windows",
   "metadata": {},
   "outputs": [
    {
     "data": {
      "text/html": [
       "<div>\n",
       "<style scoped>\n",
       "    .dataframe tbody tr th:only-of-type {\n",
       "        vertical-align: middle;\n",
       "    }\n",
       "\n",
       "    .dataframe tbody tr th {\n",
       "        vertical-align: top;\n",
       "    }\n",
       "\n",
       "    .dataframe thead th {\n",
       "        text-align: right;\n",
       "    }\n",
       "</style>\n",
       "<table border=\"1\" class=\"dataframe\">\n",
       "  <thead>\n",
       "    <tr style=\"text-align: right;\">\n",
       "      <th></th>\n",
       "      <th>admission_source_id</th>\n",
       "      <th>description</th>\n",
       "    </tr>\n",
       "  </thead>\n",
       "  <tbody>\n",
       "    <tr>\n",
       "      <th>0</th>\n",
       "      <td>1</td>\n",
       "      <td>Physician Referral</td>\n",
       "    </tr>\n",
       "    <tr>\n",
       "      <th>1</th>\n",
       "      <td>2</td>\n",
       "      <td>Clinic Referral</td>\n",
       "    </tr>\n",
       "    <tr>\n",
       "      <th>2</th>\n",
       "      <td>3</td>\n",
       "      <td>HMO Referral</td>\n",
       "    </tr>\n",
       "    <tr>\n",
       "      <th>3</th>\n",
       "      <td>4</td>\n",
       "      <td>Transfer from a hospital</td>\n",
       "    </tr>\n",
       "    <tr>\n",
       "      <th>4</th>\n",
       "      <td>5</td>\n",
       "      <td>Transfer from a Skilled Nursing Facility (SNF)</td>\n",
       "    </tr>\n",
       "  </tbody>\n",
       "</table>\n",
       "</div>"
      ],
      "text/plain": [
       "   admission_source_id                                      description\n",
       "0                    1                               Physician Referral\n",
       "1                    2                                  Clinic Referral\n",
       "2                    3                                     HMO Referral\n",
       "3                    4                         Transfer from a hospital\n",
       "4                    5   Transfer from a Skilled Nursing Facility (SNF)"
      ]
     },
     "execution_count": 42,
     "metadata": {},
     "output_type": "execute_result"
    }
   ],
   "source": [
    "admsrc_map.head()"
   ]
  },
  {
   "cell_type": "markdown",
   "id": "limiting-increase",
   "metadata": {},
   "source": [
    "### Data set characteristics\n",
    "\n",
    "- Covers a 10-year span (1999-2008).\n",
    "- Hospital admissions in the data set are supposed to be diabetic-related **only**.\n",
    "- Lab tests were performed during admission.\n",
    "- Medications were administered during admission.\n",
    "- Data set contains <u>multiple readmissions of the same people</u>.\n",
    "- Missing values are represented by \"?\"\n",
    "  - `weight` variable is nearly useless, with about 97% of missing values.\n",
    "  - `payercode` could be an useful variable, but has a concerning number of missing values (around 40%)\n",
    "  - `medical_specialty` has half of its values missing.\n",
    "- Lots of low-variance variables in this data set (e.g. `examide` and `citoglipton` have only 1 unique value), which won't add to the model's predictive power.\n",
    "- `diag_1` to `diag_3` columns have both strings and floating points. Googling the keyword \"diagnosis\" plus some of these cryptic codes showed that they are, in fact, ICD-9-CM Diagnosis Codes (e.g. 427 = Cardiac dysrhythmias, E852 =  Accidental poisoning by other sedatives and hypnotics)\n",
    "\n",
    "**Target variable:** 30-day remission, i.e. unplanned or unexpected readmission to the same hospital within 30 days of being discharged."
   ]
  },
  {
   "cell_type": "markdown",
   "id": "3a09e132",
   "metadata": {},
   "source": [
    "<a id=\"data-preparation\"></a>\n",
    "## Data preparation\n"
   ]
  },
  {
   "cell_type": "markdown",
   "id": "e9c3bbc1",
   "metadata": {},
   "source": [
    "### Removing duplicates\n",
    "\n",
    "There are a few rows in the data set that refer to the same patient number. Most machine learning models require the observations to be independent from each other. More specifically, the assumption is that observations shouldn't come from repeated measurements, so these will be deleted."
   ]
  },
  {
   "cell_type": "code",
   "execution_count": 43,
   "id": "4fdc2951",
   "metadata": {},
   "outputs": [
    {
     "name": "stdout",
     "output_type": "stream",
     "text": [
      "df size before: 101766\n",
      "df size after: 71518\n"
     ]
    }
   ],
   "source": [
    "print(\"df size before:\", df.shape[0])\n",
    "df2 = df.drop_duplicates(subset=\"patient_nbr\", keep=\"first\")\n",
    "print(\"df size after:\", df2.shape[0])"
   ]
  },
  {
   "cell_type": "markdown",
   "id": "e11d76f7",
   "metadata": {},
   "source": [
    "### Dropped features"
   ]
  },
  {
   "cell_type": "markdown",
   "id": "2c690178",
   "metadata": {},
   "source": [
    "- `encounter_id`, `patient_nbr`, and `payer_code`\n",
    "- `weight`: too many missing values.\n",
    "- `examide` and `citoglipton`: they have only one value, thus no predictive power.\n",
    "- `diag_2` and `diag_ 3`: in the inpatient setting, the primary diagnosis is the most serious and/or resource-intensive during the hospitalization or the inpatient encounter. https://www.hcpro.com/HIM-324035-5707/QA-Primary-principal-and-secondary-diagnoses.html"
   ]
  },
  {
   "cell_type": "code",
   "execution_count": 44,
   "id": "7ce068bf",
   "metadata": {},
   "outputs": [],
   "source": [
    "df3 = df2.drop([\"encounter_id\",\"patient_nbr\",\"payer_code\",\"weight\",\"examide\",\"citoglipton\", \"diag_2\", \"diag_3\"], axis=1)"
   ]
  },
  {
   "cell_type": "markdown",
   "id": "fca1a686",
   "metadata": {},
   "source": [
    "### Modified features"
   ]
  },
  {
   "cell_type": "markdown",
   "id": "114db7f3",
   "metadata": {},
   "source": [
    "#### Missing values\n",
    "\n",
    "First, fill NaNs with \"Unknown\" to account for this value."
   ]
  },
  {
   "cell_type": "code",
   "execution_count": 45,
   "id": "f7643753",
   "metadata": {},
   "outputs": [],
   "source": [
    "df3[\"medical_specialty\"] = df3[\"medical_specialty\"].fillna(\"Unknown\")\n",
    "df3[\"race\"] = df3[\"race\"].fillna(\"Unknown\")"
   ]
  },
  {
   "cell_type": "code",
   "execution_count": 46,
   "id": "c806d676",
   "metadata": {},
   "outputs": [
    {
     "data": {
      "text/plain": [
       "<AxesSubplot:>"
      ]
     },
     "execution_count": 46,
     "metadata": {},
     "output_type": "execute_result"
    },
    {
     "data": {
      "image/png": "[encoded data removed]",
      "text/plain": [
       "<Figure size 1080x1080 with 1 Axes>"
      ]
     },
     "metadata": {
      "needs_background": "light"
     },
     "output_type": "display_data"
    }
   ],
   "source": [
    "plt.figure(figsize=(15,15))\n",
    "df3.medical_specialty.value_counts(ascending=True, normalize=True).plot(kind=\"barh\")"
   ]
  },
  {
   "cell_type": "markdown",
   "id": "254ee5f8",
   "metadata": {},
   "source": [
    "I'm going to limit the `medical_specialty` feature to just those that are most abudant, plus \"Endocrinology-Metabolism\", which makes sense since they are the type of physicians most apt to handle diabetic admissions. All other categories will be replaced by \"Other\"."
   ]
  },
  {
   "cell_type": "code",
   "execution_count": 47,
   "id": "f80a5e1c",
   "metadata": {},
   "outputs": [],
   "source": [
    "specialties = df3.medical_specialty.value_counts(normalize=True)\n",
    "specialties = [\n",
    "    \"Unknown\",\n",
    "    \"InternalMedicine\",\n",
    "    \"Family/GeneralPractice\", \n",
    "    \"Emergency/Trauma\",\n",
    "    \"Cardiology\",\n",
    "    \"Endocrinology-Metabolism\"\n",
    "]\n",
    "df3[\"medical_specialty\"] = df3[\"medical_specialty\"].apply(lambda x: x if x in specialties else \"Other\")"
   ]
  },
  {
   "cell_type": "markdown",
   "id": "f77df411",
   "metadata": {},
   "source": [
    "#### diag_1, diag_2, and diag_3\n",
    "\n",
    "The diagnosis features are represented by ICD-9 codes. The idea here is to condensate the hundreds of codes into just a few major groups. \n",
    "\n",
    "There are hundreds of different diseases being entered as the `diag`s features, so to avoid ending up with too many features after one-hot encoding them, I'll group them into a few major categories according to the list of ICD-9 codes on Wikipedia: "
   ]
  },
  {
   "cell_type": "markdown",
   "id": "million-nickel",
   "metadata": {},
   "source": [
    "    List of ICD-9 codes 001–139: infectious and parasitic diseases\n",
    "    List of ICD-9 codes 140–239: neoplasms\n",
    "    List of ICD-9 codes 240–279: endocrine, nutritional and metabolic diseases, and immunity disorders\n",
    "    List of ICD-9 codes 280–289: diseases of the blood and blood-forming organs\n",
    "    List of ICD-9 codes 290–319: mental disorders\n",
    "    List of ICD-9 codes 320–389: diseases of the nervous system and sense organs\n",
    "    List of ICD-9 codes 390–459: diseases of the circulatory system\n",
    "    List of ICD-9 codes 460–519: diseases of the respiratory system\n",
    "    List of ICD-9 codes 520–579: diseases of the digestive system\n",
    "    List of ICD-9 codes 580–629: diseases of the genitourinary system\n",
    "    List of ICD-9 codes 630–679: complications of pregnancy, childbirth, and the puerperium\n",
    "    List of ICD-9 codes 680–709: diseases of the skin and subcutaneous tissue\n",
    "    List of ICD-9 codes 710–739: diseases of the musculoskeletal system and connective tissue\n",
    "    List of ICD-9 codes 740–759: congenital anomalies\n",
    "    List of ICD-9 codes 760–779: certain conditions originating in the perinatal period\n",
    "    List of ICD-9 codes 780–799: symptoms, signs, and ill-defined conditions\n",
    "    List of ICD-9 codes 800–999: injury and poisoning\n",
    "    List of ICD-9 codes E and V codes: external causes of injury and supplemental classification"
   ]
  },
  {
   "cell_type": "code",
   "execution_count": 48,
   "id": "3eb24d82",
   "metadata": {},
   "outputs": [],
   "source": [
    "def icd(code):\n",
    "    \"\"\"Converts ICD-9 code in string format into a descriptive major category.\n",
    "    ---\n",
    "    code : int\n",
    "    The ICD-9 encoded diagonisis\n",
    "    \n",
    "    return : str\n",
    "    A major diagnostic category.\n",
    "    \"\"\"\n",
    "    try:\n",
    "        code = int(code)\n",
    "    except ValueError:\n",
    "        return \"Other\"\n",
    "    if (code >= 1) and (code < 140):\n",
    "        return \"Infections\"\n",
    "    elif (code >= 140) and (code < 250):\n",
    "        return \"Endocrine\"\n",
    "    elif (code >= 250) and (code < 251):\n",
    "        return \"Diabetes\"\n",
    "    elif (code >= 251) and (code <280):\n",
    "        return \"Endocrine\"\n",
    "    elif (code >= 280) and (code < 290):\n",
    "        return \"Blood\"\n",
    "    elif (code >= 290) and (code < 320):\n",
    "        return \"Mental\"\n",
    "    elif (code >= 320) and (code < 390):\n",
    "        return \"Nervous system\"\n",
    "    elif (code >= 390) and (code < 460):\n",
    "        return \"Circulatory\"\n",
    "    elif (code >= 460) and (code < 520):\n",
    "        return \"Respiratory\"\n",
    "    elif (code >= 520) and (code < 580):\n",
    "        return \"Digestive\"\n",
    "    elif (code >= 580) and (code < 630):\n",
    "        return \"Genitourinary\" \n",
    "    elif (code >= 630) and (code < 680):\n",
    "        return \"Pregnancy complications\"\n",
    "    elif (code >= 680) and (code < 710):\n",
    "        return \"Skin\"\n",
    "    elif (code >= 710) and (code < 740):\n",
    "        return \"Musculoskeletal\"\n",
    "    else: \n",
    "        return \"Other\"\n",
    "    \n",
    "    "
   ]
  },
  {
   "cell_type": "code",
   "execution_count": 49,
   "id": "7189be2f",
   "metadata": {},
   "outputs": [],
   "source": [
    "df4 = df3.copy()\n",
    "df4[\"diag_1\"] = df4[\"diag_1\"].apply(icd)"
   ]
  },
  {
   "cell_type": "markdown",
   "id": "looking-orchestra",
   "metadata": {},
   "source": [
    "#### Age\n",
    "\n",
    "The age group feature in this data set is an ordinal variable, therefore it could be turned into a numerical variable by replacing each group with their means, thus avoid creating too many new features after the one-hot encoding process."
   ]
  },
  {
   "cell_type": "code",
   "execution_count": 50,
   "id": "given-surface",
   "metadata": {},
   "outputs": [],
   "source": [
    "age_map = {'[0-10)': 5,\n",
    "           '[10-20)': 15,\n",
    "           '[20-30)': 25,\n",
    "           '[30-40)': 35,\n",
    "           '[40-50)': 45,\n",
    "           '[50-60)': 55,\n",
    "           '[60-70)': 65,\n",
    "           '[70-80)': 75,\n",
    "           '[80-90)': 85,\n",
    "           '[90-100)': 95}\n",
    "\n",
    "df4[\"age\"].replace(age_map, inplace=True)"
   ]
  },
  {
   "cell_type": "markdown",
   "id": "closing-landscape",
   "metadata": {},
   "source": [
    "### Glucose serum test result (max_glu_serum) and A1c test\n",
    "\n",
    "This variable indicates the range of the result if the test was not taken. It can be converted into an ordinal variable and spare the creation of unnecessary one-hot features. According to the [Mayo Clinic](https://www.mayoclinic.org/diseases-conditions/diabetes/diagnosis-treatment/drc-20371451), a blood sugar level less than 140 mg/dL is normal. A reading between 140 and 199 mg/dL indicates prediabetes. A reading of more than 200 mg/dL after two hours indicates diabetes.\n",
    "\n",
    "However, the data set isn't clear whether the glucose serum test was made during fasting or at random, so the \"official\" ranges from the Mayo Clinic may be not be used as a basis for comparison."
   ]
  },
  {
   "cell_type": "markdown",
   "id": "short-plane",
   "metadata": {},
   "source": [
    "According to the literature, adjusting the patient's medication according to HbA1C levels can diminish early readmission rates. Therefore, this new variable is going to be incorporated into the model, and will be 0 if `A1Cresult` is \"none\" or 1 otherwise. So I want a new variable to check whether a glucose was ordered."
   ]
  },
  {
   "cell_type": "code",
   "execution_count": 51,
   "id": "pleased-trouble",
   "metadata": {},
   "outputs": [],
   "source": [
    "df4[\"A1C_tested\"] = df[\"A1Cresult\"].apply(lambda x: 0 if x == \"None\" else 1)\n",
    "df4[\"max_glu_serum_tested\"] = df[\"max_glu_serum\"].apply(lambda x: 0 if x == \"None\" else 1)"
   ]
  },
  {
   "cell_type": "code",
   "execution_count": 52,
   "id": "patent-scroll",
   "metadata": {},
   "outputs": [],
   "source": [
    "df4 = pd.get_dummies(df4, columns=[\"max_glu_serum\", \"A1Cresult\"])"
   ]
  },
  {
   "cell_type": "markdown",
   "id": "representative-prior",
   "metadata": {},
   "source": [
    "#### Target variable (readmitted)"
   ]
  },
  {
   "cell_type": "code",
   "execution_count": 53,
   "id": "august-homeless",
   "metadata": {},
   "outputs": [],
   "source": [
    "df4['readmitted'] = df4['readmitted'].apply(lambda x: 1 if x == \"<30\" else 0)"
   ]
  },
  {
   "cell_type": "markdown",
   "id": "confident-stephen",
   "metadata": {},
   "source": [
    "## Modeling"
   ]
  },
  {
   "cell_type": "code",
   "execution_count": 54,
   "id": "other-subscriber",
   "metadata": {},
   "outputs": [
    {
     "data": {
      "text/plain": [
       "Index(['race', 'gender', 'age', 'admission_type_id',\n",
       "       'discharge_disposition_id', 'admission_source_id', 'time_in_hospital',\n",
       "       'medical_specialty', 'num_lab_procedures', 'num_procedures',\n",
       "       'num_medications', 'number_outpatient', 'number_emergency',\n",
       "       'number_inpatient', 'diag_1', 'number_diagnoses', 'metformin',\n",
       "       'repaglinide', 'nateglinide', 'chlorpropamide', 'glimepiride',\n",
       "       'acetohexamide', 'glipizide', 'glyburide', 'tolbutamide',\n",
       "       'pioglitazone', 'rosiglitazone', 'acarbose', 'miglitol', 'troglitazone',\n",
       "       'tolazamide', 'insulin', 'glyburide-metformin', 'glipizide-metformin',\n",
       "       'glimepiride-pioglitazone', 'metformin-rosiglitazone',\n",
       "       'metformin-pioglitazone', 'change', 'diabetesMed', 'readmitted',\n",
       "       'A1C_tested', 'max_glu_serum_tested', 'max_glu_serum_>200',\n",
       "       'max_glu_serum_>300', 'max_glu_serum_None', 'max_glu_serum_Norm',\n",
       "       'A1Cresult_>7', 'A1Cresult_>8', 'A1Cresult_None', 'A1Cresult_Norm'],\n",
       "      dtype='object')"
      ]
     },
     "execution_count": 54,
     "metadata": {},
     "output_type": "execute_result"
    }
   ],
   "source": [
    "df4.columns"
   ]
  },
  {
   "cell_type": "code",
   "execution_count": 55,
   "id": "known-viewer",
   "metadata": {},
   "outputs": [
    {
     "ename": "KeyError",
     "evalue": "\"['A1Cresult', 'max_glu_serum'] not in index\"",
     "output_type": "error",
     "traceback": [
      "\u001b[0;31m---------------------------------------------------------------------------\u001b[0m",
      "\u001b[0;31mKeyError\u001b[0m                                  Traceback (most recent call last)",
      "\u001b[0;32m<ipython-input-55-d31c2c862ecb>\u001b[0m in \u001b[0;36m<module>\u001b[0;34m\u001b[0m\n\u001b[0;32m----> 1\u001b[0;31m df5 = df4[['race', 'gender', 'age', 'admission_type_id',\n\u001b[0m\u001b[1;32m      2\u001b[0m        \u001b[0;34m'discharge_disposition_id'\u001b[0m\u001b[0;34m,\u001b[0m \u001b[0;34m'admission_source_id'\u001b[0m\u001b[0;34m,\u001b[0m \u001b[0;34m'time_in_hospital'\u001b[0m\u001b[0;34m,\u001b[0m\u001b[0;34m\u001b[0m\u001b[0;34m\u001b[0m\u001b[0m\n\u001b[1;32m      3\u001b[0m        \u001b[0;34m'medical_specialty'\u001b[0m\u001b[0;34m,\u001b[0m \u001b[0;34m'num_lab_procedures'\u001b[0m\u001b[0;34m,\u001b[0m \u001b[0;34m'num_procedures'\u001b[0m\u001b[0;34m,\u001b[0m\u001b[0;34m\u001b[0m\u001b[0;34m\u001b[0m\u001b[0m\n\u001b[1;32m      4\u001b[0m        \u001b[0;34m'num_medications'\u001b[0m\u001b[0;34m,\u001b[0m \u001b[0;34m'number_outpatient'\u001b[0m\u001b[0;34m,\u001b[0m \u001b[0;34m'number_emergency'\u001b[0m\u001b[0;34m,\u001b[0m\u001b[0;34m\u001b[0m\u001b[0;34m\u001b[0m\u001b[0m\n\u001b[1;32m      5\u001b[0m        \u001b[0;34m'number_inpatient'\u001b[0m\u001b[0;34m,\u001b[0m \u001b[0;34m'diag_1'\u001b[0m\u001b[0;34m,\u001b[0m \u001b[0;34m'number_diagnoses'\u001b[0m\u001b[0;34m,\u001b[0m \u001b[0;34m'max_glu_serum'\u001b[0m\u001b[0;34m,\u001b[0m\u001b[0;34m\u001b[0m\u001b[0;34m\u001b[0m\u001b[0m\n",
      "\u001b[0;32m/usr/lib/python3.9/site-packages/pandas/core/frame.py\u001b[0m in \u001b[0;36m__getitem__\u001b[0;34m(self, key)\u001b[0m\n\u001b[1;32m   3028\u001b[0m             \u001b[0;32mif\u001b[0m \u001b[0mis_iterator\u001b[0m\u001b[0;34m(\u001b[0m\u001b[0mkey\u001b[0m\u001b[0;34m)\u001b[0m\u001b[0;34m:\u001b[0m\u001b[0;34m\u001b[0m\u001b[0;34m\u001b[0m\u001b[0m\n\u001b[1;32m   3029\u001b[0m                 \u001b[0mkey\u001b[0m \u001b[0;34m=\u001b[0m \u001b[0mlist\u001b[0m\u001b[0;34m(\u001b[0m\u001b[0mkey\u001b[0m\u001b[0;34m)\u001b[0m\u001b[0;34m\u001b[0m\u001b[0;34m\u001b[0m\u001b[0m\n\u001b[0;32m-> 3030\u001b[0;31m             \u001b[0mindexer\u001b[0m \u001b[0;34m=\u001b[0m \u001b[0mself\u001b[0m\u001b[0;34m.\u001b[0m\u001b[0mloc\u001b[0m\u001b[0;34m.\u001b[0m\u001b[0m_get_listlike_indexer\u001b[0m\u001b[0;34m(\u001b[0m\u001b[0mkey\u001b[0m\u001b[0;34m,\u001b[0m \u001b[0maxis\u001b[0m\u001b[0;34m=\u001b[0m\u001b[0;36m1\u001b[0m\u001b[0;34m,\u001b[0m \u001b[0mraise_missing\u001b[0m\u001b[0;34m=\u001b[0m\u001b[0;32mTrue\u001b[0m\u001b[0;34m)\u001b[0m\u001b[0;34m[\u001b[0m\u001b[0;36m1\u001b[0m\u001b[0;34m]\u001b[0m\u001b[0;34m\u001b[0m\u001b[0;34m\u001b[0m\u001b[0m\n\u001b[0m\u001b[1;32m   3031\u001b[0m \u001b[0;34m\u001b[0m\u001b[0m\n\u001b[1;32m   3032\u001b[0m         \u001b[0;31m# take() does not accept boolean indexers\u001b[0m\u001b[0;34m\u001b[0m\u001b[0;34m\u001b[0m\u001b[0;34m\u001b[0m\u001b[0m\n",
      "\u001b[0;32m/usr/lib/python3.9/site-packages/pandas/core/indexing.py\u001b[0m in \u001b[0;36m_get_listlike_indexer\u001b[0;34m(self, key, axis, raise_missing)\u001b[0m\n\u001b[1;32m   1264\u001b[0m             \u001b[0mkeyarr\u001b[0m\u001b[0;34m,\u001b[0m \u001b[0mindexer\u001b[0m\u001b[0;34m,\u001b[0m \u001b[0mnew_indexer\u001b[0m \u001b[0;34m=\u001b[0m \u001b[0max\u001b[0m\u001b[0;34m.\u001b[0m\u001b[0m_reindex_non_unique\u001b[0m\u001b[0;34m(\u001b[0m\u001b[0mkeyarr\u001b[0m\u001b[0;34m)\u001b[0m\u001b[0;34m\u001b[0m\u001b[0;34m\u001b[0m\u001b[0m\n\u001b[1;32m   1265\u001b[0m \u001b[0;34m\u001b[0m\u001b[0m\n\u001b[0;32m-> 1266\u001b[0;31m         \u001b[0mself\u001b[0m\u001b[0;34m.\u001b[0m\u001b[0m_validate_read_indexer\u001b[0m\u001b[0;34m(\u001b[0m\u001b[0mkeyarr\u001b[0m\u001b[0;34m,\u001b[0m \u001b[0mindexer\u001b[0m\u001b[0;34m,\u001b[0m \u001b[0maxis\u001b[0m\u001b[0;34m,\u001b[0m \u001b[0mraise_missing\u001b[0m\u001b[0;34m=\u001b[0m\u001b[0mraise_missing\u001b[0m\u001b[0;34m)\u001b[0m\u001b[0;34m\u001b[0m\u001b[0;34m\u001b[0m\u001b[0m\n\u001b[0m\u001b[1;32m   1267\u001b[0m         \u001b[0;32mreturn\u001b[0m \u001b[0mkeyarr\u001b[0m\u001b[0;34m,\u001b[0m \u001b[0mindexer\u001b[0m\u001b[0;34m\u001b[0m\u001b[0;34m\u001b[0m\u001b[0m\n\u001b[1;32m   1268\u001b[0m \u001b[0;34m\u001b[0m\u001b[0m\n",
      "\u001b[0;32m/usr/lib/python3.9/site-packages/pandas/core/indexing.py\u001b[0m in \u001b[0;36m_validate_read_indexer\u001b[0;34m(self, key, indexer, axis, raise_missing)\u001b[0m\n\u001b[1;32m   1314\u001b[0m             \u001b[0;32mif\u001b[0m \u001b[0mraise_missing\u001b[0m\u001b[0;34m:\u001b[0m\u001b[0;34m\u001b[0m\u001b[0;34m\u001b[0m\u001b[0m\n\u001b[1;32m   1315\u001b[0m                 \u001b[0mnot_found\u001b[0m \u001b[0;34m=\u001b[0m \u001b[0mlist\u001b[0m\u001b[0;34m(\u001b[0m\u001b[0mset\u001b[0m\u001b[0;34m(\u001b[0m\u001b[0mkey\u001b[0m\u001b[0;34m)\u001b[0m \u001b[0;34m-\u001b[0m \u001b[0mset\u001b[0m\u001b[0;34m(\u001b[0m\u001b[0max\u001b[0m\u001b[0;34m)\u001b[0m\u001b[0;34m)\u001b[0m\u001b[0;34m\u001b[0m\u001b[0;34m\u001b[0m\u001b[0m\n\u001b[0;32m-> 1316\u001b[0;31m                 \u001b[0;32mraise\u001b[0m \u001b[0mKeyError\u001b[0m\u001b[0;34m(\u001b[0m\u001b[0;34mf\"{not_found} not in index\"\u001b[0m\u001b[0;34m)\u001b[0m\u001b[0;34m\u001b[0m\u001b[0;34m\u001b[0m\u001b[0m\n\u001b[0m\u001b[1;32m   1317\u001b[0m \u001b[0;34m\u001b[0m\u001b[0m\n\u001b[1;32m   1318\u001b[0m             \u001b[0mnot_found\u001b[0m \u001b[0;34m=\u001b[0m \u001b[0mkey\u001b[0m\u001b[0;34m[\u001b[0m\u001b[0mmissing_mask\u001b[0m\u001b[0;34m]\u001b[0m\u001b[0;34m\u001b[0m\u001b[0;34m\u001b[0m\u001b[0m\n",
      "\u001b[0;31mKeyError\u001b[0m: \"['A1Cresult', 'max_glu_serum'] not in index\""
     ]
    }
   ],
   "source": [
    "df5 = df4.drop(['admission_type_id',\n",
    "       'time_in_hospital',\n",
    "       'medical_specialty', 'num_lab_procedures', 'num_procedures',\n",
    "       'num_medications', 'number_outpatient', 'number_emergency',\n",
    "       'number_inpatient', 'diag_1', 'number_diagnoses', 'metformin',\n",
    "       'repaglinide', 'nateglinide', 'chlorpropamide', 'glimepiride',\n",
    "       'acetohexamide', 'glipizide', 'glyburide', 'tolbutamide',\n",
    "       'pioglitazone', 'rosiglitazone', 'acarbose', 'miglitol', 'troglitazone',\n",
    "       'tolazamide', 'insulin', 'glyburide-metformin', 'glipizide-metformin',\n",
    "       'glimepiride-pioglitazone', 'metformin-rosiglitazone',\n",
    "       'metformin-pioglitazone', 'change', 'diabetesMed', 'readmitted',\n",
    "       'A1C_tested', 'max_glu_serum_tested', 'max_glu_serum_>200',\n",
    "       'max_glu_serum_>300', 'max_glu_serum_None', 'max_glu_serum_Norm',\n",
    "       'A1Cresult_>7', 'A1Cresult_>8', 'A1Cresult_None', 'A1Cresult_Norm'], axis=1])"
   ]
  },
  {
   "cell_type": "code",
   "execution_count": null,
   "id": "acute-techno",
   "metadata": {},
   "outputs": [],
   "source": [
    "df5.info()"
   ]
  },
  {
   "cell_type": "code",
   "execution_count": null,
   "id": "spiritual-sleep",
   "metadata": {},
   "outputs": [],
   "source": []
  },
  {
   "cell_type": "markdown",
   "id": "neither-memorabilia",
   "metadata": {},
   "source": [
    "## Evaluation"
   ]
  }
 ],
 "metadata": {
  "kernelspec": {
   "display_name": "Python 3",
   "language": "python",
   "name": "python3"
  },
  "language_info": {
   "codemirror_mode": {
    "name": "ipython",
    "version": 3
   },
   "file_extension": ".py",
   "mimetype": "text/x-python",
   "name": "python",
   "nbconvert_exporter": "python",
   "pygments_lexer": "ipython3",
   "version": "3.9.4"
  }
 },
 "nbformat": 4,
 "nbformat_minor": 5
}
