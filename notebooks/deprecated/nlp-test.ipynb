{
 "cells": [
  {
   "cell_type": "code",
   "execution_count": 30,
   "id": "chicken-speech",
   "metadata": {
    "id": "chicken-speech"
   },
   "outputs": [],
   "source": [
    "import pandas as pd\n",
    "import numpy as np\n",
    "from sklearn.feature_selection import VarianceThreshold\n",
    "from sklearn.model_selection import train_test_split\n",
    "from sklearn.pipeline import Pipeline\n",
    "from sklearn.metrics import roc_auc_score\n",
    "from sklearn.metrics import recall_score, precision_score\n",
    "from scipy.sparse import save_npz, load_npz\n",
    "from sklearn.feature_selection import SelectKBest,f_classif\n",
    "from sklearn.svm import LinearSVC"
   ]
  },
  {
   "cell_type": "code",
   "execution_count": 31,
   "id": "fatal-college",
   "metadata": {
    "colab": {
     "base_uri": "https://localhost:8080/",
     "height": 283
    },
    "id": "fatal-college",
    "outputId": "a5af2303-69df-4759-d9e2-50e9373a7efb"
   },
   "outputs": [],
   "source": [
    "df = pd.read_csv(\"../../data/diabetic_data.zip\")"
   ]
  },
  {
   "cell_type": "code",
   "execution_count": 32,
   "id": "hairy-flash",
   "metadata": {},
   "outputs": [],
   "source": [
    "bow = load_npz(\"../../data/processed/bow.npz\")"
   ]
  },
  {
   "cell_type": "code",
   "execution_count": 33,
   "id": "affecting-subject",
   "metadata": {
    "id": "affecting-subject"
   },
   "outputs": [],
   "source": [
    "df['readmitted'] = df['readmitted'].apply(lambda x: 1 if x == \"<30\" else 0)\n",
    "y = df['readmitted'].values\n",
    "X = bow"
   ]
  },
  {
   "cell_type": "code",
   "execution_count": 34,
   "id": "distinguished-aircraft",
   "metadata": {
    "id": "distinguished-aircraft"
   },
   "outputs": [],
   "source": [
    "X_train, X_test, y_train, y_test = train_test_split(X,y,random_state=33634)"
   ]
  },
  {
   "cell_type": "code",
   "execution_count": 35,
   "id": "suspended-southwest",
   "metadata": {},
   "outputs": [
    {
     "name": "stdout",
     "output_type": "stream",
     "text": [
      "k = 50, ROC: 0.582, recall: 0.499, precision: 0.135\n",
      "k = 100, ROC: 0.589, recall: 0.535, precision: 0.136\n",
      "k = 150, ROC: 0.589, recall: 0.544, precision: 0.135\n",
      "k = 200, ROC: 0.589, recall: 0.545, precision: 0.136\n",
      "k = 250, ROC: 0.589, recall: 0.559, precision: 0.135\n",
      "k = 300, ROC: 0.589, recall: 0.555, precision: 0.135\n",
      "k = 350, ROC: 0.591, recall: 0.566, precision: 0.136\n",
      "k = 400, ROC: 0.591, recall: 0.566, precision: 0.135\n",
      "k = 450, ROC: 0.589, recall: 0.563, precision: 0.134\n",
      "k = 500, ROC: 0.589, recall: 0.564, precision: 0.134\n",
      "k = 550, ROC: 0.589, recall: 0.563, precision: 0.134\n"
     ]
    }
   ],
   "source": [
    "for k in np.arange(50,600,50):\n",
    "    pipeline = Pipeline([\n",
    "        (\"varthres\", VarianceThreshold()),\n",
    "        (\"select\", SelectKBest(f_classif, k=k)),\n",
    "        (\"clf\", LinearSVC(class_weight=\"balanced\"))\n",
    "    ])\n",
    "    pipeline.fit(X_train, y_train) \n",
    "    roc = roc_auc_score(y_test, pipeline.decision_function(X_test))\n",
    "    recall = recall_score(y_test, pipeline.predict(X_test))\n",
    "    precision = precision_score(y_test, pipeline.predict(X_test))\n",
    "    print(\"k = {}, ROC: {:.3f}, recall: {:.3f}, precision: {:.3f}\".format(k, roc, recall, precision))"
   ]
  }
 ],
 "metadata": {
  "colab": {
   "collapsed_sections": [
    "overhead-timer",
    "limiting-increase",
    "e9c3bbc1"
   ],
   "name": "Cópia de diabetes.ipynb",
   "provenance": []
  },
  "kernelspec": {
   "display_name": "Python 3",
   "language": "python",
   "name": "python3"
  },
  "language_info": {
   "codemirror_mode": {
    "name": "ipython",
    "version": 3
   },
   "file_extension": ".py",
   "mimetype": "text/x-python",
   "name": "python",
   "nbconvert_exporter": "python",
   "pygments_lexer": "ipython3",
   "version": "3.9.4"
  }
 },
 "nbformat": 4,
 "nbformat_minor": 5
}
